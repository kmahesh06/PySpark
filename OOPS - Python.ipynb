{
 "cells": [
  {
   "cell_type": "code",
   "execution_count": 2,
   "id": "6b1fedf5",
   "metadata": {},
   "outputs": [],
   "source": [
    "#Functions"
   ]
  },
  {
   "cell_type": "code",
   "execution_count": 3,
   "id": "bed331be",
   "metadata": {},
   "outputs": [],
   "source": [
    "lists=[23,45,67,34,89]"
   ]
  },
  {
   "cell_type": "code",
   "execution_count": 4,
   "id": "9f6587b1",
   "metadata": {},
   "outputs": [],
   "source": [
    "def AgeCategory():\n",
    "    for age in lists:\n",
    "        if(age<18):\n",
    "            print(\"Children\")\n",
    "        elif(age<35):\n",
    "            print(\"Adult\")\n",
    "        elif(age<59):\n",
    "            print(\"Citizen\")\n",
    "        else:\n",
    "            print(\"Senior Citizen\")"
   ]
  },
  {
   "cell_type": "code",
   "execution_count": 5,
   "id": "399e7347",
   "metadata": {},
   "outputs": [
    {
     "name": "stdout",
     "output_type": "stream",
     "text": [
      "Adult\n",
      "Citizen\n",
      "Senior Citizen\n",
      "Adult\n",
      "Senior Citizen\n"
     ]
    }
   ],
   "source": [
    "AgeCategory()"
   ]
  },
  {
   "cell_type": "code",
   "execution_count": 9,
   "id": "11e0c65e",
   "metadata": {},
   "outputs": [
    {
     "name": "stdout",
     "output_type": "stream",
     "text": [
      "Enter the Age:45\n"
     ]
    }
   ],
   "source": [
    "agee= int(input(\"Enter the Age:\"))"
   ]
  },
  {
   "cell_type": "code",
   "execution_count": 10,
   "id": "a1dc3117",
   "metadata": {},
   "outputs": [],
   "source": [
    "def AgeCategory():\n",
    "    if(agee<18):\n",
    "            print(\"Children\")\n",
    "            cate=\"Children\"\n",
    "    elif(agee<35):\n",
    "            print(\"Adult\")\n",
    "            cate=\"Adult\"\n",
    "    elif(agee<59):\n",
    "            print(\"Citizen\")\n",
    "            cate=\"Citizen\"\n",
    "    else:\n",
    "            print(\"Senior Citizen\")\n",
    "            cate=\"Senior Citizen\"\n",
    "    return cate"
   ]
  },
  {
   "cell_type": "code",
   "execution_count": 11,
   "id": "701d41ea",
   "metadata": {},
   "outputs": [
    {
     "name": "stdout",
     "output_type": "stream",
     "text": [
      "Citizen\n"
     ]
    },
    {
     "data": {
      "text/plain": [
       "'Citizen'"
      ]
     },
     "execution_count": 11,
     "metadata": {},
     "output_type": "execute_result"
    }
   ],
   "source": [
    "AgeCategory()"
   ]
  },
  {
   "cell_type": "code",
   "execution_count": 12,
   "id": "8f9f2e23",
   "metadata": {},
   "outputs": [
    {
     "name": "stdout",
     "output_type": "stream",
     "text": [
      "Citizen\n"
     ]
    }
   ],
   "source": [
    "AgeCate = AgeCategory()"
   ]
  },
  {
   "cell_type": "code",
   "execution_count": 13,
   "id": "7a72696c",
   "metadata": {},
   "outputs": [
    {
     "data": {
      "text/plain": [
       "'Citizen'"
      ]
     },
     "execution_count": 13,
     "metadata": {},
     "output_type": "execute_result"
    }
   ],
   "source": [
    "AgeCate"
   ]
  },
  {
   "cell_type": "code",
   "execution_count": 14,
   "id": "3d4721a8",
   "metadata": {},
   "outputs": [],
   "source": [
    "def AgeCategories():\n",
    "    if(agee<18):\n",
    "            print(\"Children\")\n",
    "            cate=\"Children\"\n",
    "    elif(agee<35):\n",
    "            print(\"Adult\")\n",
    "            cate=\"Adult\"\n",
    "    elif(agee<59):\n",
    "            print(\"Citizen\")\n",
    "            cate=\"Citizen\"\n",
    "    else:\n",
    "            print(\"Senior Citizen\")\n",
    "            cate=\"Senior Citizen\"\n",
    "    return cate"
   ]
  },
  {
   "cell_type": "code",
   "execution_count": 16,
   "id": "8c5be676",
   "metadata": {},
   "outputs": [
    {
     "name": "stdout",
     "output_type": "stream",
     "text": [
      "Enter the Age:24\n",
      "Adult\n",
      "Adult\n"
     ]
    }
   ],
   "source": [
    "agee= int(input(\"Enter the Age:\"))\n",
    "agecate = AgeCategories()\n",
    "print(agecate)"
   ]
  },
  {
   "cell_type": "code",
   "execution_count": 17,
   "id": "6e22bd61",
   "metadata": {},
   "outputs": [
    {
     "name": "stdout",
     "output_type": "stream",
     "text": [
      "Enter the Age:34\n",
      "Adult\n"
     ]
    }
   ],
   "source": [
    "agee= int(input(\"Enter the Age:\"))\n",
    "agecate2 = AgeCategories()"
   ]
  },
  {
   "cell_type": "code",
   "execution_count": 18,
   "id": "4b7d9b47",
   "metadata": {},
   "outputs": [
    {
     "name": "stdout",
     "output_type": "stream",
     "text": [
      "Enter the Age:45\n",
      "Citizen\n"
     ]
    }
   ],
   "source": [
    "agee= int(input(\"Enter the Age:\"))\n",
    "agecate3 = AgeCategories()"
   ]
  },
  {
   "cell_type": "code",
   "execution_count": 19,
   "id": "56112319",
   "metadata": {},
   "outputs": [
    {
     "name": "stdout",
     "output_type": "stream",
     "text": [
      "Enter the Age:64\n",
      "Senior Citizen\n"
     ]
    }
   ],
   "source": [
    "agee= int(input(\"Enter the Age:\"))\n",
    "agecate4 = AgeCategories()"
   ]
  },
  {
   "cell_type": "code",
   "execution_count": null,
   "id": "a69f0e59",
   "metadata": {},
   "outputs": [],
   "source": []
  }
 ],
 "metadata": {
  "kernelspec": {
   "display_name": "Python 3 (ipykernel)",
   "language": "python",
   "name": "python3"
  },
  "language_info": {
   "codemirror_mode": {
    "name": "ipython",
    "version": 3
   },
   "file_extension": ".py",
   "mimetype": "text/x-python",
   "name": "python",
   "nbconvert_exporter": "python",
   "pygments_lexer": "ipython3",
   "version": "3.11.5"
  }
 },
 "nbformat": 4,
 "nbformat_minor": 5
}
