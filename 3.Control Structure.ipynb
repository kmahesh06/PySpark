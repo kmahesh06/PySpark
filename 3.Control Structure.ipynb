{
 "cells": [
  {
   "cell_type": "code",
   "execution_count": null,
   "id": "b5007c97",
   "metadata": {},
   "outputs": [],
   "source": [
    "#if\n",
    " if():\n",
    "        print()\n",
    "        \n",
    "if(age==18):\n",
    "    print(\"Adult\")"
   ]
  },
  {
   "cell_type": "code",
   "execution_count": 2,
   "id": "18efe914",
   "metadata": {},
   "outputs": [
    {
     "name": "stdout",
     "output_type": "stream",
     "text": [
      "Enter the Age :32\n"
     ]
    }
   ],
   "source": [
    "age= int(input(\"Enter the Age :\"))"
   ]
  },
  {
   "cell_type": "code",
   "execution_count": null,
   "id": "cc8b214c",
   "metadata": {},
   "outputs": [],
   "source": []
  },
  {
   "cell_type": "code",
   "execution_count": 3,
   "id": "d49d6eb3",
   "metadata": {},
   "outputs": [
    {
     "name": "stdout",
     "output_type": "stream",
     "text": [
      "Age in Adult category\n"
     ]
    }
   ],
   "source": [
    "if (age>=18):\n",
    "    print(\"Age in Adult category\")\n",
    "else:\n",
    "    print(\"Age not in Adult category\")"
   ]
  },
  {
   "cell_type": "code",
   "execution_count": 6,
   "id": "141bdf5d",
   "metadata": {},
   "outputs": [
    {
     "name": "stdout",
     "output_type": "stream",
     "text": [
      "Adult\n"
     ]
    }
   ],
   "source": [
    "if(age<18):\n",
    "    print (\"Children\")\n",
    "else:\n",
    "    print (\"Adult\")"
   ]
  },
  {
   "cell_type": "code",
   "execution_count": null,
   "id": "314ebab2",
   "metadata": {},
   "outputs": [],
   "source": []
  },
  {
   "cell_type": "code",
   "execution_count": null,
   "id": "682287a1",
   "metadata": {},
   "outputs": [],
   "source": []
  },
  {
   "cell_type": "code",
   "execution_count": null,
   "id": "22df5be0",
   "metadata": {},
   "outputs": [],
   "source": []
  },
  {
   "cell_type": "code",
   "execution_count": null,
   "id": "24d81651",
   "metadata": {},
   "outputs": [],
   "source": [
    "for temp in range(1,35):"
   ]
  },
  {
   "cell_type": "code",
   "execution_count": null,
   "id": "c0df9edd",
   "metadata": {},
   "outputs": [],
   "source": [
    "def():"
   ]
  }
 ],
 "metadata": {
  "kernelspec": {
   "display_name": "Python 3 (ipykernel)",
   "language": "python",
   "name": "python3"
  },
  "language_info": {
   "codemirror_mode": {
    "name": "ipython",
    "version": 3
   },
   "file_extension": ".py",
   "mimetype": "text/x-python",
   "name": "python",
   "nbconvert_exporter": "python",
   "pygments_lexer": "ipython3",
   "version": "3.11.5"
  }
 },
 "nbformat": 4,
 "nbformat_minor": 5
}
