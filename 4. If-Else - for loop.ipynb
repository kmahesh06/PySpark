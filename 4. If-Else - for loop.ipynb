{
 "cells": [
  {
   "cell_type": "code",
   "execution_count": 2,
   "id": "3bd1d483",
   "metadata": {},
   "outputs": [],
   "source": [
    "#if-else"
   ]
  },
  {
   "cell_type": "code",
   "execution_count": 13,
   "id": "7b6bef25",
   "metadata": {},
   "outputs": [
    {
     "name": "stdout",
     "output_type": "stream",
     "text": [
      "Enter the age:17\n",
      "Children\n"
     ]
    }
   ],
   "source": [
    "age=int(input(\"Enter the age:\"))\n",
    "if(age<18):\n",
    "    print (\"Children\")\n",
    "else:\n",
    "    print (\"Adult\")"
   ]
  },
  {
   "cell_type": "code",
   "execution_count": null,
   "id": "80e57c85",
   "metadata": {},
   "outputs": [],
   "source": [
    "#if-elif"
   ]
  },
  {
   "cell_type": "code",
   "execution_count": null,
   "id": "b2af07b6",
   "metadata": {},
   "outputs": [],
   "source": [
    "if():\n",
    "    print()\n",
    "    elif():\n",
    "        print()\n",
    "        elif():\n",
    "            print()\n",
    "            else:\n",
    "                print()"
   ]
  },
  {
   "cell_type": "code",
   "execution_count": 15,
   "id": "19cf49b3",
   "metadata": {},
   "outputs": [
    {
     "name": "stdout",
     "output_type": "stream",
     "text": [
      "Enter the age:59\n",
      "Senior CitiZen\n"
     ]
    }
   ],
   "source": [
    "age=int(input(\"Enter the age:\"))\n",
    "if(age<18):\n",
    "    print (\"Children\")\n",
    "elif(age<35):\n",
    "    print (\"Adult\")\n",
    "elif(age<59):\n",
    "    print (\"CitiZen\")\n",
    "else:\n",
    "    print(\"Senior CitiZen\")"
   ]
  },
  {
   "cell_type": "code",
   "execution_count": null,
   "id": "2435ff80",
   "metadata": {},
   "outputs": [],
   "source": [
    "#for loop - Multiple Inputs for one condition"
   ]
  },
  {
   "cell_type": "code",
   "execution_count": 19,
   "id": "e3092fc6",
   "metadata": {},
   "outputs": [],
   "source": [
    "#syntax\n",
    "for temp in mainvariable:\n",
    "    print()"
   ]
  },
  {
   "cell_type": "code",
   "execution_count": 23,
   "id": "f630a4d8",
   "metadata": {},
   "outputs": [],
   "source": [
    "lists = [23,45,67,89,90,17]"
   ]
  },
  {
   "cell_type": "code",
   "execution_count": 24,
   "id": "ac62cca2",
   "metadata": {},
   "outputs": [
    {
     "name": "stdout",
     "output_type": "stream",
     "text": [
      "23\n",
      "45\n",
      "67\n",
      "89\n",
      "90\n",
      "17\n"
     ]
    }
   ],
   "source": [
    "for temp in lists:\n",
    "    print(temp)"
   ]
  },
  {
   "cell_type": "code",
   "execution_count": 27,
   "id": "5817d2a7",
   "metadata": {},
   "outputs": [
    {
     "name": "stdout",
     "output_type": "stream",
     "text": [
      "Adult\n",
      "CitiZen\n",
      "Senior CitiZen\n",
      "Senior CitiZen\n",
      "Senior CitiZen\n",
      "Children\n"
     ]
    }
   ],
   "source": [
    "for age in lists:\n",
    "    if(age<18):\n",
    "        print (\"Children\")\n",
    "    elif(age<35):\n",
    "        print (\"Adult\")\n",
    "    elif(age<59):\n",
    "        print (\"CitiZen\")\n",
    "    else:\n",
    "        print(\"Senior CitiZen\")"
   ]
  },
  {
   "cell_type": "code",
   "execution_count": 30,
   "id": "f17635c5",
   "metadata": {},
   "outputs": [
    {
     "name": "stdout",
     "output_type": "stream",
     "text": [
      "Enter the Number:5\n",
      "Odd Number\n"
     ]
    }
   ],
   "source": [
    "num = int(input(\"Enter the Number:\"))\n",
    "if((num%2)==0):\n",
    "    print(\"Even Number\")\n",
    "else:\n",
    "    print(\"Odd Number\")"
   ]
  },
  {
   "cell_type": "code",
   "execution_count": 31,
   "id": "d5e26cf0",
   "metadata": {},
   "outputs": [
    {
     "name": "stdout",
     "output_type": "stream",
     "text": [
      "Enter the Number:6\n",
      "Even Number\n"
     ]
    }
   ],
   "source": [
    "num = int(input(\"Enter the Number:\"))\n",
    "if((num%2)==1):\n",
    "    print(\"Odd Number\")\n",
    "else:\n",
    "    print(\"Even Number\")"
   ]
  },
  {
   "cell_type": "code",
   "execution_count": null,
   "id": "14b8fe1e",
   "metadata": {},
   "outputs": [],
   "source": []
  }
 ],
 "metadata": {
  "kernelspec": {
   "display_name": "Python 3 (ipykernel)",
   "language": "python",
   "name": "python3"
  },
  "language_info": {
   "codemirror_mode": {
    "name": "ipython",
    "version": 3
   },
   "file_extension": ".py",
   "mimetype": "text/x-python",
   "name": "python",
   "nbconvert_exporter": "python",
   "pygments_lexer": "ipython3",
   "version": "3.11.5"
  }
 },
 "nbformat": 4,
 "nbformat_minor": 5
}
