{
 "cells": [
  {
   "cell_type": "code",
   "execution_count": 1,
   "id": "a67cb351",
   "metadata": {},
   "outputs": [],
   "source": [
    "def oddEven():\n",
    "    num = int(input(\"Enter the Number:\"))\n",
    "    if((num%2==1)):\n",
    "        print(\"Odd Number\")\n",
    "        message = \"Odd Number\"\n",
    "    else:\n",
    "        print(\"Even Number\")\n",
    "        message = \"Even Number\"\n",
    "    return message"
   ]
  },
  {
   "cell_type": "code",
   "execution_count": 9,
   "id": "376671b9",
   "metadata": {},
   "outputs": [
    {
     "name": "stdout",
     "output_type": "stream",
     "text": [
      "Enter the Number:43\n",
      "oddNumber\n"
     ]
    }
   ],
   "source": [
    "result = oddEven()"
   ]
  },
  {
   "cell_type": "code",
   "execution_count": 10,
   "id": "ea74f363",
   "metadata": {},
   "outputs": [
    {
     "name": "stdout",
     "output_type": "stream",
     "text": [
      "The given number is Odd\n"
     ]
    }
   ],
   "source": [
    "if(result == \"Even Number\"):\n",
    "    print(\"The given number is Even\")\n",
    "else:\n",
    "    print(\"The given number is Odd\")"
   ]
  },
  {
   "cell_type": "code",
   "execution_count": 21,
   "id": "fa6d841d",
   "metadata": {},
   "outputs": [],
   "source": [
    "def BMI():\n",
    "    BMI = int(input(\"Enter the BMI Index:\"))\n",
    "    if(BMI<18.5):\n",
    "        print(\"UnderWeight\")\n",
    "        message = \"UnderWeight\"\n",
    "    elif(BMI>=18.5 and BMI <24.9):\n",
    "        print(\"NormalWeight\")\n",
    "        message = \"NormalWeight\"\n",
    "    elif(BMI>=24.9 and BMI <29.9):\n",
    "        print(\"OverWeight\")\n",
    "        message = \"OverWeight\"\n",
    "    else:\n",
    "        print(\"Very OverWeight\")\n",
    "        message = \"Very OverWeight\"\n",
    "    return message"
   ]
  },
  {
   "cell_type": "code",
   "execution_count": 25,
   "id": "780eedc6",
   "metadata": {},
   "outputs": [
    {
     "name": "stdout",
     "output_type": "stream",
     "text": [
      "Enter the BMI Index:34\n",
      "Very OverWeight\n"
     ]
    }
   ],
   "source": [
    "result = BMI()"
   ]
  },
  {
   "cell_type": "code",
   "execution_count": 26,
   "id": "8e50b1ff",
   "metadata": {},
   "outputs": [
    {
     "data": {
      "text/plain": [
       "9"
      ]
     },
     "execution_count": 26,
     "metadata": {},
     "output_type": "execute_result"
    }
   ],
   "source": [
    "def addition(a,b):\n",
    "    add = a+b\n",
    "    return add\n",
    "addition(4,5)"
   ]
  },
  {
   "cell_type": "code",
   "execution_count": 31,
   "id": "57a9c815",
   "metadata": {},
   "outputs": [
    {
     "data": {
      "text/plain": [
       "20"
      ]
     },
     "execution_count": 31,
     "metadata": {},
     "output_type": "execute_result"
    }
   ],
   "source": [
    "def multiple(c,d):\n",
    "    mul = d*c\n",
    "    return mul\n",
    "multiple(4,5)"
   ]
  },
  {
   "cell_type": "code",
   "execution_count": null,
   "id": "9963c711",
   "metadata": {},
   "outputs": [],
   "source": []
  }
 ],
 "metadata": {
  "kernelspec": {
   "display_name": "Python 3 (ipykernel)",
   "language": "python",
   "name": "python3"
  },
  "language_info": {
   "codemirror_mode": {
    "name": "ipython",
    "version": 3
   },
   "file_extension": ".py",
   "mimetype": "text/x-python",
   "name": "python",
   "nbconvert_exporter": "python",
   "pygments_lexer": "ipython3",
   "version": "3.11.5"
  }
 },
 "nbformat": 4,
 "nbformat_minor": 5
}
