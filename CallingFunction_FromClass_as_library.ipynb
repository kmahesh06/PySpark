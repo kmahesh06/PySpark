{
 "cells": [
  {
   "cell_type": "code",
   "execution_count": 1,
   "id": "8b88e89a",
   "metadata": {},
   "outputs": [],
   "source": [
    "from multipleFunctions import multipleFunction\n",
    "#from filename import classname"
   ]
  },
  {
   "cell_type": "code",
   "execution_count": 4,
   "id": "9d292a5f",
   "metadata": {},
   "outputs": [
    {
     "name": "stdout",
     "output_type": "stream",
     "text": [
      "Enter the BMI Index:34\n",
      "Very OverWeight\n"
     ]
    },
    {
     "data": {
      "text/plain": [
       "'Very OverWeight'"
      ]
     },
     "execution_count": 4,
     "metadata": {},
     "output_type": "execute_result"
    }
   ],
   "source": [
    "multipleFunction.BMI()\n",
    "#classname.functionname"
   ]
  },
  {
   "cell_type": "code",
   "execution_count": 3,
   "id": "31bafaf4",
   "metadata": {},
   "outputs": [
    {
     "name": "stdout",
     "output_type": "stream",
     "text": [
      "Enter the Number:45\n",
      "Odd Number\n"
     ]
    },
    {
     "data": {
      "text/plain": [
       "'Odd Number'"
      ]
     },
     "execution_count": 3,
     "metadata": {},
     "output_type": "execute_result"
    }
   ],
   "source": [
    "multipleFunction.oddEven()"
   ]
  },
  {
   "cell_type": "code",
   "execution_count": null,
   "id": "171d2eec",
   "metadata": {},
   "outputs": [],
   "source": []
  }
 ],
 "metadata": {
  "kernelspec": {
   "display_name": "Python 3 (ipykernel)",
   "language": "python",
   "name": "python3"
  },
  "language_info": {
   "codemirror_mode": {
    "name": "ipython",
    "version": 3
   },
   "file_extension": ".py",
   "mimetype": "text/x-python",
   "name": "python",
   "nbconvert_exporter": "python",
   "pygments_lexer": "ipython3",
   "version": "3.11.5"
  }
 },
 "nbformat": 4,
 "nbformat_minor": 5
}
