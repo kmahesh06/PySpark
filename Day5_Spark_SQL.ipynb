{
 "cells": [
  {
   "cell_type": "code",
   "execution_count": null,
   "id": "23cb38cc-5fd1-4ad4-adad-cc96a4b239a4",
   "metadata": {},
   "outputs": [],
   "source": []
  },
  {
   "cell_type": "markdown",
   "id": "ae14889e-0e98-4464-8086-13888ffbb4a4",
   "metadata": {},
   "source": [
    "## Import PySpark"
   ]
  },
  {
   "cell_type": "code",
   "execution_count": 1,
   "id": "745779fe-cadf-4f79-a849-902cab437231",
   "metadata": {
    "tags": []
   },
   "outputs": [],
   "source": [
    "import findspark\n",
    "findspark.init()\n",
    "\n",
    "import pyspark"
   ]
  },
  {
   "cell_type": "markdown",
   "id": "b98a6f11-15b0-4ad2-89a2-f40730d09b03",
   "metadata": {},
   "source": [
    "## Initiate Spark Session with YARN Mode"
   ]
  },
  {
   "cell_type": "code",
   "execution_count": null,
   "id": "978c7d30-e3af-4af0-9a3d-366924489cf1",
   "metadata": {},
   "outputs": [],
   "source": []
  },
  {
   "cell_type": "code",
   "execution_count": 2,
   "id": "435815f6-a499-4319-a8e8-97b35cf06ceb",
   "metadata": {
    "tags": []
   },
   "outputs": [
    {
     "name": "stderr",
     "output_type": "stream",
     "text": [
      "Setting default log level to \"WARN\".\n",
      "To adjust logging level use sc.setLogLevel(newLevel). For SparkR, use setLogLevel(newLevel).\n"
     ]
    }
   ],
   "source": [
    "from pyspark.conf import SparkConf\n",
    "from pyspark.sql.session import SparkSession\n",
    "import pyspark.sql.functions as F\n",
    "\n",
    "conf=SparkConf()\n",
    "conf.set(\"spark.driver.memory\",      \"1g\") \n",
    "conf.set(\"spark.executor.memory\",    \"1g\")\n",
    "conf.set(\"spark.executor.instances\", \"3\" )\n",
    "# conf.set(\"spark.jars.packages\", \"org.apache.spark:spark-avro_2.12:3.1.2\")\n",
    "\n",
    "spark = SparkSession.builder.master(\"yarn\").appName(\"Spark BDP Example 5\").enableHiveSupport().config(conf=conf).getOrCreate()"
   ]
  },
  {
   "cell_type": "code",
   "execution_count": 3,
   "id": "24d96051-3656-4c1d-bbc3-292d540a8e90",
   "metadata": {
    "tags": []
   },
   "outputs": [
    {
     "data": {
      "text/html": [
       "\n",
       "            <div>\n",
       "                <p><b>SparkSession - hive</b></p>\n",
       "                \n",
       "        <div>\n",
       "            <p><b>SparkContext</b></p>\n",
       "\n",
       "            <p><a href=\"http://jupyter:4040\">Spark UI</a></p>\n",
       "\n",
       "            <dl>\n",
       "              <dt>Version</dt>\n",
       "                <dd><code>v3.1.2</code></dd>\n",
       "              <dt>Master</dt>\n",
       "                <dd><code>yarn</code></dd>\n",
       "              <dt>AppName</dt>\n",
       "                <dd><code>Spark BDP Example 5</code></dd>\n",
       "            </dl>\n",
       "        </div>\n",
       "        \n",
       "            </div>\n",
       "        "
      ],
      "text/plain": [
       "<pyspark.sql.session.SparkSession at 0x7f7b781b01f0>"
      ]
     },
     "execution_count": 3,
     "metadata": {},
     "output_type": "execute_result"
    }
   ],
   "source": [
    "spark"
   ]
  },
  {
   "cell_type": "code",
   "execution_count": null,
   "id": "496c64c2-4000-46d6-92a5-27b12847fc4b",
   "metadata": {},
   "outputs": [],
   "source": []
  },
  {
   "cell_type": "markdown",
   "id": "140fd26d-7ddb-4926-885f-38caa2849fc7",
   "metadata": {
    "tags": []
   },
   "source": [
    "### Load Sample data "
   ]
  },
  {
   "cell_type": "code",
   "execution_count": 4,
   "id": "bc7e90dc-28f3-4555-8883-b3ea86f351ec",
   "metadata": {
    "tags": []
   },
   "outputs": [],
   "source": [
    "!hdfs dfs -mkdir -p /user/bigdatapedia/input/parquet"
   ]
  },
  {
   "cell_type": "code",
   "execution_count": 5,
   "id": "5114dda3-8240-4d5d-b287-dbdb4908f57d",
   "metadata": {
    "tags": []
   },
   "outputs": [],
   "source": [
    "!hdfs dfs -put /home/bigdatapedia/data/customer_parq.parquet /user/bigdatapedia/input/parquet/"
   ]
  },
  {
   "cell_type": "code",
   "execution_count": 6,
   "id": "97defca3-8481-4174-bd1d-c9c1a9f90fe6",
   "metadata": {
    "tags": []
   },
   "outputs": [
    {
     "name": "stdout",
     "output_type": "stream",
     "text": [
      "Found 1 items\n",
      "-rw-r--r--   3 bigdatapedia supergroup     254648 2023-08-05 02:28 /user/bigdatapedia/input/parquet/customer_parq.parquet\n"
     ]
    }
   ],
   "source": [
    "!hdfs dfs -ls /user/bigdatapedia/input/parquet"
   ]
  },
  {
   "cell_type": "code",
   "execution_count": 7,
   "id": "7fb9a4b0-5a89-4707-a478-775c16a59c00",
   "metadata": {
    "tags": []
   },
   "outputs": [
    {
     "name": "stderr",
     "output_type": "stream",
     "text": [
      "                                                                                \r"
     ]
    }
   ],
   "source": [
    "df_cust = spark.read.parquet(\"/user/bigdatapedia/input/parquet\")"
   ]
  },
  {
   "cell_type": "code",
   "execution_count": 8,
   "id": "6922e2ec-d77e-4306-8fb1-e5fbf13ebc4c",
   "metadata": {
    "tags": []
   },
   "outputs": [
    {
     "name": "stdout",
     "output_type": "stream",
     "text": [
      "root\n",
      " |-- customer_id: integer (nullable = true)\n",
      " |-- customer_fname: string (nullable = true)\n",
      " |-- customer_lname: string (nullable = true)\n",
      " |-- customer_email: string (nullable = true)\n",
      " |-- customer_password: string (nullable = true)\n",
      " |-- customer_street: string (nullable = true)\n",
      " |-- customer_city: string (nullable = true)\n",
      " |-- customer_state: string (nullable = true)\n",
      " |-- customer_zipcode: string (nullable = true)\n",
      "\n"
     ]
    }
   ],
   "source": [
    "df_cust.printSchema()"
   ]
  },
  {
   "cell_type": "code",
   "execution_count": 9,
   "id": "d18e8030-b17e-4da6-bc8e-8f0cea62efe2",
   "metadata": {
    "tags": []
   },
   "outputs": [
    {
     "data": {
      "text/plain": [
       "DataFrame[customer_id: int, customer_fname: string, customer_lname: string, customer_email: string, customer_password: string, customer_street: string, customer_city: string, customer_state: string, customer_zipcode: string]"
      ]
     },
     "execution_count": 9,
     "metadata": {},
     "output_type": "execute_result"
    }
   ],
   "source": [
    "df_cust"
   ]
  },
  {
   "cell_type": "markdown",
   "id": "2204d118-a4e9-4e35-a88d-b3b72217d842",
   "metadata": {},
   "source": [
    "## via Dataframe"
   ]
  },
  {
   "cell_type": "code",
   "execution_count": 25,
   "id": "dd252b36-536a-4125-8f79-65679a308d92",
   "metadata": {
    "tags": []
   },
   "outputs": [],
   "source": [
    "df_group = df_cust.groupBy(\"customer_state\").agg(min(\"customer_id\"), \n",
    "                                                  max(\"customer_id\"), \n",
    "                                                  avg(\"customer_id\")\n",
    "                                                ).orderBy(\"customer_state\")"
   ]
  },
  {
   "cell_type": "code",
   "execution_count": 26,
   "id": "7ac1a482-1559-4980-a3f7-cc309b62c9c4",
   "metadata": {
    "tags": []
   },
   "outputs": [
    {
     "data": {
      "text/plain": [
       "DataFrame[customer_state: string, min(customer_id): int, max(customer_id): int, avg(customer_id): double]"
      ]
     },
     "execution_count": 26,
     "metadata": {},
     "output_type": "execute_result"
    }
   ],
   "source": [
    "df_group"
   ]
  },
  {
   "cell_type": "code",
   "execution_count": 27,
   "id": "d13630ee-9549-4c2c-bc82-99463e37864a",
   "metadata": {
    "tags": []
   },
   "outputs": [
    {
     "name": "stderr",
     "output_type": "stream",
     "text": [
      "[Stage 4:===================================================>   (189 + 4) / 200]\r"
     ]
    },
    {
     "name": "stdout",
     "output_type": "stream",
     "text": [
      "+--------------+----------------+----------------+-----------------+\n",
      "|customer_state|min(customer_id)|max(customer_id)|avg(customer_id) |\n",
      "+--------------+----------------+----------------+-----------------+\n",
      "|AL            |1703            |10359           |5082.333333333333|\n",
      "|AR            |965             |12074           |5454.416666666667|\n",
      "|AZ            |25              |12362           |5974.723004694835|\n",
      "|CA            |4               |12429           |6261.47564612326 |\n",
      "|CO            |2               |12344           |6027.918032786885|\n",
      "|CT            |213             |12421           |5823.260273972603|\n",
      "|DC            |325             |12137           |6142.190476190476|\n",
      "|DE            |294             |11508           |5121.0           |\n",
      "|FL            |84              |12399           |6588.794117647059|\n",
      "|GA            |42              |12364           |5603.443786982249|\n",
      "|HI            |242             |12431           |6326.540229885058|\n",
      "|IA            |265             |7573            |2194.2           |\n",
      "|ID            |569             |10963           |6731.444444444444|\n",
      "|IL            |26              |12414           |6424.646271510516|\n",
      "|IN            |500             |12116           |6930.625         |\n",
      "|KS            |1511            |11803           |6504.758620689655|\n",
      "|KY            |185             |12351           |6711.742857142857|\n",
      "|LA            |38              |11949           |6784.666666666667|\n",
      "|MA            |8               |12201           |5691.849557522124|\n",
      "|MD            |57              |12325           |6268.042682926829|\n",
      "+--------------+----------------+----------------+-----------------+\n",
      "only showing top 20 rows\n",
      "\n"
     ]
    },
    {
     "name": "stderr",
     "output_type": "stream",
     "text": [
      "                                                                                \r"
     ]
    }
   ],
   "source": [
    "df_group.show(20,0)"
   ]
  },
  {
   "cell_type": "markdown",
   "id": "dc544c83-c327-4e98-aaeb-950279df9817",
   "metadata": {},
   "source": [
    "## Spark SQL"
   ]
  },
  {
   "cell_type": "code",
   "execution_count": 28,
   "id": "ee943b81-dfee-4488-9b38-ac58dc3bbe17",
   "metadata": {
    "tags": []
   },
   "outputs": [],
   "source": [
    "df_cust.createOrReplaceTempView(\"tbl_cust\")"
   ]
  },
  {
   "cell_type": "code",
   "execution_count": 29,
   "id": "beaefa0d-9eef-43c4-a94a-cd228a7a89f5",
   "metadata": {
    "tags": []
   },
   "outputs": [],
   "source": [
    "df_sql = spark.sql(\"\"\"select customer_state, min(customer_id), max(customer_id), avg(customer_id) \n",
    "        from tbl_cust group by customer_state order by customer_state \"\"\")"
   ]
  },
  {
   "cell_type": "code",
   "execution_count": 30,
   "id": "ee310065-9dec-4c87-80bc-2fb85923666f",
   "metadata": {
    "tags": []
   },
   "outputs": [
    {
     "data": {
      "text/plain": [
       "DataFrame[customer_state: string, min(customer_id): int, max(customer_id): int, avg(customer_id): double]"
      ]
     },
     "execution_count": 30,
     "metadata": {},
     "output_type": "execute_result"
    }
   ],
   "source": [
    "df_sql"
   ]
  },
  {
   "cell_type": "code",
   "execution_count": 26,
   "id": "5a23139d-15fb-4382-8018-04c9f25834aa",
   "metadata": {
    "tags": []
   },
   "outputs": [
    {
     "data": {
      "text/plain": [
       "DataFrame[customer_state: string, min(customer_id): int, max(customer_id): int, avg(customer_id): double]"
      ]
     },
     "execution_count": 26,
     "metadata": {},
     "output_type": "execute_result"
    }
   ],
   "source": [
    "df_group"
   ]
  },
  {
   "cell_type": "code",
   "execution_count": 32,
   "id": "2b586df5-6869-4721-8bd6-2e1bc9fd6067",
   "metadata": {
    "tags": []
   },
   "outputs": [
    {
     "name": "stderr",
     "output_type": "stream",
     "text": [
      "[Stage 8:=================================================>     (181 + 4) / 200]\r"
     ]
    },
    {
     "name": "stdout",
     "output_type": "stream",
     "text": [
      "+--------------+----------------+----------------+-----------------+\n",
      "|customer_state|min(customer_id)|max(customer_id)|avg(customer_id) |\n",
      "+--------------+----------------+----------------+-----------------+\n",
      "|AL            |1703            |10359           |5082.333333333333|\n",
      "|AR            |965             |12074           |5454.416666666667|\n",
      "|AZ            |25              |12362           |5974.723004694835|\n",
      "|CA            |4               |12429           |6261.47564612326 |\n",
      "|CO            |2               |12344           |6027.918032786885|\n",
      "|CT            |213             |12421           |5823.260273972603|\n",
      "|DC            |325             |12137           |6142.190476190476|\n",
      "|DE            |294             |11508           |5121.0           |\n",
      "|FL            |84              |12399           |6588.794117647059|\n",
      "|GA            |42              |12364           |5603.443786982249|\n",
      "|HI            |242             |12431           |6326.540229885058|\n",
      "|IA            |265             |7573            |2194.2           |\n",
      "|ID            |569             |10963           |6731.444444444444|\n",
      "|IL            |26              |12414           |6424.646271510516|\n",
      "|IN            |500             |12116           |6930.625         |\n",
      "|KS            |1511            |11803           |6504.758620689655|\n",
      "|KY            |185             |12351           |6711.742857142857|\n",
      "|LA            |38              |11949           |6784.666666666667|\n",
      "|MA            |8               |12201           |5691.849557522124|\n",
      "|MD            |57              |12325           |6268.042682926829|\n",
      "+--------------+----------------+----------------+-----------------+\n",
      "only showing top 20 rows\n",
      "\n"
     ]
    },
    {
     "name": "stderr",
     "output_type": "stream",
     "text": [
      "                                                                                \r"
     ]
    }
   ],
   "source": [
    "df_sql.show(20,0)"
   ]
  },
  {
   "cell_type": "code",
   "execution_count": 33,
   "id": "1e26aedc-20bd-4346-8bf7-da7d706b9c46",
   "metadata": {
    "tags": []
   },
   "outputs": [
    {
     "name": "stdout",
     "output_type": "stream",
     "text": [
      "== Physical Plan ==\n",
      "*(1) ColumnarToRow\n",
      "+- FileScan parquet [customer_id#0,customer_fname#1,customer_lname#2,customer_email#3,customer_password#4,customer_street#5,customer_city#6,customer_state#7,customer_zipcode#8] Batched: true, DataFilters: [], Format: Parquet, Location: InMemoryFileIndex[hdfs://hdfs-bigdatapedia:9000/user/bigdatapedia/input/parquet], PartitionFilters: [], PushedFilters: [], ReadSchema: struct<customer_id:int,customer_fname:string,customer_lname:string,customer_email:string,customer...\n",
      "\n",
      "\n"
     ]
    }
   ],
   "source": [
    "df_cust.explain()"
   ]
  },
  {
   "cell_type": "code",
   "execution_count": 34,
   "id": "bd01074b-599a-4b5e-a3a3-3a4c05158152",
   "metadata": {
    "tags": []
   },
   "outputs": [
    {
     "name": "stdout",
     "output_type": "stream",
     "text": [
      "== Physical Plan ==\n",
      "*(3) Sort [customer_state#7 ASC NULLS FIRST], true, 0\n",
      "+- Exchange rangepartitioning(customer_state#7 ASC NULLS FIRST, 200), ENSURE_REQUIREMENTS, [id=#163]\n",
      "   +- *(2) HashAggregate(keys=[customer_state#7], functions=[min(customer_id#0), max(customer_id#0), avg(cast(customer_id#0 as bigint))])\n",
      "      +- Exchange hashpartitioning(customer_state#7, 200), ENSURE_REQUIREMENTS, [id=#159]\n",
      "         +- *(1) HashAggregate(keys=[customer_state#7], functions=[partial_min(customer_id#0), partial_max(customer_id#0), partial_avg(cast(customer_id#0 as bigint))])\n",
      "            +- *(1) ColumnarToRow\n",
      "               +- FileScan parquet [customer_id#0,customer_state#7] Batched: true, DataFilters: [], Format: Parquet, Location: InMemoryFileIndex[hdfs://hdfs-bigdatapedia:9000/user/bigdatapedia/input/parquet], PartitionFilters: [], PushedFilters: [], ReadSchema: struct<customer_id:int,customer_state:string>\n",
      "\n",
      "\n"
     ]
    }
   ],
   "source": [
    "df_sql.explain()"
   ]
  },
  {
   "cell_type": "code",
   "execution_count": null,
   "id": "08906461-5d3d-4618-b874-7b24b210e0ef",
   "metadata": {},
   "outputs": [],
   "source": []
  },
  {
   "cell_type": "code",
   "execution_count": 43,
   "id": "93e0d53a-3d84-402a-920e-e180d9d26b27",
   "metadata": {
    "tags": []
   },
   "outputs": [],
   "source": [
    "df_casewhen = df_cust.select(\"customer_id\", \"customer_fname\", \"customer_city\", \"customer_state\", \n",
    "                             when(df_cust.customer_state == 'TX', \n",
    "                                         \"Texas\").otherwise(\"Non Texas\").alias(\"New_State\"))"
   ]
  },
  {
   "cell_type": "code",
   "execution_count": 44,
   "id": "be4d07d1-d72e-4a38-ab17-1a739802ecbd",
   "metadata": {
    "tags": []
   },
   "outputs": [
    {
     "name": "stdout",
     "output_type": "stream",
     "text": [
      "+-----------+--------------+-------------+--------------+---------+\n",
      "|customer_id|customer_fname|customer_city|customer_state|New_State|\n",
      "+-----------+--------------+-------------+--------------+---------+\n",
      "|1          |Richard       |Brownsville  |TX            |Texas    |\n",
      "|2          |Mary          |Littleton    |CO            |Non Texas|\n",
      "|3          |Ann           |Caguas       |PR            |Non Texas|\n",
      "|4          |Mary          |San Marcos   |CA            |Non Texas|\n",
      "|5          |Robert        |Caguas       |PR            |Non Texas|\n",
      "+-----------+--------------+-------------+--------------+---------+\n",
      "only showing top 5 rows\n",
      "\n"
     ]
    }
   ],
   "source": [
    "df_casewhen.show(5,0)"
   ]
  },
  {
   "cell_type": "code",
   "execution_count": 50,
   "id": "5742b75d-83ae-4071-aaad-fd15150146c6",
   "metadata": {
    "tags": []
   },
   "outputs": [
    {
     "name": "stdout",
     "output_type": "stream",
     "text": [
      "+-----------+--------------+-------------+--------------+---------+\n",
      "|customer_id|customer_fname|customer_city|customer_state|new_state|\n",
      "+-----------+--------------+-------------+--------------+---------+\n",
      "|1          |Richard       |Brownsville  |TX            |Texas    |\n",
      "|2          |Mary          |Littleton    |CO            |Non Texas|\n",
      "|3          |Ann           |Caguas       |PR            |Non Texas|\n",
      "|4          |Mary          |San Marcos   |CA            |Non Texas|\n",
      "|5          |Robert        |Caguas       |PR            |Non Texas|\n",
      "+-----------+--------------+-------------+--------------+---------+\n",
      "only showing top 5 rows\n",
      "\n"
     ]
    }
   ],
   "source": [
    "df_sql = spark.sql(\"\"\"select customer_id, customer_fname, customer_city, customer_state, \n",
    "                case when customer_state='TX' then 'Texas' else 'Non Texas' end as new_state \n",
    "                from tbl_cust\"\"\")\n",
    "\n",
    "df_sql.show(5, 0)"
   ]
  },
  {
   "cell_type": "code",
   "execution_count": 51,
   "id": "f720b7a4-5f55-45d8-bacb-16b870334b35",
   "metadata": {
    "tags": []
   },
   "outputs": [],
   "source": [
    "df_sql.write.format(\"orc\").saveAsTable(\"demo_de30t.case_tbl_orc_1\")"
   ]
  },
  {
   "cell_type": "code",
   "execution_count": 52,
   "id": "60856d14-8c01-4cd1-8614-2d4debb18864",
   "metadata": {
    "tags": []
   },
   "outputs": [],
   "source": [
    "df_sql.write.format(\"orc\").save(\"/user/bigdatapedia/orc/case_tbl_orc_1\")"
   ]
  },
  {
   "cell_type": "markdown",
   "id": "7f8b93f1-429a-4211-84b1-403bdcbd897e",
   "metadata": {},
   "source": [
    "### udf"
   ]
  },
  {
   "cell_type": "code",
   "execution_count": 59,
   "id": "130d6c29-43b5-4238-8f38-67a3a0330380",
   "metadata": {
    "tags": []
   },
   "outputs": [
    {
     "name": "stdout",
     "output_type": "stream",
     "text": [
      "+-----------+--------------+-------------+--------------+---------+\n",
      "|customer_id|customer_fname|customer_city|customer_state|new_state|\n",
      "+-----------+--------------+-------------+--------------+---------+\n",
      "|1          |Richard       |Brownsville  |TX            |Texas    |\n",
      "|2          |Mary          |Littleton    |CO            |Non Texas|\n",
      "|3          |Ann           |Caguas       |PR            |Non Texas|\n",
      "|4          |Mary          |San Marcos   |CA            |Non Texas|\n",
      "|5          |Robert        |Caguas       |PR            |Non Texas|\n",
      "+-----------+--------------+-------------+--------------+---------+\n",
      "only showing top 5 rows\n",
      "\n"
     ]
    }
   ],
   "source": [
    "df_sql.show(5,0)"
   ]
  },
  {
   "cell_type": "code",
   "execution_count": 53,
   "id": "7d834ade-1901-49e6-a4d3-1eaeb8cdd64a",
   "metadata": {
    "tags": []
   },
   "outputs": [],
   "source": [
    "def convert_upper(x):\n",
    "    return x.upper()"
   ]
  },
  {
   "cell_type": "code",
   "execution_count": 54,
   "id": "15840f08-db41-4c87-b527-8517324a9748",
   "metadata": {
    "tags": []
   },
   "outputs": [
    {
     "data": {
      "text/plain": [
       "'HELLO'"
      ]
     },
     "execution_count": 54,
     "metadata": {},
     "output_type": "execute_result"
    }
   ],
   "source": [
    "convert_upper('hello')"
   ]
  },
  {
   "cell_type": "code",
   "execution_count": 56,
   "id": "5729a04e-2238-42cd-8bb9-9cd992ca1d36",
   "metadata": {
    "tags": []
   },
   "outputs": [],
   "source": [
    "from pyspark.sql.types import StringType"
   ]
  },
  {
   "cell_type": "code",
   "execution_count": 57,
   "id": "e659904c-f231-4aeb-9966-e6333e79b257",
   "metadata": {
    "tags": []
   },
   "outputs": [
    {
     "data": {
      "text/plain": [
       "<function __main__.convert_upper(x)>"
      ]
     },
     "execution_count": 57,
     "metadata": {},
     "output_type": "execute_result"
    }
   ],
   "source": [
    "spark.udf.register(\"upper_convert\", convert_upper, StringType())"
   ]
  },
  {
   "cell_type": "code",
   "execution_count": 50,
   "id": "acb02e77-0f5e-45e2-a55c-b7f289a59354",
   "metadata": {
    "tags": []
   },
   "outputs": [
    {
     "name": "stdout",
     "output_type": "stream",
     "text": [
      "+-----------+--------------+-------------+--------------+---------+\n",
      "|customer_id|customer_fname|customer_city|customer_state|new_state|\n",
      "+-----------+--------------+-------------+--------------+---------+\n",
      "|1          |Richard       |Brownsville  |TX            |Texas    |\n",
      "|2          |Mary          |Littleton    |CO            |Non Texas|\n",
      "|3          |Ann           |Caguas       |PR            |Non Texas|\n",
      "|4          |Mary          |San Marcos   |CA            |Non Texas|\n",
      "|5          |Robert        |Caguas       |PR            |Non Texas|\n",
      "+-----------+--------------+-------------+--------------+---------+\n",
      "only showing top 5 rows\n",
      "\n"
     ]
    }
   ],
   "source": [
    "df_sql = spark.sql(\"\"\"select customer_id, customer_fname, customer_city, customer_state, \n",
    "                case when customer_state='TX' then 'Texas' else 'Non Texas' end as new_state \n",
    "                from tbl_cust\"\"\")\n",
    "\n",
    "df_sql.show(5, 0)"
   ]
  },
  {
   "cell_type": "code",
   "execution_count": 61,
   "id": "fcb12679-e83a-4bc3-a1d3-9948609c0bc8",
   "metadata": {
    "tags": []
   },
   "outputs": [
    {
     "name": "stderr",
     "output_type": "stream",
     "text": [
      "[Stage 22:>                                                         (0 + 1) / 1]\r"
     ]
    },
    {
     "name": "stdout",
     "output_type": "stream",
     "text": [
      "+-----------+--------------+-------------+--------------+---------+-----------+\n",
      "|customer_id|customer_fname|customer_city|customer_state|new_state|caps_city  |\n",
      "+-----------+--------------+-------------+--------------+---------+-----------+\n",
      "|1          |Richard       |Brownsville  |TX            |Texas    |BROWNSVILLE|\n",
      "|2          |Mary          |Littleton    |CO            |Non Texas|LITTLETON  |\n",
      "|3          |Ann           |Caguas       |PR            |Non Texas|CAGUAS     |\n",
      "|4          |Mary          |San Marcos   |CA            |Non Texas|SAN MARCOS |\n",
      "|5          |Robert        |Caguas       |PR            |Non Texas|CAGUAS     |\n",
      "+-----------+--------------+-------------+--------------+---------+-----------+\n",
      "only showing top 5 rows\n",
      "\n"
     ]
    },
    {
     "name": "stderr",
     "output_type": "stream",
     "text": [
      "                                                                                \r"
     ]
    }
   ],
   "source": [
    "spark.sql(\"\"\"select customer_id, customer_fname, customer_city, customer_state, \n",
    "                case when customer_state='TX' then 'Texas' else 'Non Texas' end as new_state , \n",
    "                upper_convert(customer_city) as caps_city from tbl_cust\"\"\").show(5,0)"
   ]
  },
  {
   "cell_type": "code",
   "execution_count": 62,
   "id": "a6e9f22b-11c3-446d-bd9e-0e64e4e62195",
   "metadata": {
    "tags": []
   },
   "outputs": [
    {
     "data": {
      "text/plain": [
       "<function pyspark.sql.functions.udf(f=None, returnType=StringType)>"
      ]
     },
     "execution_count": 62,
     "metadata": {},
     "output_type": "execute_result"
    }
   ],
   "source": [
    "udf"
   ]
  },
  {
   "cell_type": "code",
   "execution_count": 63,
   "id": "fdba3b89-96c9-4bbb-b2f7-8cfdbef6e4fb",
   "metadata": {
    "tags": []
   },
   "outputs": [],
   "source": [
    "df_caps_city = udf(lambda z: convert_upper(z))"
   ]
  },
  {
   "cell_type": "code",
   "execution_count": 64,
   "id": "fd115574-097d-4740-9900-c3315c83371d",
   "metadata": {
    "tags": []
   },
   "outputs": [
    {
     "name": "stdout",
     "output_type": "stream",
     "text": [
      "+-----------+--------------+-------------+--------------+---------+-----------------------+\n",
      "|customer_id|customer_fname|customer_city|customer_state|New_State|<lambda>(customer_city)|\n",
      "+-----------+--------------+-------------+--------------+---------+-----------------------+\n",
      "|1          |Richard       |Brownsville  |TX            |Texas    |BROWNSVILLE            |\n",
      "|2          |Mary          |Littleton    |CO            |Non Texas|LITTLETON              |\n",
      "|3          |Ann           |Caguas       |PR            |Non Texas|CAGUAS                 |\n",
      "|4          |Mary          |San Marcos   |CA            |Non Texas|SAN MARCOS             |\n",
      "|5          |Robert        |Caguas       |PR            |Non Texas|CAGUAS                 |\n",
      "+-----------+--------------+-------------+--------------+---------+-----------------------+\n",
      "only showing top 5 rows\n",
      "\n"
     ]
    }
   ],
   "source": [
    "df_casewhen.select(\"*\", df_caps_city(\"customer_city\")).show(5, 0)"
   ]
  },
  {
   "cell_type": "code",
   "execution_count": null,
   "id": "c012a29a-10c4-4ed2-b6fd-3c7d480444b4",
   "metadata": {},
   "outputs": [],
   "source": []
  }
 ],
 "metadata": {
  "kernelspec": {
   "display_name": "PySpark 3",
   "language": "python",
   "name": "pyspark"
  },
  "language_info": {
   "codemirror_mode": {
    "name": "ipython",
    "version": 3
   },
   "file_extension": ".py",
   "mimetype": "text/x-python",
   "name": "python",
   "nbconvert_exporter": "python",
   "pygments_lexer": "ipython3",
   "version": "3.10.12"
  }
 },
 "nbformat": 4,
 "nbformat_minor": 5
}
