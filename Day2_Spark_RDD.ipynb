{
 "cells": [
  {
   "cell_type": "markdown",
   "id": "daa6b93c-cf2b-4ed5-91f0-607a4f5282d7",
   "metadata": {},
   "source": [
    "# Apache Spark"
   ]
  },
  {
   "cell_type": "code",
   "execution_count": null,
   "id": "9c42263e-64d4-47c0-af30-6829a6fb48e6",
   "metadata": {},
   "outputs": [],
   "source": []
  },
  {
   "cell_type": "markdown",
   "id": "047ee4c2-af39-4269-a951-327b798b8173",
   "metadata": {},
   "source": [
    "## Import PySpark"
   ]
  },
  {
   "cell_type": "code",
   "execution_count": 1,
   "id": "a4c4fc42-4514-4c16-9273-172ee7ead4ef",
   "metadata": {
    "tags": []
   },
   "outputs": [],
   "source": [
    "import findspark\n",
    "findspark.init()\n",
    "\n",
    "import pyspark"
   ]
  },
  {
   "cell_type": "markdown",
   "id": "c1e76953-d800-43cd-a766-fcbc47f80d14",
   "metadata": {},
   "source": [
    "## Initiate Spark Session"
   ]
  },
  {
   "cell_type": "code",
   "execution_count": 2,
   "id": "a0743744-0238-4d35-8e1e-2480b71fa87d",
   "metadata": {
    "tags": []
   },
   "outputs": [
    {
     "name": "stderr",
     "output_type": "stream",
     "text": [
      "Setting default log level to \"WARN\".\n",
      "To adjust logging level use sc.setLogLevel(newLevel). For SparkR, use setLogLevel(newLevel).\n"
     ]
    }
   ],
   "source": [
    "from pyspark.conf import SparkConf\n",
    "from pyspark.sql.session import SparkSession\n",
    "import pyspark.sql.functions as F\n",
    "\n",
    "conf=SparkConf()\n",
    "conf.set(\"spark.driver.memory\",      \"1g\") \n",
    "conf.set(\"spark.executor.memory\",    \"1g\")\n",
    "conf.set(\"spark.executor.instances\", \"2\" )\n",
    "\n",
    "spark = SparkSession.builder.master(\"yarn\").appName(\"Spark BDP Example\").enableHiveSupport().config(conf=conf).getOrCreate()"
   ]
  },
  {
   "cell_type": "code",
   "execution_count": 3,
   "id": "497725ef-e586-46de-b101-e50c1c481d0d",
   "metadata": {
    "tags": []
   },
   "outputs": [
    {
     "data": {
      "text/html": [
       "\n",
       "            <div>\n",
       "                <p><b>SparkSession - hive</b></p>\n",
       "                \n",
       "        <div>\n",
       "            <p><b>SparkContext</b></p>\n",
       "\n",
       "            <p><a href=\"http://jupyter:4040\">Spark UI</a></p>\n",
       "\n",
       "            <dl>\n",
       "              <dt>Version</dt>\n",
       "                <dd><code>v3.1.2</code></dd>\n",
       "              <dt>Master</dt>\n",
       "                <dd><code>yarn</code></dd>\n",
       "              <dt>AppName</dt>\n",
       "                <dd><code>Spark BDP Example</code></dd>\n",
       "            </dl>\n",
       "        </div>\n",
       "        \n",
       "            </div>\n",
       "        "
      ],
      "text/plain": [
       "<pyspark.sql.session.SparkSession at 0x7f74517c01f0>"
      ]
     },
     "execution_count": 3,
     "metadata": {},
     "output_type": "execute_result"
    }
   ],
   "source": [
    "spark"
   ]
  },
  {
   "cell_type": "code",
   "execution_count": null,
   "id": "91626d00-9c55-4c37-b74d-f05ce3aaab44",
   "metadata": {},
   "outputs": [],
   "source": []
  },
  {
   "cell_type": "code",
   "execution_count": 4,
   "id": "7c62f70a-75b9-4418-94b7-abda94fac433",
   "metadata": {
    "tags": []
   },
   "outputs": [],
   "source": [
    "sc = spark.sparkContext"
   ]
  },
  {
   "cell_type": "code",
   "execution_count": 5,
   "id": "9d6a4959-688b-46d1-bc4a-8142a00fc6e7",
   "metadata": {
    "tags": []
   },
   "outputs": [
    {
     "data": {
      "text/html": [
       "\n",
       "        <div>\n",
       "            <p><b>SparkContext</b></p>\n",
       "\n",
       "            <p><a href=\"http://jupyter:4040\">Spark UI</a></p>\n",
       "\n",
       "            <dl>\n",
       "              <dt>Version</dt>\n",
       "                <dd><code>v3.1.2</code></dd>\n",
       "              <dt>Master</dt>\n",
       "                <dd><code>yarn</code></dd>\n",
       "              <dt>AppName</dt>\n",
       "                <dd><code>Spark BDP Example</code></dd>\n",
       "            </dl>\n",
       "        </div>\n",
       "        "
      ],
      "text/plain": [
       "<SparkContext master=yarn appName=Spark BDP Example>"
      ]
     },
     "execution_count": 5,
     "metadata": {},
     "output_type": "execute_result"
    }
   ],
   "source": [
    "sc"
   ]
  },
  {
   "cell_type": "markdown",
   "id": "fb8426fe-4d79-453a-9abd-6c3712b99f2c",
   "metadata": {},
   "source": [
    "### RDD\n",
    "Resilient Distributed Dataset"
   ]
  },
  {
   "cell_type": "markdown",
   "id": "adbd95e8-c411-46fc-ada7-b2e735e76a5b",
   "metadata": {},
   "source": [
    "### RDD Creation\n",
    "\n",
    "#### 1) Collections"
   ]
  },
  {
   "cell_type": "code",
   "execution_count": 8,
   "id": "89147947-c7c8-40a1-ba71-1fd781d4b6b4",
   "metadata": {
    "tags": []
   },
   "outputs": [],
   "source": [
    "li = [\"Vishnu\", \"Tharun\", \"Sundar\", \"Raja\", \"Priya\"]"
   ]
  },
  {
   "cell_type": "code",
   "execution_count": 9,
   "id": "29720e1a-4208-4120-b07f-dd0fee3ffd97",
   "metadata": {
    "tags": []
   },
   "outputs": [
    {
     "data": {
      "text/plain": [
       "list"
      ]
     },
     "execution_count": 9,
     "metadata": {},
     "output_type": "execute_result"
    }
   ],
   "source": [
    "type(li)"
   ]
  },
  {
   "cell_type": "code",
   "execution_count": 10,
   "id": "0f04af23-888a-493f-9b31-09f65cddac2c",
   "metadata": {
    "tags": []
   },
   "outputs": [],
   "source": [
    "rdd = sc.parallelize(li)"
   ]
  },
  {
   "cell_type": "code",
   "execution_count": 11,
   "id": "31e4be5a-c04b-4ded-98a9-79f7eb63fcc1",
   "metadata": {
    "tags": []
   },
   "outputs": [
    {
     "data": {
      "text/plain": [
       "pyspark.rdd.RDD"
      ]
     },
     "execution_count": 11,
     "metadata": {},
     "output_type": "execute_result"
    }
   ],
   "source": [
    "type(rdd)"
   ]
  },
  {
   "cell_type": "code",
   "execution_count": 12,
   "id": "07934830-e488-4fb4-a8ee-cfee773b310b",
   "metadata": {
    "tags": []
   },
   "outputs": [
    {
     "name": "stderr",
     "output_type": "stream",
     "text": [
      "                                                                                \r"
     ]
    },
    {
     "data": {
      "text/plain": [
       "5"
      ]
     },
     "execution_count": 12,
     "metadata": {},
     "output_type": "execute_result"
    }
   ],
   "source": [
    "rdd.count()"
   ]
  },
  {
   "cell_type": "code",
   "execution_count": 15,
   "id": "73745f69-cf64-4ac4-8265-2da28a28ef48",
   "metadata": {
    "tags": []
   },
   "outputs": [],
   "source": [
    "rdd_filter = rdd.filter(lambda x: x[0] == \"R\")"
   ]
  },
  {
   "cell_type": "code",
   "execution_count": 22,
   "id": "558cd683-14c8-4201-9da8-f1ece50510c5",
   "metadata": {
    "tags": []
   },
   "outputs": [],
   "source": [
    "idx0 = lambda x: x[0]"
   ]
  },
  {
   "cell_type": "code",
   "execution_count": 24,
   "id": "8c25c84b-f198-49d9-8af4-f53f25216f97",
   "metadata": {
    "tags": []
   },
   "outputs": [
    {
     "data": {
      "text/plain": [
       "['V', 'T', 'S', 'R', 'P']"
      ]
     },
     "execution_count": 24,
     "metadata": {},
     "output_type": "execute_result"
    }
   ],
   "source": [
    "[idx0(i) for i in li]"
   ]
  },
  {
   "cell_type": "code",
   "execution_count": null,
   "id": "5028af38-cb49-4244-88c2-7f0d59038299",
   "metadata": {},
   "outputs": [],
   "source": []
  },
  {
   "cell_type": "code",
   "execution_count": 21,
   "id": "0185d50f-675c-40c4-ac11-efedfe2223a6",
   "metadata": {
    "tags": []
   },
   "outputs": [
    {
     "data": {
      "text/plain": [
       "['Raja']"
      ]
     },
     "execution_count": 21,
     "metadata": {},
     "output_type": "execute_result"
    }
   ],
   "source": [
    "rdd_filter.collect()"
   ]
  },
  {
   "cell_type": "code",
   "execution_count": 25,
   "id": "65e0e34f-02b4-4de8-8159-7afa0a31870e",
   "metadata": {
    "tags": []
   },
   "outputs": [],
   "source": [
    "rdd_filter1 = rdd.filter(lambda x: x[0] == \"T\")"
   ]
  },
  {
   "cell_type": "code",
   "execution_count": 26,
   "id": "859b1105-6aa2-44df-a651-8ae85e48b454",
   "metadata": {
    "tags": []
   },
   "outputs": [
    {
     "data": {
      "text/plain": [
       "pyspark.rdd.PipelinedRDD"
      ]
     },
     "execution_count": 26,
     "metadata": {},
     "output_type": "execute_result"
    }
   ],
   "source": [
    "type(rdd_filter1)"
   ]
  },
  {
   "cell_type": "code",
   "execution_count": 27,
   "id": "836fa888-0d15-48f0-b1a2-5dd5c66ee243",
   "metadata": {
    "tags": []
   },
   "outputs": [],
   "source": [
    "rdd_op = rdd_filter1.collect()"
   ]
  },
  {
   "cell_type": "code",
   "execution_count": 28,
   "id": "ecf19ccf-e44d-4e5a-a2f3-c304f5e32c9d",
   "metadata": {
    "tags": []
   },
   "outputs": [
    {
     "data": {
      "text/plain": [
       "list"
      ]
     },
     "execution_count": 28,
     "metadata": {},
     "output_type": "execute_result"
    }
   ],
   "source": [
    "type(rdd_op)"
   ]
  },
  {
   "cell_type": "code",
   "execution_count": 29,
   "id": "3e404822-f060-47ce-bff5-17fe37ec90de",
   "metadata": {
    "tags": []
   },
   "outputs": [
    {
     "data": {
      "text/plain": [
       "['Tharun']"
      ]
     },
     "execution_count": 29,
     "metadata": {},
     "output_type": "execute_result"
    }
   ],
   "source": [
    "rdd_op"
   ]
  },
  {
   "cell_type": "code",
   "execution_count": null,
   "id": "5ec93ea9-9b23-4097-827e-d536e6039046",
   "metadata": {},
   "outputs": [],
   "source": []
  },
  {
   "cell_type": "markdown",
   "id": "cfb4da8f-d5c6-4b0d-815a-019a1b8b63e2",
   "metadata": {},
   "source": [
    "#### 2) TextFile"
   ]
  },
  {
   "cell_type": "code",
   "execution_count": 6,
   "id": "8db541d9-d2ae-40e7-9fa0-1a601887ad8c",
   "metadata": {
    "tags": []
   },
   "outputs": [],
   "source": [
    "!hdfs dfs -mkdir /user/bigdatapedia/spark_txt"
   ]
  },
  {
   "cell_type": "code",
   "execution_count": null,
   "id": "f9ac41bb-5603-42a7-b9f3-c64411a33306",
   "metadata": {},
   "outputs": [],
   "source": []
  },
  {
   "cell_type": "code",
   "execution_count": 7,
   "id": "73d154da-62f8-4a3a-ba4e-fc07982b0d44",
   "metadata": {
    "tags": []
   },
   "outputs": [],
   "source": [
    "!hdfs dfs -put /home/bigdatapedia/data/sample_de30_patient.txt /user/bigdatapedia/spark_txt/"
   ]
  },
  {
   "cell_type": "code",
   "execution_count": 8,
   "id": "1c7f813e-6de7-400d-92a2-e71ed1bad98c",
   "metadata": {
    "tags": []
   },
   "outputs": [
    {
     "name": "stdout",
     "output_type": "stream",
     "text": [
      "id,name,drug,gender,age\n",
      "51,senthil,paracetamol,male,12\n",
      "32,saravanan,avil,male,44\n",
      "33,rajesh,metacin,male,26\n",
      "34,usha,paracetamol,female,20\n",
      "25,alex,paracetamol,male,48\n",
      "16,nasir,metacin,male,37\n",
      "17,singh,paracetamol,male,15\n",
      "18,santhosh,paracetamol,male,12\n",
      "19,sarah,avil,female,14\n",
      "40,raj,metacin,male,27\n"
     ]
    }
   ],
   "source": [
    "!hdfs dfs -cat /user/bigdatapedia/spark_txt/*"
   ]
  },
  {
   "cell_type": "code",
   "execution_count": null,
   "id": "1dc64fcc-a36b-42bd-a061-b9717a9fd787",
   "metadata": {},
   "outputs": [],
   "source": []
  },
  {
   "cell_type": "code",
   "execution_count": 9,
   "id": "46ef2588-dc98-48a7-9b27-e8e7a66efcd0",
   "metadata": {
    "tags": []
   },
   "outputs": [],
   "source": [
    "rdd_txt = sc.textFile(\"/user/bigdatapedia/spark_txt\")"
   ]
  },
  {
   "cell_type": "code",
   "execution_count": 10,
   "id": "9d35e8a0-7fab-496c-acdf-80bfa967b084",
   "metadata": {
    "tags": []
   },
   "outputs": [
    {
     "name": "stderr",
     "output_type": "stream",
     "text": [
      "                                                                                \r"
     ]
    },
    {
     "data": {
      "text/plain": [
       "11"
      ]
     },
     "execution_count": 10,
     "metadata": {},
     "output_type": "execute_result"
    }
   ],
   "source": [
    "rdd_txt.count()"
   ]
  },
  {
   "cell_type": "code",
   "execution_count": 15,
   "id": "12e5d143-efa3-42b5-9144-df1b467041e3",
   "metadata": {
    "tags": []
   },
   "outputs": [],
   "source": [
    "op_header = rdd_txt.first()"
   ]
  },
  {
   "cell_type": "code",
   "execution_count": 16,
   "id": "fd14e47d-5f74-4d9e-9d91-72e1e9011562",
   "metadata": {
    "tags": []
   },
   "outputs": [
    {
     "data": {
      "text/plain": [
       "'id,name,drug,gender,age'"
      ]
     },
     "execution_count": 16,
     "metadata": {},
     "output_type": "execute_result"
    }
   ],
   "source": [
    "op_header"
   ]
  },
  {
   "cell_type": "code",
   "execution_count": 17,
   "id": "1a7cc424-cc80-406e-8152-7761b78358dd",
   "metadata": {
    "tags": []
   },
   "outputs": [],
   "source": [
    "rdd_row = rdd_txt.filter(lambda x: x != op_header)"
   ]
  },
  {
   "cell_type": "code",
   "execution_count": 40,
   "id": "2102f962-1071-41a4-9762-04a51da3d982",
   "metadata": {
    "tags": []
   },
   "outputs": [
    {
     "data": {
      "text/plain": [
       "pyspark.rdd.PipelinedRDD"
      ]
     },
     "execution_count": 40,
     "metadata": {},
     "output_type": "execute_result"
    }
   ],
   "source": [
    "type(rdd_row)"
   ]
  },
  {
   "cell_type": "code",
   "execution_count": 18,
   "id": "03db36f7-f1d5-4e56-8e66-b84b1d7a48f4",
   "metadata": {
    "tags": []
   },
   "outputs": [
    {
     "data": {
      "text/plain": [
       "['51,senthil,paracetamol,male,12',\n",
       " '32,saravanan,avil,male,44',\n",
       " '33,rajesh,metacin,male,26',\n",
       " '34,usha,paracetamol,female,20',\n",
       " '25,alex,paracetamol,male,48',\n",
       " '16,nasir,metacin,male,37',\n",
       " '17,singh,paracetamol,male,15',\n",
       " '18,santhosh,paracetamol,male,12',\n",
       " '19,sarah,avil,female,14',\n",
       " '40,raj,metacin,male,27']"
      ]
     },
     "execution_count": 18,
     "metadata": {},
     "output_type": "execute_result"
    }
   ],
   "source": [
    "rdd_row.collect()"
   ]
  },
  {
   "cell_type": "code",
   "execution_count": 45,
   "id": "e154e447-6eea-4d79-b32b-955d4df49b0b",
   "metadata": {
    "tags": []
   },
   "outputs": [
    {
     "ename": "NameError",
     "evalue": "name 'x' is not defined",
     "output_type": "error",
     "traceback": [
      "\u001b[0;31m---------------------------------------------------------------------------\u001b[0m",
      "\u001b[0;31mNameError\u001b[0m                                 Traceback (most recent call last)",
      "Cell \u001b[0;32mIn[45], line 1\u001b[0m\n\u001b[0;32m----> 1\u001b[0m rdd_row\u001b[38;5;241m.\u001b[39mcollectAsMap(\u001b[38;5;28;01mlambda\u001b[39;00m x : x[\u001b[38;5;241m1\u001b[39m], \u001b[43mx\u001b[49m[\u001b[38;5;241m2\u001b[39m])\n",
      "\u001b[0;31mNameError\u001b[0m: name 'x' is not defined"
     ]
    }
   ],
   "source": [
    "rdd_row.collectAsMap(lambda x : x[1], x[2])"
   ]
  },
  {
   "cell_type": "code",
   "execution_count": 46,
   "id": "e4b3289e-86a9-4487-a8ce-1a3f94cc2a45",
   "metadata": {
    "tags": []
   },
   "outputs": [],
   "source": [
    "result_map = rdd_row.map(lambda x: (x[1], x[2])).collectAsMap()"
   ]
  },
  {
   "cell_type": "code",
   "execution_count": 47,
   "id": "608aa7c2-c503-4e83-8cea-2b91b34421bd",
   "metadata": {
    "tags": []
   },
   "outputs": [
    {
     "data": {
      "text/plain": [
       "{'1': ',',\n",
       " '2': ',',\n",
       " '3': ',',\n",
       " '4': ',',\n",
       " '5': ',',\n",
       " '6': ',',\n",
       " '7': ',',\n",
       " '8': ',',\n",
       " '9': ',',\n",
       " '0': ','}"
      ]
     },
     "execution_count": 47,
     "metadata": {},
     "output_type": "execute_result"
    }
   ],
   "source": [
    "result_map"
   ]
  },
  {
   "cell_type": "code",
   "execution_count": 20,
   "id": "7bd5f8f1-30b0-4936-b0a9-aed5822e61b7",
   "metadata": {
    "tags": []
   },
   "outputs": [
    {
     "data": {
      "text/plain": [
       "10"
      ]
     },
     "execution_count": 20,
     "metadata": {},
     "output_type": "execute_result"
    }
   ],
   "source": [
    "rdd_row.count()"
   ]
  },
  {
   "cell_type": "code",
   "execution_count": 26,
   "id": "d4109771-b70f-47d6-8b76-cdba2485c2fc",
   "metadata": {
    "tags": []
   },
   "outputs": [],
   "source": [
    "rdd_split = rdd_row.map(lambda y : y.split(\",\"))"
   ]
  },
  {
   "cell_type": "code",
   "execution_count": 31,
   "id": "36e25529-44d1-4b03-bf2d-1f7be58fcdac",
   "metadata": {
    "tags": []
   },
   "outputs": [
    {
     "data": {
      "text/plain": [
       "['51', 'senthil', 'paracetamol', 'male', '12']"
      ]
     },
     "execution_count": 31,
     "metadata": {},
     "output_type": "execute_result"
    }
   ],
   "source": [
    "rdd_split.first()"
   ]
  },
  {
   "cell_type": "code",
   "execution_count": 32,
   "id": "0c186b22-31ad-449e-9340-2157f4ad07e8",
   "metadata": {
    "tags": []
   },
   "outputs": [
    {
     "data": {
      "text/plain": [
       "'senthil'"
      ]
     },
     "execution_count": 32,
     "metadata": {},
     "output_type": "execute_result"
    }
   ],
   "source": [
    "rdd_split.first()[1]"
   ]
  },
  {
   "cell_type": "code",
   "execution_count": 34,
   "id": "f07f61b0-35a8-4863-9427-33ba00bd783e",
   "metadata": {
    "tags": []
   },
   "outputs": [
    {
     "data": {
      "text/plain": [
       "[['51', 'senthil', 'paracetamol', 'male', '12'],\n",
       " ['32', 'saravanan', 'avil', 'male', '44'],\n",
       " ['33', 'rajesh', 'metacin', 'male', '26'],\n",
       " ['34', 'usha', 'paracetamol', 'female', '20'],\n",
       " ['25', 'alex', 'paracetamol', 'male', '48'],\n",
       " ['16', 'nasir', 'metacin', 'male', '37'],\n",
       " ['17', 'singh', 'paracetamol', 'male', '15'],\n",
       " ['18', 'santhosh', 'paracetamol', 'male', '12'],\n",
       " ['19', 'sarah', 'avil', 'female', '14'],\n",
       " ['40', 'raj', 'metacin', 'male', '27']]"
      ]
     },
     "execution_count": 34,
     "metadata": {},
     "output_type": "execute_result"
    }
   ],
   "source": [
    "rdd_row.map(lambda y : y.split(\",\")).collect()"
   ]
  },
  {
   "cell_type": "code",
   "execution_count": 35,
   "id": "1b3ebf5d-cb4f-4dde-9e4d-933a5dcaa3e9",
   "metadata": {
    "tags": []
   },
   "outputs": [],
   "source": [
    "rdd_op = rdd_row.map(lambda y : y.split(\",\")).collect()"
   ]
  },
  {
   "cell_type": "code",
   "execution_count": 36,
   "id": "76babe41-8c07-449e-820b-bf2265a113b1",
   "metadata": {
    "tags": []
   },
   "outputs": [
    {
     "data": {
      "text/plain": [
       "list"
      ]
     },
     "execution_count": 36,
     "metadata": {},
     "output_type": "execute_result"
    }
   ],
   "source": [
    "type(rdd_op)"
   ]
  },
  {
   "cell_type": "code",
   "execution_count": 37,
   "id": "7aa7002d-e280-4542-941e-28c4d0b02252",
   "metadata": {
    "tags": []
   },
   "outputs": [
    {
     "data": {
      "text/plain": [
       "[['51', 'senthil', 'paracetamol', 'male', '12'],\n",
       " ['32', 'saravanan', 'avil', 'male', '44'],\n",
       " ['33', 'rajesh', 'metacin', 'male', '26'],\n",
       " ['34', 'usha', 'paracetamol', 'female', '20'],\n",
       " ['25', 'alex', 'paracetamol', 'male', '48'],\n",
       " ['16', 'nasir', 'metacin', 'male', '37'],\n",
       " ['17', 'singh', 'paracetamol', 'male', '15'],\n",
       " ['18', 'santhosh', 'paracetamol', 'male', '12'],\n",
       " ['19', 'sarah', 'avil', 'female', '14'],\n",
       " ['40', 'raj', 'metacin', 'male', '27']]"
      ]
     },
     "execution_count": 37,
     "metadata": {},
     "output_type": "execute_result"
    }
   ],
   "source": [
    "rdd_op"
   ]
  },
  {
   "cell_type": "code",
   "execution_count": 38,
   "id": "3b71e2d5-9ac2-4d3c-917d-87a0c1b6e65a",
   "metadata": {
    "tags": []
   },
   "outputs": [
    {
     "data": {
      "text/plain": [
       "['51', 'senthil', 'paracetamol', 'male', '12']"
      ]
     },
     "execution_count": 38,
     "metadata": {},
     "output_type": "execute_result"
    }
   ],
   "source": [
    "rdd_op[0]"
   ]
  },
  {
   "cell_type": "code",
   "execution_count": 39,
   "id": "6f432495-ccf9-4133-a59b-2b485a73390e",
   "metadata": {
    "tags": []
   },
   "outputs": [
    {
     "data": {
      "text/plain": [
       "'senthil'"
      ]
     },
     "execution_count": 39,
     "metadata": {},
     "output_type": "execute_result"
    }
   ],
   "source": [
    "rdd_op[0][1]"
   ]
  },
  {
   "cell_type": "code",
   "execution_count": 48,
   "id": "13d6e6e0-cf00-4578-9c06-981cbc9d79cc",
   "metadata": {
    "tags": []
   },
   "outputs": [],
   "source": [
    "result_map = rdd_row.map(lambda y : y.split(\",\")).map(lambda x: (x[1], x[2])).collectAsMap()"
   ]
  },
  {
   "cell_type": "code",
   "execution_count": 49,
   "id": "9d0c5cf8-89d3-40c2-9f6d-c807ff20ac81",
   "metadata": {
    "tags": []
   },
   "outputs": [
    {
     "data": {
      "text/plain": [
       "{'senthil': 'paracetamol',\n",
       " 'saravanan': 'avil',\n",
       " 'rajesh': 'metacin',\n",
       " 'usha': 'paracetamol',\n",
       " 'alex': 'paracetamol',\n",
       " 'nasir': 'metacin',\n",
       " 'singh': 'paracetamol',\n",
       " 'santhosh': 'paracetamol',\n",
       " 'sarah': 'avil',\n",
       " 'raj': 'metacin'}"
      ]
     },
     "execution_count": 49,
     "metadata": {},
     "output_type": "execute_result"
    }
   ],
   "source": [
    "result_map"
   ]
  },
  {
   "cell_type": "code",
   "execution_count": null,
   "id": "33e84ed7-1a5b-4826-a9a9-c8d0f25ade18",
   "metadata": {},
   "outputs": [],
   "source": []
  },
  {
   "cell_type": "markdown",
   "id": "2b33d2e6-688b-4e6f-af29-8551a68af943",
   "metadata": {},
   "source": [
    "##### Lambda"
   ]
  },
  {
   "cell_type": "code",
   "execution_count": 21,
   "id": "e38b192c-5fe2-4072-a064-d0c289b044f4",
   "metadata": {
    "tags": []
   },
   "outputs": [],
   "source": [
    "def add(x,y):\n",
    "    z = x+y\n",
    "    return z"
   ]
  },
  {
   "cell_type": "code",
   "execution_count": 23,
   "id": "52a66c6f-8f4c-492b-8083-d15b5dc9008d",
   "metadata": {
    "tags": []
   },
   "outputs": [
    {
     "data": {
      "text/plain": [
       "1540"
      ]
     },
     "execution_count": 23,
     "metadata": {},
     "output_type": "execute_result"
    }
   ],
   "source": [
    "add(1000, 540)"
   ]
  },
  {
   "cell_type": "code",
   "execution_count": 24,
   "id": "68771ed5-e68d-461f-8d5c-591113ddca94",
   "metadata": {
    "tags": []
   },
   "outputs": [],
   "source": [
    "add_lmda = lambda x,y : x+y"
   ]
  },
  {
   "cell_type": "code",
   "execution_count": 25,
   "id": "f2c66c26-847c-4091-8f37-26daaaf17b0a",
   "metadata": {
    "tags": []
   },
   "outputs": [
    {
     "data": {
      "text/plain": [
       "1540"
      ]
     },
     "execution_count": 25,
     "metadata": {},
     "output_type": "execute_result"
    }
   ],
   "source": [
    "add_lmda(1000, 540)"
   ]
  },
  {
   "cell_type": "code",
   "execution_count": null,
   "id": "3aea8ae4-5736-4af0-b5c6-b83bbb48bed6",
   "metadata": {},
   "outputs": [],
   "source": []
  },
  {
   "cell_type": "markdown",
   "id": "93fc0ef0-e949-48cb-9d8f-0ce58dd29231",
   "metadata": {},
   "source": [
    "## RDD to Dataframe"
   ]
  },
  {
   "cell_type": "code",
   "execution_count": 52,
   "id": "d41723ff-1865-4fa8-a423-0f6c91f319a3",
   "metadata": {
    "tags": []
   },
   "outputs": [],
   "source": [
    "from pyspark.sql import Row"
   ]
  },
  {
   "cell_type": "code",
   "execution_count": 50,
   "id": "46cbb546-4e7c-4f35-9029-7eaed48b45f1",
   "metadata": {
    "tags": []
   },
   "outputs": [],
   "source": [
    "rdd_split = rdd_row.map(lambda y : y.split(\",\"))"
   ]
  },
  {
   "cell_type": "code",
   "execution_count": 51,
   "id": "fd5dfa4f-c1c7-4db0-8127-ced406cb34ba",
   "metadata": {
    "tags": []
   },
   "outputs": [
    {
     "data": {
      "text/plain": [
       "['51', 'senthil', 'paracetamol', 'male', '12']"
      ]
     },
     "execution_count": 51,
     "metadata": {},
     "output_type": "execute_result"
    }
   ],
   "source": [
    "rdd_split.first()"
   ]
  },
  {
   "cell_type": "code",
   "execution_count": 66,
   "id": "f0b98a1e-8d8b-4a16-8a0a-e5c076d3a5a8",
   "metadata": {
    "tags": []
   },
   "outputs": [],
   "source": [
    "rdd_df_row = rdd_split.map(lambda l : Row(id= int(l[0]),\n",
    "                                          name = l[1],\n",
    "                                          gender = l[3],                                          \n",
    "                                          drug = l[2],                                          \n",
    "                                          age = int(l[4])\n",
    "                                         )\n",
    "                          )"
   ]
  },
  {
   "cell_type": "code",
   "execution_count": 67,
   "id": "84e27da8-b8da-4d76-b8b4-9638df1a0fe0",
   "metadata": {
    "tags": []
   },
   "outputs": [
    {
     "data": {
      "text/plain": [
       "[Row(id=51, name='senthil', gender='male', drug='paracetamol', age=12),\n",
       " Row(id=32, name='saravanan', gender='male', drug='avil', age=44),\n",
       " Row(id=33, name='rajesh', gender='male', drug='metacin', age=26),\n",
       " Row(id=34, name='usha', gender='female', drug='paracetamol', age=20),\n",
       " Row(id=25, name='alex', gender='male', drug='paracetamol', age=48),\n",
       " Row(id=16, name='nasir', gender='male', drug='metacin', age=37),\n",
       " Row(id=17, name='singh', gender='male', drug='paracetamol', age=15),\n",
       " Row(id=18, name='santhosh', gender='male', drug='paracetamol', age=12),\n",
       " Row(id=19, name='sarah', gender='female', drug='avil', age=14),\n",
       " Row(id=40, name='raj', gender='male', drug='metacin', age=27)]"
      ]
     },
     "execution_count": 67,
     "metadata": {},
     "output_type": "execute_result"
    }
   ],
   "source": [
    "rdd_row_op = rdd_df_row.collect()\n",
    "rdd_row_op"
   ]
  },
  {
   "cell_type": "code",
   "execution_count": 59,
   "id": "52de8a77-17b3-48cd-b412-929eedab8e77",
   "metadata": {
    "tags": []
   },
   "outputs": [
    {
     "data": {
      "text/plain": [
       "[51, 32, 33, 34, 25, 16, 17, 18, 19, 40]"
      ]
     },
     "execution_count": 59,
     "metadata": {},
     "output_type": "execute_result"
    }
   ],
   "source": [
    "[x.id for x in rdd_row_op]"
   ]
  },
  {
   "cell_type": "code",
   "execution_count": 61,
   "id": "83daae00-a9f7-4f63-a75b-fad149b995cf",
   "metadata": {
    "tags": []
   },
   "outputs": [
    {
     "data": {
      "text/plain": [
       "['senthil',\n",
       " 'saravanan',\n",
       " 'rajesh',\n",
       " 'usha',\n",
       " 'alex',\n",
       " 'nasir',\n",
       " 'singh',\n",
       " 'santhosh',\n",
       " 'sarah',\n",
       " 'raj']"
      ]
     },
     "execution_count": 61,
     "metadata": {},
     "output_type": "execute_result"
    }
   ],
   "source": [
    "[x.name for x in rdd_row_op]"
   ]
  },
  {
   "cell_type": "code",
   "execution_count": 63,
   "id": "80df8318-4f2b-429a-8166-a621c6fc3520",
   "metadata": {
    "tags": []
   },
   "outputs": [
    {
     "data": {
      "text/plain": [
       "[12, 44, 26, 20, 48, 37, 15, 12, 14, 27]"
      ]
     },
     "execution_count": 63,
     "metadata": {},
     "output_type": "execute_result"
    }
   ],
   "source": [
    "[x.age for x in rdd_row_op]"
   ]
  },
  {
   "cell_type": "code",
   "execution_count": null,
   "id": "15e2a31e-d82a-46da-8dc9-5b9627d42de4",
   "metadata": {},
   "outputs": [],
   "source": []
  },
  {
   "cell_type": "code",
   "execution_count": 73,
   "id": "6d0afbb5-c09e-491c-99ea-139b9dcadf8e",
   "metadata": {
    "tags": []
   },
   "outputs": [],
   "source": [
    "df = spark.createDataFrame(rdd_df_row)"
   ]
  },
  {
   "cell_type": "code",
   "execution_count": 74,
   "id": "724302bf-5c18-485f-8bf1-6ee38c39c600",
   "metadata": {
    "tags": []
   },
   "outputs": [
    {
     "name": "stdout",
     "output_type": "stream",
     "text": [
      "+---+---------+------+-----------+---+\n",
      "| id|     name|gender|       drug|age|\n",
      "+---+---------+------+-----------+---+\n",
      "| 51|  senthil|  male|paracetamol| 12|\n",
      "| 32|saravanan|  male|       avil| 44|\n",
      "| 33|   rajesh|  male|    metacin| 26|\n",
      "| 34|     usha|female|paracetamol| 20|\n",
      "| 25|     alex|  male|paracetamol| 48|\n",
      "| 16|    nasir|  male|    metacin| 37|\n",
      "| 17|    singh|  male|paracetamol| 15|\n",
      "| 18| santhosh|  male|paracetamol| 12|\n",
      "| 19|    sarah|female|       avil| 14|\n",
      "| 40|      raj|  male|    metacin| 27|\n",
      "+---+---------+------+-----------+---+\n",
      "\n"
     ]
    }
   ],
   "source": [
    "df.show()"
   ]
  },
  {
   "cell_type": "code",
   "execution_count": 71,
   "id": "64739423-c86d-49e1-b9c3-6052ab711f5c",
   "metadata": {
    "tags": []
   },
   "outputs": [],
   "source": [
    "df_1 = rdd_df_row.toDF()"
   ]
  },
  {
   "cell_type": "code",
   "execution_count": 72,
   "id": "5a628e82-47a0-4a4d-99d2-c2b53d0918ba",
   "metadata": {
    "tags": []
   },
   "outputs": [
    {
     "name": "stdout",
     "output_type": "stream",
     "text": [
      "+---+---------+------+-----------+---+\n",
      "| id|     name|gender|       drug|age|\n",
      "+---+---------+------+-----------+---+\n",
      "| 51|  senthil|  male|paracetamol| 12|\n",
      "| 32|saravanan|  male|       avil| 44|\n",
      "| 33|   rajesh|  male|    metacin| 26|\n",
      "| 34|     usha|female|paracetamol| 20|\n",
      "| 25|     alex|  male|paracetamol| 48|\n",
      "| 16|    nasir|  male|    metacin| 37|\n",
      "| 17|    singh|  male|paracetamol| 15|\n",
      "| 18| santhosh|  male|paracetamol| 12|\n",
      "| 19|    sarah|female|       avil| 14|\n",
      "| 40|      raj|  male|    metacin| 27|\n",
      "+---+---------+------+-----------+---+\n",
      "\n"
     ]
    }
   ],
   "source": [
    "df_1.show()"
   ]
  },
  {
   "cell_type": "code",
   "execution_count": 77,
   "id": "3f831d67-693d-4f66-8ddb-4fa339b0d71a",
   "metadata": {
    "tags": []
   },
   "outputs": [
    {
     "data": {
      "text/plain": [
       "pyspark.sql.dataframe.DataFrame"
      ]
     },
     "execution_count": 77,
     "metadata": {},
     "output_type": "execute_result"
    }
   ],
   "source": [
    "type(df_1)"
   ]
  },
  {
   "cell_type": "markdown",
   "id": "104c9f57-dbfc-40d3-95f3-1b5e2d0edecf",
   "metadata": {},
   "source": [
    "### DF to RDD"
   ]
  },
  {
   "cell_type": "code",
   "execution_count": 78,
   "id": "b9809ee8-1d1a-4e44-b9b2-4d2aea765381",
   "metadata": {
    "tags": []
   },
   "outputs": [],
   "source": [
    "df_to_rdd = df_1.rdd"
   ]
  },
  {
   "cell_type": "code",
   "execution_count": 79,
   "id": "2c1468aa-7292-4509-95e6-d304502eeab1",
   "metadata": {
    "tags": []
   },
   "outputs": [
    {
     "data": {
      "text/plain": [
       "pyspark.rdd.RDD"
      ]
     },
     "execution_count": 79,
     "metadata": {},
     "output_type": "execute_result"
    }
   ],
   "source": [
    "type(df_to_rdd)"
   ]
  },
  {
   "cell_type": "code",
   "execution_count": 81,
   "id": "b55d5e60-ba5f-419c-b88c-8a347240cdd1",
   "metadata": {
    "tags": []
   },
   "outputs": [
    {
     "name": "stderr",
     "output_type": "stream",
     "text": [
      "                                                                                \r"
     ]
    },
    {
     "data": {
      "text/plain": [
       "[Row(id=51, name='senthil', gender='male', drug='paracetamol', age=12),\n",
       " Row(id=32, name='saravanan', gender='male', drug='avil', age=44),\n",
       " Row(id=33, name='rajesh', gender='male', drug='metacin', age=26),\n",
       " Row(id=34, name='usha', gender='female', drug='paracetamol', age=20),\n",
       " Row(id=25, name='alex', gender='male', drug='paracetamol', age=48),\n",
       " Row(id=16, name='nasir', gender='male', drug='metacin', age=37),\n",
       " Row(id=17, name='singh', gender='male', drug='paracetamol', age=15),\n",
       " Row(id=18, name='santhosh', gender='male', drug='paracetamol', age=12),\n",
       " Row(id=19, name='sarah', gender='female', drug='avil', age=14),\n",
       " Row(id=40, name='raj', gender='male', drug='metacin', age=27)]"
      ]
     },
     "execution_count": 81,
     "metadata": {},
     "output_type": "execute_result"
    }
   ],
   "source": [
    "df_to_rdd.collect()"
   ]
  },
  {
   "cell_type": "code",
   "execution_count": null,
   "id": "6e1fd714-bff0-4e29-b5cd-d449f1e77b95",
   "metadata": {},
   "outputs": [],
   "source": []
  },
  {
   "cell_type": "markdown",
   "id": "f1ef9d78-46ee-4360-96e8-bcf66bb6d93d",
   "metadata": {},
   "source": [
    "## Dataframes"
   ]
  },
  {
   "cell_type": "code",
   "execution_count": 76,
   "id": "bc62b59f-d058-43db-ba1e-8c9b89e8d16c",
   "metadata": {
    "tags": []
   },
   "outputs": [
    {
     "name": "stdout",
     "output_type": "stream",
     "text": [
      "+---+---------+---+\n",
      "| id|     name|age|\n",
      "+---+---------+---+\n",
      "| 51|  senthil| 12|\n",
      "| 32|saravanan| 44|\n",
      "| 33|   rajesh| 26|\n",
      "| 34|     usha| 20|\n",
      "| 25|     alex| 48|\n",
      "| 16|    nasir| 37|\n",
      "| 17|    singh| 15|\n",
      "| 18| santhosh| 12|\n",
      "| 19|    sarah| 14|\n",
      "| 40|      raj| 27|\n",
      "+---+---------+---+\n",
      "\n"
     ]
    }
   ],
   "source": [
    "df.select(\"id\", \"name\", \"age\").show()"
   ]
  },
  {
   "cell_type": "code",
   "execution_count": 80,
   "id": "b2d04dac-d63b-4c36-b250-a7bb457b4676",
   "metadata": {
    "tags": []
   },
   "outputs": [
    {
     "data": {
      "text/plain": [
       "b'(2) MapPartitionsRDD[64] at javaToPython at NativeMethodAccessorImpl.java:0 []\\n |  MapPartitionsRDD[63] at javaToPython at NativeMethodAccessorImpl.java:0 []\\n |  SQLExecutionRDD[62] at javaToPython at NativeMethodAccessorImpl.java:0 []\\n |  MapPartitionsRDD[61] at javaToPython at NativeMethodAccessorImpl.java:0 []\\n |  MapPartitionsRDD[50] at applySchemaToPythonRDD at NativeMethodAccessorImpl.java:0 []\\n |  MapPartitionsRDD[49] at map at SerDeUtil.scala:69 []\\n |  MapPartitionsRDD[48] at mapPartitions at SerDeUtil.scala:117 []\\n |  PythonRDD[47] at RDD at PythonRDD.scala:53 []\\n |  /user/bigdatapedia/spark_txt MapPartitionsRDD[1] at textFile at NativeMethodAccessorImpl.java:0 []\\n |  /user/bigdatapedia/spark_txt HadoopRDD[0] at textFile at NativeMethodAccessorImpl.java:0 []'"
      ]
     },
     "execution_count": 80,
     "metadata": {},
     "output_type": "execute_result"
    }
   ],
   "source": [
    "df.rdd.toDebugString()"
   ]
  },
  {
   "cell_type": "code",
   "execution_count": null,
   "id": "45160179-c95b-4aa9-941f-a0e4b7f239be",
   "metadata": {},
   "outputs": [],
   "source": [
    "(2) MapPartitionsRDD[64] at javaToPython at NativeMethodAccessorImpl.java:0 []\\n\n",
    "|  MapPartitionsRDD[63] at javaToPython at NativeMethodAccessorImpl.java:0 []\\n\n",
    "|  SQLExecutionRDD[62] at javaToPython at NativeMethodAccessorImpl.java:0 []\\n\n",
    "|  MapPartitionsRDD[61] at javaToPython at NativeMethodAccessorImpl.java:0 []\\n\n",
    "|  MapPartitionsRDD[50] at applySchemaToPythonRDD at NativeMethodAccessorImpl.java:0 []\\n\n",
    "|  MapPartitionsRDD[49] at map at SerDeUtil.scala:69 []\\n\n",
    "|  MapPartitionsRDD[48] at mapPartitions at SerDeUtil.scala:117 []\\n\n",
    "|  PythonRDD[47] at RDD at PythonRDD.scala:53 []\\n\n",
    "|  /user/bigdatapedia/spark_txt MapPartitionsRDD[1] at textFile at NativeMethodAccessorImpl.java:0 []\\n\n",
    "|  /user/bigdatapedia/spark_txt HadoopRDD[0] at textFile at NativeMethodAccessorImpl.java:0 []"
   ]
  },
  {
   "cell_type": "code",
   "execution_count": null,
   "id": "68a1ac57-74cd-40eb-a146-531c3e747962",
   "metadata": {},
   "outputs": [],
   "source": []
  },
  {
   "cell_type": "markdown",
   "id": "ead6bfa4-c99b-476d-9133-36599146cd7e",
   "metadata": {},
   "source": [
    "### Load Sample data "
   ]
  },
  {
   "cell_type": "code",
   "execution_count": 84,
   "id": "cc0aab75-e00c-4b49-a147-f66719a8e07c",
   "metadata": {
    "tags": []
   },
   "outputs": [],
   "source": [
    "!hdfs dfs -mkdir -p /user/bigdatapedia/input/parquet"
   ]
  },
  {
   "cell_type": "code",
   "execution_count": 85,
   "id": "4b0f89f1-a5aa-4186-b475-c74646aa5547",
   "metadata": {
    "tags": []
   },
   "outputs": [],
   "source": [
    "!hdfs dfs -put /home/bigdatapedia/data/customer_parq.parquet /user/bigdatapedia/input/parquet/"
   ]
  },
  {
   "cell_type": "code",
   "execution_count": 87,
   "id": "ea1d2c38-ee8e-4f8e-85c1-12e863040aa6",
   "metadata": {
    "tags": []
   },
   "outputs": [
    {
     "name": "stdout",
     "output_type": "stream",
     "text": [
      "Found 1 items\n",
      "-rw-r--r--   3 bigdatapedia supergroup     254648 2023-07-16 03:19 /user/bigdatapedia/input/parquet/customer_parq.parquet\n"
     ]
    }
   ],
   "source": [
    "!hdfs dfs -ls /user/bigdatapedia/input/parquet"
   ]
  },
  {
   "cell_type": "markdown",
   "id": "fa984d3c-3de2-426b-a113-b2d41b1367ef",
   "metadata": {},
   "source": [
    "### Transformations\n",
    "    Narrow Transformation\n",
    "    Wide Transformation (Shuffle)"
   ]
  },
  {
   "cell_type": "code",
   "execution_count": 89,
   "id": "e05fee78-28b8-4f22-bef2-32353509f6c3",
   "metadata": {
    "tags": []
   },
   "outputs": [
    {
     "name": "stderr",
     "output_type": "stream",
     "text": [
      "                                                                                \r"
     ]
    }
   ],
   "source": [
    "df_cust = spark.read.parquet(\"/user/bigdatapedia/input/parquet\")"
   ]
  },
  {
   "cell_type": "code",
   "execution_count": 90,
   "id": "0f730d40-195f-4910-a7a5-e3a06a1b5692",
   "metadata": {
    "tags": []
   },
   "outputs": [
    {
     "data": {
      "text/plain": [
       "DataFrame[customer_id: int, customer_fname: string, customer_lname: string, customer_email: string, customer_password: string, customer_street: string, customer_city: string, customer_state: string, customer_zipcode: string]"
      ]
     },
     "execution_count": 90,
     "metadata": {},
     "output_type": "execute_result"
    }
   ],
   "source": [
    "df_cust"
   ]
  },
  {
   "cell_type": "markdown",
   "id": "93ab70b2-e749-4848-9fd7-8402ff91d76f",
   "metadata": {},
   "source": [
    "### Narrow Transformation"
   ]
  },
  {
   "cell_type": "code",
   "execution_count": 99,
   "id": "1aac005b-c0a6-47b1-a480-a70cff82dc71",
   "metadata": {
    "tags": []
   },
   "outputs": [],
   "source": [
    "from pyspark.sql.functions import lit, current_timestamp"
   ]
  },
  {
   "cell_type": "markdown",
   "id": "4d34ee00-20d3-4f7a-9e00-16bb1e503f2c",
   "metadata": {},
   "source": [
    "#### 1) select "
   ]
  },
  {
   "cell_type": "code",
   "execution_count": 91,
   "id": "3ebc89c1-ce0c-4412-bae3-28837bea00ae",
   "metadata": {
    "tags": []
   },
   "outputs": [
    {
     "name": "stderr",
     "output_type": "stream",
     "text": [
      "[Stage 41:>                                                         (0 + 1) / 1]\r"
     ]
    },
    {
     "name": "stdout",
     "output_type": "stream",
     "text": [
      "+-----------+--------------+--------------+\n",
      "|customer_id|customer_fname|customer_state|\n",
      "+-----------+--------------+--------------+\n",
      "|          1|       Richard|            TX|\n",
      "|          2|          Mary|            CO|\n",
      "|          3|           Ann|            PR|\n",
      "|          4|          Mary|            CA|\n",
      "|          5|        Robert|            PR|\n",
      "+-----------+--------------+--------------+\n",
      "only showing top 5 rows\n",
      "\n"
     ]
    },
    {
     "name": "stderr",
     "output_type": "stream",
     "text": [
      "                                                                                \r"
     ]
    }
   ],
   "source": [
    "df_cust.select(\"customer_id\", \"customer_fname\", \"customer_state\").show(5)"
   ]
  },
  {
   "cell_type": "markdown",
   "id": "9cea2738-d601-4b9f-99a5-6721a2621f10",
   "metadata": {},
   "source": [
    "#### 2) withColumn"
   ]
  },
  {
   "cell_type": "code",
   "execution_count": 94,
   "id": "2ee54f44-33cf-47dd-8121-d553a6b0e14f",
   "metadata": {
    "tags": []
   },
   "outputs": [],
   "source": [
    "df_cust_wc = df_cust.withColumn(\"new_cust_id\", df_cust[\"customer_id\"] + 100)"
   ]
  },
  {
   "cell_type": "code",
   "execution_count": 95,
   "id": "7c2a3766-8334-4763-9db7-9a163f88fb2c",
   "metadata": {
    "tags": []
   },
   "outputs": [
    {
     "name": "stdout",
     "output_type": "stream",
     "text": [
      "+-----------+--------------+--------------+--------------+-----------------+--------------------+-------------+--------------+----------------+-----------+\n",
      "|customer_id|customer_fname|customer_lname|customer_email|customer_password|     customer_street|customer_city|customer_state|customer_zipcode|new_cust_id|\n",
      "+-----------+--------------+--------------+--------------+-----------------+--------------------+-------------+--------------+----------------+-----------+\n",
      "|          1|       Richard|     Hernandez|     XXXXXXXXX|        XXXXXXXXX|  6303 Heather Plaza|  Brownsville|            TX|           78521|        101|\n",
      "|          2|          Mary|       Barrett|     XXXXXXXXX|        XXXXXXXXX|9526 Noble Embers...|    Littleton|            CO|           80126|        102|\n",
      "|          3|           Ann|         Smith|     XXXXXXXXX|        XXXXXXXXX|3422 Blue Pioneer...|       Caguas|            PR|           00725|        103|\n",
      "|          4|          Mary|         Jones|     XXXXXXXXX|        XXXXXXXXX|  8324 Little Common|   San Marcos|            CA|           92069|        104|\n",
      "|          5|        Robert|        Hudson|     XXXXXXXXX|        XXXXXXXXX|10 Crystal River ...|       Caguas|            PR|           00725|        105|\n",
      "|          6|          Mary|         Smith|     XXXXXXXXX|        XXXXXXXXX|3151 Sleepy Quail...|      Passaic|            NJ|           07055|        106|\n",
      "|          7|       Melissa|        Wilcox|     XXXXXXXXX|        XXXXXXXXX|9453 High Concession|       Caguas|            PR|           00725|        107|\n",
      "|          8|         Megan|         Smith|     XXXXXXXXX|        XXXXXXXXX|3047 Foggy Forest...|     Lawrence|            MA|           01841|        108|\n",
      "|          9|          Mary|         Perez|     XXXXXXXXX|        XXXXXXXXX| 3616 Quaking Street|       Caguas|            PR|           00725|        109|\n",
      "|         10|       Melissa|         Smith|     XXXXXXXXX|        XXXXXXXXX|8598 Harvest Beac...|     Stafford|            VA|           22554|        110|\n",
      "+-----------+--------------+--------------+--------------+-----------------+--------------------+-------------+--------------+----------------+-----------+\n",
      "only showing top 10 rows\n",
      "\n"
     ]
    }
   ],
   "source": [
    "df_cust_wc.show(10)"
   ]
  },
  {
   "cell_type": "code",
   "execution_count": 97,
   "id": "58c9e6c6-b9cc-4c92-ae8a-2a8d068ecca7",
   "metadata": {
    "tags": []
   },
   "outputs": [],
   "source": [
    "df_cust_wc_2 = df_cust.withColumn(\"newnull\", lit(None))"
   ]
  },
  {
   "cell_type": "code",
   "execution_count": 98,
   "id": "c6cba24b-0c04-4cf5-a3de-87e81ca2e5e8",
   "metadata": {
    "tags": []
   },
   "outputs": [
    {
     "name": "stdout",
     "output_type": "stream",
     "text": [
      "+-----------+--------------+--------------+--------------+-----------------+--------------------+-------------+--------------+----------------+-------+\n",
      "|customer_id|customer_fname|customer_lname|customer_email|customer_password|     customer_street|customer_city|customer_state|customer_zipcode|newnull|\n",
      "+-----------+--------------+--------------+--------------+-----------------+--------------------+-------------+--------------+----------------+-------+\n",
      "|          1|       Richard|     Hernandez|     XXXXXXXXX|        XXXXXXXXX|  6303 Heather Plaza|  Brownsville|            TX|           78521|   null|\n",
      "|          2|          Mary|       Barrett|     XXXXXXXXX|        XXXXXXXXX|9526 Noble Embers...|    Littleton|            CO|           80126|   null|\n",
      "|          3|           Ann|         Smith|     XXXXXXXXX|        XXXXXXXXX|3422 Blue Pioneer...|       Caguas|            PR|           00725|   null|\n",
      "|          4|          Mary|         Jones|     XXXXXXXXX|        XXXXXXXXX|  8324 Little Common|   San Marcos|            CA|           92069|   null|\n",
      "|          5|        Robert|        Hudson|     XXXXXXXXX|        XXXXXXXXX|10 Crystal River ...|       Caguas|            PR|           00725|   null|\n",
      "|          6|          Mary|         Smith|     XXXXXXXXX|        XXXXXXXXX|3151 Sleepy Quail...|      Passaic|            NJ|           07055|   null|\n",
      "|          7|       Melissa|        Wilcox|     XXXXXXXXX|        XXXXXXXXX|9453 High Concession|       Caguas|            PR|           00725|   null|\n",
      "|          8|         Megan|         Smith|     XXXXXXXXX|        XXXXXXXXX|3047 Foggy Forest...|     Lawrence|            MA|           01841|   null|\n",
      "|          9|          Mary|         Perez|     XXXXXXXXX|        XXXXXXXXX| 3616 Quaking Street|       Caguas|            PR|           00725|   null|\n",
      "|         10|       Melissa|         Smith|     XXXXXXXXX|        XXXXXXXXX|8598 Harvest Beac...|     Stafford|            VA|           22554|   null|\n",
      "|         11|          Mary|       Huffman|     XXXXXXXXX|        XXXXXXXXX|    3169 Stony Woods|       Caguas|            PR|           00725|   null|\n",
      "|         12|   Christopher|         Smith|     XXXXXXXXX|        XXXXXXXXX|5594 Jagged Ember...|  San Antonio|            TX|           78227|   null|\n",
      "|         13|          Mary|       Baldwin|     XXXXXXXXX|        XXXXXXXXX|7922 Iron Oak Gar...|       Caguas|            PR|           00725|   null|\n",
      "|         14|     Katherine|         Smith|     XXXXXXXXX|        XXXXXXXXX|5666 Hazy Pony Sq...|  Pico Rivera|            CA|           90660|   null|\n",
      "|         15|          Jane|          Luna|     XXXXXXXXX|        XXXXXXXXX|    673 Burning Glen|      Fontana|            CA|           92336|   null|\n",
      "|         16|       Tiffany|         Smith|     XXXXXXXXX|        XXXXXXXXX|      6651 Iron Port|       Caguas|            PR|           00725|   null|\n",
      "|         17|          Mary|      Robinson|     XXXXXXXXX|        XXXXXXXXX|     1325 Noble Pike|       Taylor|            MI|           48180|   null|\n",
      "|         18|        Robert|         Smith|     XXXXXXXXX|        XXXXXXXXX|2734 Hazy Butterf...|     Martinez|            CA|           94553|   null|\n",
      "|         19|     Stephanie|      Mitchell|     XXXXXXXXX|        XXXXXXXXX|3543 Red Treasure...|       Caguas|            PR|           00725|   null|\n",
      "|         20|          Mary|         Ellis|     XXXXXXXXX|        XXXXXXXXX|      4703 Old Route|West New York|            NJ|           07093|   null|\n",
      "+-----------+--------------+--------------+--------------+-----------------+--------------------+-------------+--------------+----------------+-------+\n",
      "only showing top 20 rows\n",
      "\n"
     ]
    }
   ],
   "source": [
    "df_cust_wc_2.show()"
   ]
  },
  {
   "cell_type": "code",
   "execution_count": 100,
   "id": "43ead0a0-e19b-4571-8de7-627555119b2d",
   "metadata": {
    "tags": []
   },
   "outputs": [],
   "source": [
    "df_cust_wc_3 = df_cust.withColumn(\"cre_ts\", current_timestamp())"
   ]
  },
  {
   "cell_type": "code",
   "execution_count": 104,
   "id": "d4cfaaaa-b9de-49e0-b596-f6c8e263f1f5",
   "metadata": {
    "tags": []
   },
   "outputs": [
    {
     "name": "stdout",
     "output_type": "stream",
     "text": [
      "+-----------+--------------+-----------------------+\n",
      "|customer_id|customer_fname|cre_ts                 |\n",
      "+-----------+--------------+-----------------------+\n",
      "|1          |Richard       |2023-07-16 03:29:55.108|\n",
      "|2          |Mary          |2023-07-16 03:29:55.108|\n",
      "|3          |Ann           |2023-07-16 03:29:55.108|\n",
      "|4          |Mary          |2023-07-16 03:29:55.108|\n",
      "|5          |Robert        |2023-07-16 03:29:55.108|\n",
      "+-----------+--------------+-----------------------+\n",
      "only showing top 5 rows\n",
      "\n"
     ]
    }
   ],
   "source": [
    "df_cust_wc_3.select(\"customer_id\", \"customer_fname\", \"cre_ts\").show(5, False)"
   ]
  },
  {
   "cell_type": "code",
   "execution_count": null,
   "id": "d2ff681f-0ad9-4268-95dd-21be00599b6c",
   "metadata": {},
   "outputs": [],
   "source": []
  }
 ],
 "metadata": {
  "kernelspec": {
   "display_name": "PySpark 3",
   "language": "python",
   "name": "pyspark"
  },
  "language_info": {
   "codemirror_mode": {
    "name": "ipython",
    "version": 3
   },
   "file_extension": ".py",
   "mimetype": "text/x-python",
   "name": "python",
   "nbconvert_exporter": "python",
   "pygments_lexer": "ipython3",
   "version": "3.10.12"
  }
 },
 "nbformat": 4,
 "nbformat_minor": 5
}
