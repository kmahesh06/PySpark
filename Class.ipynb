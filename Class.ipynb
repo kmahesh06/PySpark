{
 "cells": [
  {
   "cell_type": "code",
   "execution_count": 1,
   "id": "9e363826",
   "metadata": {},
   "outputs": [],
   "source": [
    "class multipleFunction():\n",
    "    def oddEven():\n",
    "        num = int(input(\"Enter the Number:\"))\n",
    "        if((num%2==1)):\n",
    "            print(\"Odd Number\")\n",
    "            message = \"Odd Number\"\n",
    "        else:\n",
    "            print(\"Even Number\")\n",
    "            message = \"Even Number\"\n",
    "        return message\n",
    "\n",
    "    def BMI():\n",
    "        BMI = int(input(\"Enter the BMI Index:\"))\n",
    "        if(BMI<18.5):\n",
    "            print(\"UnderWeight\")\n",
    "            message = \"UnderWeight\"\n",
    "        elif(BMI>=18.5 and BMI <24.9):\n",
    "            print(\"NormalWeight\")\n",
    "            message = \"NormalWeight\"\n",
    "        elif(BMI>=24.9 and BMI <29.9):\n",
    "            print(\"OverWeight\")\n",
    "            message = \"OverWeight\"\n",
    "        else:\n",
    "            print(\"Very OverWeight\")\n",
    "            message = \"Very OverWeight\"\n",
    "        return message\n",
    "\n",
    "\n"
   ]
  },
  {
   "cell_type": "code",
   "execution_count": 2,
   "id": "51e2704f",
   "metadata": {},
   "outputs": [
    {
     "name": "stdout",
     "output_type": "stream",
     "text": [
      "Enter the BMI Index:22\n",
      "NormalWeight\n"
     ]
    },
    {
     "data": {
      "text/plain": [
       "'NormalWeight'"
      ]
     },
     "execution_count": 2,
     "metadata": {},
     "output_type": "execute_result"
    }
   ],
   "source": [
    "multipleFunction.BMI()"
   ]
  },
  {
   "cell_type": "code",
   "execution_count": 3,
   "id": "a393dc28",
   "metadata": {},
   "outputs": [
    {
     "name": "stdout",
     "output_type": "stream",
     "text": [
      "Enter the Number:34\n",
      "Even Number\n"
     ]
    },
    {
     "data": {
      "text/plain": [
       "'Even Number'"
      ]
     },
     "execution_count": 3,
     "metadata": {},
     "output_type": "execute_result"
    }
   ],
   "source": [
    "multipleFunction.oddEven()"
   ]
  },
  {
   "cell_type": "code",
   "execution_count": 5,
   "id": "efd06aaa",
   "metadata": {},
   "outputs": [
    {
     "ename": "SyntaxError",
     "evalue": "unterminated string literal (detected at line 3) (456543280.py, line 3)",
     "output_type": "error",
     "traceback": [
      "\u001b[1;36m  Cell \u001b[1;32mIn[5], line 3\u001b[1;36m\u001b[0m\n\u001b[1;33m    print(\"Sub-fields in AI are:\u001b[0m\n\u001b[1;37m          ^\u001b[0m\n\u001b[1;31mSyntaxError\u001b[0m\u001b[1;31m:\u001b[0m unterminated string literal (detected at line 3)\n"
     ]
    }
   ],
   "source": [
    "class SubfieldsInAI():\n",
    "    def Subfields():\n",
    "       "
   ]
  },
  {
   "cell_type": "code",
   "execution_count": null,
   "id": "8909524d",
   "metadata": {},
   "outputs": [],
   "source": []
  }
 ],
 "metadata": {
  "kernelspec": {
   "display_name": "Python 3 (ipykernel)",
   "language": "python",
   "name": "python3"
  },
  "language_info": {
   "codemirror_mode": {
    "name": "ipython",
    "version": 3
   },
   "file_extension": ".py",
   "mimetype": "text/x-python",
   "name": "python",
   "nbconvert_exporter": "python",
   "pygments_lexer": "ipython3",
   "version": "3.11.5"
  }
 },
 "nbformat": 4,
 "nbformat_minor": 5
}
