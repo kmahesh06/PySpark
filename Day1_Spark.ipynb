{
 "cells": [
  {
   "cell_type": "markdown",
   "id": "daa6b93c-cf2b-4ed5-91f0-607a4f5282d7",
   "metadata": {},
   "source": [
    "# Apache Spark"
   ]
  },
  {
   "cell_type": "code",
   "execution_count": null,
   "id": "9c42263e-64d4-47c0-af30-6829a6fb48e6",
   "metadata": {},
   "outputs": [],
   "source": []
  },
  {
   "cell_type": "markdown",
   "id": "047ee4c2-af39-4269-a951-327b798b8173",
   "metadata": {},
   "source": [
    "## Import PySpark"
   ]
  },
  {
   "cell_type": "code",
   "execution_count": 1,
   "id": "a4c4fc42-4514-4c16-9273-172ee7ead4ef",
   "metadata": {
    "tags": []
   },
   "outputs": [],
   "source": [
    "import findspark\n",
    "findspark.init()\n",
    "\n",
    "import pyspark"
   ]
  },
  {
   "cell_type": "markdown",
   "id": "c1e76953-d800-43cd-a766-fcbc47f80d14",
   "metadata": {},
   "source": [
    "## Initiate Spark Session"
   ]
  },
  {
   "cell_type": "code",
   "execution_count": 2,
   "id": "a0743744-0238-4d35-8e1e-2480b71fa87d",
   "metadata": {
    "tags": []
   },
   "outputs": [
    {
     "name": "stderr",
     "output_type": "stream",
     "text": [
      "Setting default log level to \"WARN\".\n",
      "To adjust logging level use sc.setLogLevel(newLevel). For SparkR, use setLogLevel(newLevel).\n"
     ]
    }
   ],
   "source": [
    "from pyspark.conf import SparkConf\n",
    "from pyspark.sql.session import SparkSession\n",
    "import pyspark.sql.functions as F\n",
    "\n",
    "conf=SparkConf()\n",
    "conf.set(\"spark.driver.memory\",      \"1g\") \n",
    "conf.set(\"spark.executor.memory\",    \"1g\")\n",
    "conf.set(\"spark.executor.instances\", \"2\" )\n",
    "\n",
    "spark = SparkSession.builder.master(\"yarn\").appName(\"Spark BDP Example\").enableHiveSupport().config(conf=conf).getOrCreate()"
   ]
  },
  {
   "cell_type": "code",
   "execution_count": 3,
   "id": "497725ef-e586-46de-b101-e50c1c481d0d",
   "metadata": {
    "tags": []
   },
   "outputs": [
    {
     "data": {
      "text/html": [
       "\n",
       "            <div>\n",
       "                <p><b>SparkSession - hive</b></p>\n",
       "                \n",
       "        <div>\n",
       "            <p><b>SparkContext</b></p>\n",
       "\n",
       "            <p><a href=\"http://jupyter:4040\">Spark UI</a></p>\n",
       "\n",
       "            <dl>\n",
       "              <dt>Version</dt>\n",
       "                <dd><code>v3.1.2</code></dd>\n",
       "              <dt>Master</dt>\n",
       "                <dd><code>yarn</code></dd>\n",
       "              <dt>AppName</dt>\n",
       "                <dd><code>Spark BDP Example</code></dd>\n",
       "            </dl>\n",
       "        </div>\n",
       "        \n",
       "            </div>\n",
       "        "
      ],
      "text/plain": [
       "<pyspark.sql.session.SparkSession at 0x7f3bbc102ad0>"
      ]
     },
     "execution_count": 3,
     "metadata": {},
     "output_type": "execute_result"
    }
   ],
   "source": [
    "spark"
   ]
  },
  {
   "cell_type": "code",
   "execution_count": null,
   "id": "91626d00-9c55-4c37-b74d-f05ce3aaab44",
   "metadata": {},
   "outputs": [],
   "source": []
  },
  {
   "cell_type": "code",
   "execution_count": 6,
   "id": "7c62f70a-75b9-4418-94b7-abda94fac433",
   "metadata": {
    "tags": []
   },
   "outputs": [],
   "source": [
    "sc = spark.sparkContext"
   ]
  },
  {
   "cell_type": "code",
   "execution_count": 7,
   "id": "9d6a4959-688b-46d1-bc4a-8142a00fc6e7",
   "metadata": {
    "tags": []
   },
   "outputs": [
    {
     "data": {
      "text/html": [
       "\n",
       "        <div>\n",
       "            <p><b>SparkContext</b></p>\n",
       "\n",
       "            <p><a href=\"http://jupyter:4040\">Spark UI</a></p>\n",
       "\n",
       "            <dl>\n",
       "              <dt>Version</dt>\n",
       "                <dd><code>v3.1.2</code></dd>\n",
       "              <dt>Master</dt>\n",
       "                <dd><code>yarn</code></dd>\n",
       "              <dt>AppName</dt>\n",
       "                <dd><code>Spark BDP Example</code></dd>\n",
       "            </dl>\n",
       "        </div>\n",
       "        "
      ],
      "text/plain": [
       "<SparkContext master=yarn appName=Spark BDP Example>"
      ]
     },
     "execution_count": 7,
     "metadata": {},
     "output_type": "execute_result"
    }
   ],
   "source": [
    "sc"
   ]
  },
  {
   "cell_type": "markdown",
   "id": "fb8426fe-4d79-453a-9abd-6c3712b99f2c",
   "metadata": {},
   "source": [
    "### RDD\n",
    "Resilient Distributed Dataset"
   ]
  },
  {
   "cell_type": "markdown",
   "id": "adbd95e8-c411-46fc-ada7-b2e735e76a5b",
   "metadata": {},
   "source": [
    "### RDD Creation\n",
    "\n",
    "#### 1) Collections"
   ]
  },
  {
   "cell_type": "code",
   "execution_count": 8,
   "id": "89147947-c7c8-40a1-ba71-1fd781d4b6b4",
   "metadata": {
    "tags": []
   },
   "outputs": [],
   "source": [
    "li = [\"Vishnu\", \"Tharun\", \"Sundar\", \"Raja\", \"Priya\"]"
   ]
  },
  {
   "cell_type": "code",
   "execution_count": 9,
   "id": "29720e1a-4208-4120-b07f-dd0fee3ffd97",
   "metadata": {
    "tags": []
   },
   "outputs": [
    {
     "data": {
      "text/plain": [
       "list"
      ]
     },
     "execution_count": 9,
     "metadata": {},
     "output_type": "execute_result"
    }
   ],
   "source": [
    "type(li)"
   ]
  },
  {
   "cell_type": "code",
   "execution_count": 10,
   "id": "0f04af23-888a-493f-9b31-09f65cddac2c",
   "metadata": {
    "tags": []
   },
   "outputs": [],
   "source": [
    "rdd = sc.parallelize(li)"
   ]
  },
  {
   "cell_type": "code",
   "execution_count": 11,
   "id": "31e4be5a-c04b-4ded-98a9-79f7eb63fcc1",
   "metadata": {
    "tags": []
   },
   "outputs": [
    {
     "data": {
      "text/plain": [
       "pyspark.rdd.RDD"
      ]
     },
     "execution_count": 11,
     "metadata": {},
     "output_type": "execute_result"
    }
   ],
   "source": [
    "type(rdd)"
   ]
  },
  {
   "cell_type": "code",
   "execution_count": 12,
   "id": "07934830-e488-4fb4-a8ee-cfee773b310b",
   "metadata": {
    "tags": []
   },
   "outputs": [
    {
     "name": "stderr",
     "output_type": "stream",
     "text": [
      "                                                                                \r"
     ]
    },
    {
     "data": {
      "text/plain": [
       "5"
      ]
     },
     "execution_count": 12,
     "metadata": {},
     "output_type": "execute_result"
    }
   ],
   "source": [
    "rdd.count()"
   ]
  },
  {
   "cell_type": "code",
   "execution_count": 15,
   "id": "73745f69-cf64-4ac4-8265-2da28a28ef48",
   "metadata": {
    "tags": []
   },
   "outputs": [],
   "source": [
    "rdd_filter = rdd.filter(lambda x: x[0] == \"R\")"
   ]
  },
  {
   "cell_type": "code",
   "execution_count": 22,
   "id": "558cd683-14c8-4201-9da8-f1ece50510c5",
   "metadata": {
    "tags": []
   },
   "outputs": [],
   "source": [
    "idx0 = lambda x: x[0]"
   ]
  },
  {
   "cell_type": "code",
   "execution_count": 24,
   "id": "8c25c84b-f198-49d9-8af4-f53f25216f97",
   "metadata": {
    "tags": []
   },
   "outputs": [
    {
     "data": {
      "text/plain": [
       "['V', 'T', 'S', 'R', 'P']"
      ]
     },
     "execution_count": 24,
     "metadata": {},
     "output_type": "execute_result"
    }
   ],
   "source": [
    "[idx0(i) for i in li]"
   ]
  },
  {
   "cell_type": "code",
   "execution_count": null,
   "id": "5028af38-cb49-4244-88c2-7f0d59038299",
   "metadata": {},
   "outputs": [],
   "source": []
  },
  {
   "cell_type": "code",
   "execution_count": 21,
   "id": "0185d50f-675c-40c4-ac11-efedfe2223a6",
   "metadata": {
    "tags": []
   },
   "outputs": [
    {
     "data": {
      "text/plain": [
       "['Raja']"
      ]
     },
     "execution_count": 21,
     "metadata": {},
     "output_type": "execute_result"
    }
   ],
   "source": [
    "rdd_filter.collect()"
   ]
  },
  {
   "cell_type": "code",
   "execution_count": 25,
   "id": "65e0e34f-02b4-4de8-8159-7afa0a31870e",
   "metadata": {
    "tags": []
   },
   "outputs": [],
   "source": [
    "rdd_filter1 = rdd.filter(lambda x: x[0] == \"T\")"
   ]
  },
  {
   "cell_type": "code",
   "execution_count": 26,
   "id": "859b1105-6aa2-44df-a651-8ae85e48b454",
   "metadata": {
    "tags": []
   },
   "outputs": [
    {
     "data": {
      "text/plain": [
       "pyspark.rdd.PipelinedRDD"
      ]
     },
     "execution_count": 26,
     "metadata": {},
     "output_type": "execute_result"
    }
   ],
   "source": [
    "type(rdd_filter1)"
   ]
  },
  {
   "cell_type": "code",
   "execution_count": 27,
   "id": "836fa888-0d15-48f0-b1a2-5dd5c66ee243",
   "metadata": {
    "tags": []
   },
   "outputs": [],
   "source": [
    "rdd_op = rdd_filter1.collect()"
   ]
  },
  {
   "cell_type": "code",
   "execution_count": 28,
   "id": "ecf19ccf-e44d-4e5a-a2f3-c304f5e32c9d",
   "metadata": {
    "tags": []
   },
   "outputs": [
    {
     "data": {
      "text/plain": [
       "list"
      ]
     },
     "execution_count": 28,
     "metadata": {},
     "output_type": "execute_result"
    }
   ],
   "source": [
    "type(rdd_op)"
   ]
  },
  {
   "cell_type": "code",
   "execution_count": 29,
   "id": "3e404822-f060-47ce-bff5-17fe37ec90de",
   "metadata": {
    "tags": []
   },
   "outputs": [
    {
     "data": {
      "text/plain": [
       "['Tharun']"
      ]
     },
     "execution_count": 29,
     "metadata": {},
     "output_type": "execute_result"
    }
   ],
   "source": [
    "rdd_op"
   ]
  },
  {
   "cell_type": "code",
   "execution_count": null,
   "id": "5ec93ea9-9b23-4097-827e-d536e6039046",
   "metadata": {},
   "outputs": [],
   "source": []
  }
 ],
 "metadata": {
  "kernelspec": {
   "display_name": "PySpark 3",
   "language": "python",
   "name": "pyspark"
  },
  "language_info": {
   "codemirror_mode": {
    "name": "ipython",
    "version": 3
   },
   "file_extension": ".py",
   "mimetype": "text/x-python",
   "name": "python",
   "nbconvert_exporter": "python",
   "pygments_lexer": "ipython3",
   "version": "3.10.12"
  }
 },
 "nbformat": 4,
 "nbformat_minor": 5
}
