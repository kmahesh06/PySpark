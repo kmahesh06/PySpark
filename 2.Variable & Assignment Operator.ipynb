{
 "cells": [
  {
   "cell_type": "code",
   "execution_count": 1,
   "id": "a0814e08",
   "metadata": {},
   "outputs": [],
   "source": [
    "num1=40\n",
    "num2=30\n",
    "add=num1+num2"
   ]
  },
  {
   "cell_type": "code",
   "execution_count": 23,
   "id": "dd287b4a",
   "metadata": {},
   "outputs": [
    {
     "name": "stdout",
     "output_type": "stream",
     "text": [
      "Sum of Two Num: 70\n",
      "Sub of Two Num: 10\n"
     ]
    }
   ],
   "source": [
    "num1=40\n",
    "num2=30\n",
    "add=num1+num2\n",
    "sub = num1-num2\n",
    "print(\"Sum of Two Num:\",add)\n",
    "print(\"Sub of Two Num:\",sub)"
   ]
  },
  {
   "cell_type": "code",
   "execution_count": 17,
   "id": "9f23d657",
   "metadata": {},
   "outputs": [
    {
     "ename": "TypeError",
     "evalue": "unsupported operand type(s) for ^: 'float' and 'int'",
     "output_type": "error",
     "traceback": [
      "\u001b[1;31m---------------------------------------------------------------------------\u001b[0m",
      "\u001b[1;31mTypeError\u001b[0m                                 Traceback (most recent call last)",
      "Cell \u001b[1;32mIn[17], line 2\u001b[0m\n\u001b[0;32m      1\u001b[0m num \u001b[38;5;241m=\u001b[39m \u001b[38;5;241m100\u001b[39m\n\u001b[1;32m----> 2\u001b[0m a \u001b[38;5;241m=\u001b[39m num\u001b[38;5;241m*\u001b[39m((num\u001b[38;5;241m+\u001b[39m\u001b[38;5;241m1\u001b[39m\u001b[38;5;241m/\u001b[39m\u001b[38;5;241m2\u001b[39m)\u001b[38;5;241m^\u001b[39m\u001b[38;5;241m2\u001b[39m)\n\u001b[0;32m      3\u001b[0m \u001b[38;5;28mprint\u001b[39m(a)\n",
      "\u001b[1;31mTypeError\u001b[0m: unsupported operand type(s) for ^: 'float' and 'int'"
     ]
    }
   ],
   "source": [
    "num = 100\n",
    "a = num*((num+1/2)^2)\n",
    "print(a)"
   ]
  },
  {
   "cell_type": "code",
   "execution_count": 21,
   "id": "3200d7b1",
   "metadata": {},
   "outputs": [
    {
     "name": "stdout",
     "output_type": "stream",
     "text": [
      "Hello Maheshwaran Kumararaja Welcome to Hope AI\n"
     ]
    }
   ],
   "source": [
    "FirstName = \"Maheshwaran\"\n",
    "LastName = \"Kumararaja\"\n",
    "print(\"Hello\",FirstName,LastName, \"Welcome to Hope AI\")"
   ]
  },
  {
   "cell_type": "code",
   "execution_count": 25,
   "id": "e827146b",
   "metadata": {},
   "outputs": [
    {
     "name": "stdout",
     "output_type": "stream",
     "text": [
      "The addition of two numbers\n",
      "The Number1: 40\n",
      "The Number2: 30\n",
      "Sum of Two Num: 70\n",
      "Sub of Two Num: 10\n"
     ]
    }
   ],
   "source": [
    "print(\"The addition of two numbers\")\n",
    "print(\"The Number1:\",num1)\n",
    "print(\"The Number2:\",num2)\n",
    "print(\"Sum of Two Num:\",add)\n",
    "print(\"Sub of Two Num:\",sub)"
   ]
  },
  {
   "cell_type": "code",
   "execution_count": 1,
   "id": "98db8ae0",
   "metadata": {},
   "outputs": [
    {
     "name": "stdout",
     "output_type": "stream",
     "text": [
      "Enter the num1:50\n",
      "Enter the num2:30\n"
     ]
    }
   ],
   "source": [
    "num1 = input(\"Enter the num1:\")\n",
    "num2 = input(\"Enter the num2:\")"
   ]
  },
  {
   "cell_type": "code",
   "execution_count": 2,
   "id": "791a0208",
   "metadata": {},
   "outputs": [],
   "source": [
    "add = num1+num2"
   ]
  },
  {
   "cell_type": "code",
   "execution_count": 3,
   "id": "8e6a5090",
   "metadata": {},
   "outputs": [
    {
     "name": "stdout",
     "output_type": "stream",
     "text": [
      "5030\n"
     ]
    }
   ],
   "source": [
    "print(add)"
   ]
  },
  {
   "cell_type": "code",
   "execution_count": 4,
   "id": "820790f8",
   "metadata": {},
   "outputs": [
    {
     "name": "stdout",
     "output_type": "stream",
     "text": [
      "Enter the num1:50\n",
      "Enter the num2:30\n"
     ]
    }
   ],
   "source": [
    "num1 = int(input(\"Enter the num1:\"))\n",
    "num2 = int(input(\"Enter the num2:\"))"
   ]
  },
  {
   "cell_type": "code",
   "execution_count": 5,
   "id": "eb476511",
   "metadata": {},
   "outputs": [],
   "source": [
    "add = num1+num2"
   ]
  },
  {
   "cell_type": "code",
   "execution_count": 6,
   "id": "7cbb23af",
   "metadata": {},
   "outputs": [
    {
     "name": "stdout",
     "output_type": "stream",
     "text": [
      "80\n"
     ]
    }
   ],
   "source": [
    "print(add)"
   ]
  },
  {
   "cell_type": "code",
   "execution_count": 7,
   "id": "c19e201e",
   "metadata": {},
   "outputs": [],
   "source": [
    "sub=num1-num2"
   ]
  },
  {
   "cell_type": "code",
   "execution_count": 8,
   "id": "55955cfb",
   "metadata": {},
   "outputs": [
    {
     "name": "stdout",
     "output_type": "stream",
     "text": [
      "20\n"
     ]
    }
   ],
   "source": [
    "print(sub)"
   ]
  },
  {
   "cell_type": "code",
   "execution_count": null,
   "id": "e1a1ebdd",
   "metadata": {},
   "outputs": [],
   "source": []
  }
 ],
 "metadata": {
  "kernelspec": {
   "display_name": "Python 3 (ipykernel)",
   "language": "python",
   "name": "python3"
  },
  "language_info": {
   "codemirror_mode": {
    "name": "ipython",
    "version": 3
   },
   "file_extension": ".py",
   "mimetype": "text/x-python",
   "name": "python",
   "nbconvert_exporter": "python",
   "pygments_lexer": "ipython3",
   "version": "3.11.5"
  }
 },
 "nbformat": 4,
 "nbformat_minor": 5
}
