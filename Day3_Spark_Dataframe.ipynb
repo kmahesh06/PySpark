{
 "cells": [
  {
   "cell_type": "code",
   "execution_count": null,
   "id": "cf598d3d-4e0e-4d1e-9be3-9decf3d61296",
   "metadata": {},
   "outputs": [],
   "source": []
  },
  {
   "cell_type": "markdown",
   "id": "d7241ac8-a43b-4b6e-8366-dd56a6b9a727",
   "metadata": {},
   "source": [
    "# Apache Spark"
   ]
  },
  {
   "cell_type": "code",
   "execution_count": null,
   "id": "5c9e0f3b-27dc-472d-8ef3-5eec948c77bc",
   "metadata": {},
   "outputs": [],
   "source": []
  },
  {
   "cell_type": "markdown",
   "id": "e3743da7-5e07-44cf-8ba5-4d1ac24a8f3b",
   "metadata": {},
   "source": [
    "## Import PySpark"
   ]
  },
  {
   "cell_type": "code",
   "execution_count": 5,
   "id": "2724db46-4088-401e-a86f-723ca3302894",
   "metadata": {
    "tags": []
   },
   "outputs": [],
   "source": [
    "import findspark\n",
    "findspark.init()\n",
    "\n",
    "import pyspark"
   ]
  },
  {
   "cell_type": "markdown",
   "id": "df5eed08-1d22-4706-bc3b-9f7f982b4a37",
   "metadata": {},
   "source": [
    "## Initiate Spark Session with YARN Mode"
   ]
  },
  {
   "cell_type": "code",
   "execution_count": null,
   "id": "4d719212-e022-41ee-85a0-fd60714090b5",
   "metadata": {},
   "outputs": [],
   "source": []
  },
  {
   "cell_type": "code",
   "execution_count": 6,
   "id": "5676abca-f24d-4870-b009-324613cb92ad",
   "metadata": {
    "tags": []
   },
   "outputs": [
    {
     "name": "stderr",
     "output_type": "stream",
     "text": [
      "Setting default log level to \"WARN\".\n",
      "To adjust logging level use sc.setLogLevel(newLevel). For SparkR, use setLogLevel(newLevel).\n"
     ]
    }
   ],
   "source": [
    "from pyspark.conf import SparkConf\n",
    "from pyspark.sql.session import SparkSession\n",
    "import pyspark.sql.functions as F\n",
    "\n",
    "conf=SparkConf()\n",
    "conf.set(\"spark.driver.memory\",      \"1g\") \n",
    "conf.set(\"spark.executor.memory\",    \"1g\")\n",
    "conf.set(\"spark.executor.instances\", \"2\" )\n",
    "\n",
    "spark = SparkSession.builder.master(\"yarn\").appName(\"Spark BDP Example\").enableHiveSupport().config(conf=conf).getOrCreate()"
   ]
  },
  {
   "cell_type": "code",
   "execution_count": 7,
   "id": "64ada451-7eaa-4017-982f-0d86dfb25232",
   "metadata": {
    "tags": []
   },
   "outputs": [
    {
     "data": {
      "text/html": [
       "\n",
       "            <div>\n",
       "                <p><b>SparkSession - hive</b></p>\n",
       "                \n",
       "        <div>\n",
       "            <p><b>SparkContext</b></p>\n",
       "\n",
       "            <p><a href=\"http://jupyter:4040\">Spark UI</a></p>\n",
       "\n",
       "            <dl>\n",
       "              <dt>Version</dt>\n",
       "                <dd><code>v3.1.2</code></dd>\n",
       "              <dt>Master</dt>\n",
       "                <dd><code>yarn</code></dd>\n",
       "              <dt>AppName</dt>\n",
       "                <dd><code>Spark BDP Example</code></dd>\n",
       "            </dl>\n",
       "        </div>\n",
       "        \n",
       "            </div>\n",
       "        "
      ],
      "text/plain": [
       "<pyspark.sql.session.SparkSession at 0x7f64806cf4f0>"
      ]
     },
     "execution_count": 7,
     "metadata": {},
     "output_type": "execute_result"
    }
   ],
   "source": [
    "spark"
   ]
  },
  {
   "cell_type": "raw",
   "id": "dc9484b7-baf3-428b-9c1d-74b2c0b8dbc3",
   "metadata": {},
   "source": [
    "yarn application -kill application_1689991216079_0001"
   ]
  },
  {
   "cell_type": "code",
   "execution_count": null,
   "id": "501fac8d-01a1-4b14-94bf-854d64ad817c",
   "metadata": {},
   "outputs": [],
   "source": []
  },
  {
   "cell_type": "markdown",
   "id": "0c032f04-89b9-4f88-9895-2419d79a16f8",
   "metadata": {},
   "source": [
    "## Initiate Spark Session with Local Mode"
   ]
  },
  {
   "cell_type": "code",
   "execution_count": 5,
   "id": "25ffa854-a383-4459-954c-57f70171e992",
   "metadata": {
    "tags": []
   },
   "outputs": [],
   "source": [
    "from pyspark.conf import SparkConf\n",
    "from pyspark.sql.session import SparkSession\n",
    "import pyspark.sql.functions as F\n",
    "\n",
    "spark = SparkSession.builder.master(\"local\").appName(\"Spark BDP Example\").enableHiveSupport().config(conf=conf).getOrCreate()"
   ]
  },
  {
   "cell_type": "code",
   "execution_count": 6,
   "id": "d6b0600f-dd12-4c58-9710-b63b4c28825e",
   "metadata": {
    "tags": []
   },
   "outputs": [
    {
     "data": {
      "text/html": [
       "\n",
       "            <div>\n",
       "                <p><b>SparkSession - hive</b></p>\n",
       "                \n",
       "        <div>\n",
       "            <p><b>SparkContext</b></p>\n",
       "\n",
       "            <p><a href=\"http://jupyter:4040\">Spark UI</a></p>\n",
       "\n",
       "            <dl>\n",
       "              <dt>Version</dt>\n",
       "                <dd><code>v3.1.2</code></dd>\n",
       "              <dt>Master</dt>\n",
       "                <dd><code>yarn</code></dd>\n",
       "              <dt>AppName</dt>\n",
       "                <dd><code>Spark BDP Example</code></dd>\n",
       "            </dl>\n",
       "        </div>\n",
       "        \n",
       "            </div>\n",
       "        "
      ],
      "text/plain": [
       "<pyspark.sql.session.SparkSession at 0x7f7ed01c02e0>"
      ]
     },
     "execution_count": 6,
     "metadata": {},
     "output_type": "execute_result"
    }
   ],
   "source": [
    "spark"
   ]
  },
  {
   "cell_type": "code",
   "execution_count": null,
   "id": "6983082a-def6-4843-bde8-99c354b8d3fa",
   "metadata": {},
   "outputs": [],
   "source": []
  },
  {
   "cell_type": "markdown",
   "id": "e50e74b6-b9ce-4e41-b0af-52cbc10dee48",
   "metadata": {},
   "source": [
    "## Dataframe"
   ]
  },
  {
   "cell_type": "code",
   "execution_count": 76,
   "id": "bc62b59f-d058-43db-ba1e-8c9b89e8d16c",
   "metadata": {
    "tags": []
   },
   "outputs": [
    {
     "name": "stdout",
     "output_type": "stream",
     "text": [
      "+---+---------+---+\n",
      "| id|     name|age|\n",
      "+---+---------+---+\n",
      "| 51|  senthil| 12|\n",
      "| 32|saravanan| 44|\n",
      "| 33|   rajesh| 26|\n",
      "| 34|     usha| 20|\n",
      "| 25|     alex| 48|\n",
      "| 16|    nasir| 37|\n",
      "| 17|    singh| 15|\n",
      "| 18| santhosh| 12|\n",
      "| 19|    sarah| 14|\n",
      "| 40|      raj| 27|\n",
      "+---+---------+---+\n",
      "\n"
     ]
    }
   ],
   "source": [
    "df.select(\"id\", \"name\", \"age\").show()"
   ]
  },
  {
   "cell_type": "code",
   "execution_count": 80,
   "id": "b2d04dac-d63b-4c36-b250-a7bb457b4676",
   "metadata": {
    "tags": []
   },
   "outputs": [
    {
     "data": {
      "text/plain": [
       "b'(2) MapPartitionsRDD[64] at javaToPython at NativeMethodAccessorImpl.java:0 []\\n |  MapPartitionsRDD[63] at javaToPython at NativeMethodAccessorImpl.java:0 []\\n |  SQLExecutionRDD[62] at javaToPython at NativeMethodAccessorImpl.java:0 []\\n |  MapPartitionsRDD[61] at javaToPython at NativeMethodAccessorImpl.java:0 []\\n |  MapPartitionsRDD[50] at applySchemaToPythonRDD at NativeMethodAccessorImpl.java:0 []\\n |  MapPartitionsRDD[49] at map at SerDeUtil.scala:69 []\\n |  MapPartitionsRDD[48] at mapPartitions at SerDeUtil.scala:117 []\\n |  PythonRDD[47] at RDD at PythonRDD.scala:53 []\\n |  /user/bigdatapedia/spark_txt MapPartitionsRDD[1] at textFile at NativeMethodAccessorImpl.java:0 []\\n |  /user/bigdatapedia/spark_txt HadoopRDD[0] at textFile at NativeMethodAccessorImpl.java:0 []'"
      ]
     },
     "execution_count": 80,
     "metadata": {},
     "output_type": "execute_result"
    }
   ],
   "source": [
    "df.rdd.toDebugString()"
   ]
  },
  {
   "cell_type": "code",
   "execution_count": null,
   "id": "45160179-c95b-4aa9-941f-a0e4b7f239be",
   "metadata": {},
   "outputs": [],
   "source": [
    "(2) MapPartitionsRDD[64] at javaToPython at NativeMethodAccessorImpl.java:0 []\\n\n",
    "|  MapPartitionsRDD[63] at javaToPython at NativeMethodAccessorImpl.java:0 []\\n\n",
    "|  SQLExecutionRDD[62] at javaToPython at NativeMethodAccessorImpl.java:0 []\\n\n",
    "|  MapPartitionsRDD[61] at javaToPython at NativeMethodAccessorImpl.java:0 []\\n\n",
    "|  MapPartitionsRDD[50] at applySchemaToPythonRDD at NativeMethodAccessorImpl.java:0 []\\n\n",
    "|  MapPartitionsRDD[49] at map at SerDeUtil.scala:69 []\\n\n",
    "|  MapPartitionsRDD[48] at mapPartitions at SerDeUtil.scala:117 []\\n\n",
    "|  PythonRDD[47] at RDD at PythonRDD.scala:53 []\\n\n",
    "|  /user/bigdatapedia/spark_txt MapPartitionsRDD[1] at textFile at NativeMethodAccessorImpl.java:0 []\\n\n",
    "|  /user/bigdatapedia/spark_txt HadoopRDD[0] at textFile at NativeMethodAccessorImpl.java:0 []"
   ]
  },
  {
   "cell_type": "code",
   "execution_count": null,
   "id": "68a1ac57-74cd-40eb-a146-531c3e747962",
   "metadata": {},
   "outputs": [],
   "source": []
  },
  {
   "cell_type": "markdown",
   "id": "7fc0d6ab-67d0-4741-b2a9-fe4a1f024d9b",
   "metadata": {},
   "source": [
    "### Load Sample data "
   ]
  },
  {
   "cell_type": "code",
   "execution_count": 1,
   "id": "cc0aab75-e00c-4b49-a147-f66719a8e07c",
   "metadata": {
    "tags": []
   },
   "outputs": [],
   "source": [
    "!hdfs dfs -mkdir -p /user/bigdatapedia/input/parquet"
   ]
  },
  {
   "cell_type": "code",
   "execution_count": 2,
   "id": "4b0f89f1-a5aa-4186-b475-c74646aa5547",
   "metadata": {
    "tags": []
   },
   "outputs": [],
   "source": [
    "!hdfs dfs -put /home/bigdatapedia/data/customer_parq.parquet /user/bigdatapedia/input/parquet/"
   ]
  },
  {
   "cell_type": "code",
   "execution_count": 3,
   "id": "ea1d2c38-ee8e-4f8e-85c1-12e863040aa6",
   "metadata": {
    "tags": []
   },
   "outputs": [
    {
     "name": "stdout",
     "output_type": "stream",
     "text": [
      "Found 1 items\n",
      "-rw-r--r--   3 bigdatapedia supergroup     254648 2023-07-22 02:28 /user/bigdatapedia/input/parquet/customer_parq.parquet\n"
     ]
    }
   ],
   "source": [
    "!hdfs dfs -ls /user/bigdatapedia/input/parquet"
   ]
  },
  {
   "cell_type": "markdown",
   "id": "042d1ad5-b091-4eae-bc26-7c861a8aee80",
   "metadata": {},
   "source": [
    "### Transformations\n",
    "    Narrow Transformation\n",
    "    Wide Transformation (Shuffle)"
   ]
  },
  {
   "cell_type": "code",
   "execution_count": 8,
   "id": "e05fee78-28b8-4f22-bef2-32353509f6c3",
   "metadata": {
    "tags": []
   },
   "outputs": [
    {
     "name": "stderr",
     "output_type": "stream",
     "text": [
      "                                                                                \r"
     ]
    }
   ],
   "source": [
    "df_cust = spark.read.parquet(\"/user/bigdatapedia/input/parquet\")"
   ]
  },
  {
   "cell_type": "code",
   "execution_count": 9,
   "id": "0f730d40-195f-4910-a7a5-e3a06a1b5692",
   "metadata": {
    "tags": []
   },
   "outputs": [
    {
     "data": {
      "text/plain": [
       "DataFrame[customer_id: int, customer_fname: string, customer_lname: string, customer_email: string, customer_password: string, customer_street: string, customer_city: string, customer_state: string, customer_zipcode: string]"
      ]
     },
     "execution_count": 9,
     "metadata": {},
     "output_type": "execute_result"
    }
   ],
   "source": [
    "df_cust"
   ]
  },
  {
   "cell_type": "code",
   "execution_count": null,
   "id": "8ee8fae1-199f-445b-8e6b-b459414dcd0a",
   "metadata": {},
   "outputs": [],
   "source": []
  },
  {
   "cell_type": "code",
   "execution_count": 10,
   "id": "1aac005b-c0a6-47b1-a480-a70cff82dc71",
   "metadata": {
    "tags": []
   },
   "outputs": [],
   "source": [
    "from pyspark.sql.functions import lit, current_timestamp"
   ]
  },
  {
   "cell_type": "markdown",
   "id": "89397c7d-f236-4784-9e41-bc2829405ede",
   "metadata": {},
   "source": [
    "#### 1) select "
   ]
  },
  {
   "cell_type": "code",
   "execution_count": 34,
   "id": "3ebc89c1-ce0c-4412-bae3-28837bea00ae",
   "metadata": {
    "tags": []
   },
   "outputs": [
    {
     "name": "stdout",
     "output_type": "stream",
     "text": [
      "+-----------+--------------+-------------+--------------+-----------------------+\n",
      "|customer_id|customer_fname|customer_city|customer_state|cre_ts                 |\n",
      "+-----------+--------------+-------------+--------------+-----------------------+\n",
      "|1          |Richard       |Brownsville  |TX            |2023-07-22 02:42:20.099|\n",
      "|2          |Mary          |Littleton    |CO            |2023-07-22 02:42:20.099|\n",
      "|3          |Ann           |Caguas       |PR            |2023-07-22 02:42:20.099|\n",
      "|4          |Mary          |San Marcos   |CA            |2023-07-22 02:42:20.099|\n",
      "|5          |Robert        |Caguas       |PR            |2023-07-22 02:42:20.099|\n",
      "+-----------+--------------+-------------+--------------+-----------------------+\n",
      "only showing top 5 rows\n",
      "\n"
     ]
    }
   ],
   "source": [
    "df_select = df_cust.select(\"customer_id\", \"customer_fname\", \"customer_city\", \"customer_state\", current_timestamp().alias(\"cre_ts\"))\n",
    "\n",
    "df_select.show(5, 0)"
   ]
  },
  {
   "cell_type": "code",
   "execution_count": 79,
   "id": "768c4132-8bed-4d9b-a9f1-9b94f16dde6d",
   "metadata": {
    "tags": []
   },
   "outputs": [
    {
     "name": "stdout",
     "output_type": "stream",
     "text": [
      "root\n",
      " |-- customer_id: integer (nullable = true)\n",
      " |-- customer_fname: string (nullable = true)\n",
      " |-- customer_city: string (nullable = true)\n",
      " |-- customer_state: string (nullable = true)\n",
      " |-- cre_ts: timestamp (nullable = false)\n",
      "\n"
     ]
    }
   ],
   "source": [
    "df_select.printSchema()"
   ]
  },
  {
   "cell_type": "markdown",
   "id": "d872cd7f-a989-442a-9169-94eda909f2cf",
   "metadata": {},
   "source": [
    "#### 2) withColumn"
   ]
  },
  {
   "cell_type": "code",
   "execution_count": 94,
   "id": "2ee54f44-33cf-47dd-8121-d553a6b0e14f",
   "metadata": {
    "tags": []
   },
   "outputs": [],
   "source": [
    "df_cust_wc = df_cust.withColumn(\"new_cust_id\", df_cust[\"customer_id\"] + 100)"
   ]
  },
  {
   "cell_type": "code",
   "execution_count": 95,
   "id": "7c2a3766-8334-4763-9db7-9a163f88fb2c",
   "metadata": {
    "tags": []
   },
   "outputs": [
    {
     "name": "stdout",
     "output_type": "stream",
     "text": [
      "+-----------+--------------+--------------+--------------+-----------------+--------------------+-------------+--------------+----------------+-----------+\n",
      "|customer_id|customer_fname|customer_lname|customer_email|customer_password|     customer_street|customer_city|customer_state|customer_zipcode|new_cust_id|\n",
      "+-----------+--------------+--------------+--------------+-----------------+--------------------+-------------+--------------+----------------+-----------+\n",
      "|          1|       Richard|     Hernandez|     XXXXXXXXX|        XXXXXXXXX|  6303 Heather Plaza|  Brownsville|            TX|           78521|        101|\n",
      "|          2|          Mary|       Barrett|     XXXXXXXXX|        XXXXXXXXX|9526 Noble Embers...|    Littleton|            CO|           80126|        102|\n",
      "|          3|           Ann|         Smith|     XXXXXXXXX|        XXXXXXXXX|3422 Blue Pioneer...|       Caguas|            PR|           00725|        103|\n",
      "|          4|          Mary|         Jones|     XXXXXXXXX|        XXXXXXXXX|  8324 Little Common|   San Marcos|            CA|           92069|        104|\n",
      "|          5|        Robert|        Hudson|     XXXXXXXXX|        XXXXXXXXX|10 Crystal River ...|       Caguas|            PR|           00725|        105|\n",
      "|          6|          Mary|         Smith|     XXXXXXXXX|        XXXXXXXXX|3151 Sleepy Quail...|      Passaic|            NJ|           07055|        106|\n",
      "|          7|       Melissa|        Wilcox|     XXXXXXXXX|        XXXXXXXXX|9453 High Concession|       Caguas|            PR|           00725|        107|\n",
      "|          8|         Megan|         Smith|     XXXXXXXXX|        XXXXXXXXX|3047 Foggy Forest...|     Lawrence|            MA|           01841|        108|\n",
      "|          9|          Mary|         Perez|     XXXXXXXXX|        XXXXXXXXX| 3616 Quaking Street|       Caguas|            PR|           00725|        109|\n",
      "|         10|       Melissa|         Smith|     XXXXXXXXX|        XXXXXXXXX|8598 Harvest Beac...|     Stafford|            VA|           22554|        110|\n",
      "+-----------+--------------+--------------+--------------+-----------------+--------------------+-------------+--------------+----------------+-----------+\n",
      "only showing top 10 rows\n",
      "\n"
     ]
    }
   ],
   "source": [
    "df_cust_wc.show(10)"
   ]
  },
  {
   "cell_type": "code",
   "execution_count": 97,
   "id": "58c9e6c6-b9cc-4c92-ae8a-2a8d068ecca7",
   "metadata": {
    "tags": []
   },
   "outputs": [],
   "source": [
    "df_cust_wc_2 = df_cust.withColumn(\"newnull\", lit(None))"
   ]
  },
  {
   "cell_type": "code",
   "execution_count": 98,
   "id": "c6cba24b-0c04-4cf5-a3de-87e81ca2e5e8",
   "metadata": {
    "tags": []
   },
   "outputs": [
    {
     "name": "stdout",
     "output_type": "stream",
     "text": [
      "+-----------+--------------+--------------+--------------+-----------------+--------------------+-------------+--------------+----------------+-------+\n",
      "|customer_id|customer_fname|customer_lname|customer_email|customer_password|     customer_street|customer_city|customer_state|customer_zipcode|newnull|\n",
      "+-----------+--------------+--------------+--------------+-----------------+--------------------+-------------+--------------+----------------+-------+\n",
      "|          1|       Richard|     Hernandez|     XXXXXXXXX|        XXXXXXXXX|  6303 Heather Plaza|  Brownsville|            TX|           78521|   null|\n",
      "|          2|          Mary|       Barrett|     XXXXXXXXX|        XXXXXXXXX|9526 Noble Embers...|    Littleton|            CO|           80126|   null|\n",
      "|          3|           Ann|         Smith|     XXXXXXXXX|        XXXXXXXXX|3422 Blue Pioneer...|       Caguas|            PR|           00725|   null|\n",
      "|          4|          Mary|         Jones|     XXXXXXXXX|        XXXXXXXXX|  8324 Little Common|   San Marcos|            CA|           92069|   null|\n",
      "|          5|        Robert|        Hudson|     XXXXXXXXX|        XXXXXXXXX|10 Crystal River ...|       Caguas|            PR|           00725|   null|\n",
      "|          6|          Mary|         Smith|     XXXXXXXXX|        XXXXXXXXX|3151 Sleepy Quail...|      Passaic|            NJ|           07055|   null|\n",
      "|          7|       Melissa|        Wilcox|     XXXXXXXXX|        XXXXXXXXX|9453 High Concession|       Caguas|            PR|           00725|   null|\n",
      "|          8|         Megan|         Smith|     XXXXXXXXX|        XXXXXXXXX|3047 Foggy Forest...|     Lawrence|            MA|           01841|   null|\n",
      "|          9|          Mary|         Perez|     XXXXXXXXX|        XXXXXXXXX| 3616 Quaking Street|       Caguas|            PR|           00725|   null|\n",
      "|         10|       Melissa|         Smith|     XXXXXXXXX|        XXXXXXXXX|8598 Harvest Beac...|     Stafford|            VA|           22554|   null|\n",
      "|         11|          Mary|       Huffman|     XXXXXXXXX|        XXXXXXXXX|    3169 Stony Woods|       Caguas|            PR|           00725|   null|\n",
      "|         12|   Christopher|         Smith|     XXXXXXXXX|        XXXXXXXXX|5594 Jagged Ember...|  San Antonio|            TX|           78227|   null|\n",
      "|         13|          Mary|       Baldwin|     XXXXXXXXX|        XXXXXXXXX|7922 Iron Oak Gar...|       Caguas|            PR|           00725|   null|\n",
      "|         14|     Katherine|         Smith|     XXXXXXXXX|        XXXXXXXXX|5666 Hazy Pony Sq...|  Pico Rivera|            CA|           90660|   null|\n",
      "|         15|          Jane|          Luna|     XXXXXXXXX|        XXXXXXXXX|    673 Burning Glen|      Fontana|            CA|           92336|   null|\n",
      "|         16|       Tiffany|         Smith|     XXXXXXXXX|        XXXXXXXXX|      6651 Iron Port|       Caguas|            PR|           00725|   null|\n",
      "|         17|          Mary|      Robinson|     XXXXXXXXX|        XXXXXXXXX|     1325 Noble Pike|       Taylor|            MI|           48180|   null|\n",
      "|         18|        Robert|         Smith|     XXXXXXXXX|        XXXXXXXXX|2734 Hazy Butterf...|     Martinez|            CA|           94553|   null|\n",
      "|         19|     Stephanie|      Mitchell|     XXXXXXXXX|        XXXXXXXXX|3543 Red Treasure...|       Caguas|            PR|           00725|   null|\n",
      "|         20|          Mary|         Ellis|     XXXXXXXXX|        XXXXXXXXX|      4703 Old Route|West New York|            NJ|           07093|   null|\n",
      "+-----------+--------------+--------------+--------------+-----------------+--------------------+-------------+--------------+----------------+-------+\n",
      "only showing top 20 rows\n",
      "\n"
     ]
    }
   ],
   "source": [
    "df_cust_wc_2.show()"
   ]
  },
  {
   "cell_type": "code",
   "execution_count": 100,
   "id": "43ead0a0-e19b-4571-8de7-627555119b2d",
   "metadata": {
    "tags": []
   },
   "outputs": [],
   "source": [
    "df_cust_wc_3 = df_cust.withColumn(\"cre_ts\", current_timestamp())"
   ]
  },
  {
   "cell_type": "code",
   "execution_count": 104,
   "id": "d4cfaaaa-b9de-49e0-b596-f6c8e263f1f5",
   "metadata": {
    "tags": []
   },
   "outputs": [
    {
     "name": "stdout",
     "output_type": "stream",
     "text": [
      "+-----------+--------------+-----------------------+\n",
      "|customer_id|customer_fname|cre_ts                 |\n",
      "+-----------+--------------+-----------------------+\n",
      "|1          |Richard       |2023-07-16 03:29:55.108|\n",
      "|2          |Mary          |2023-07-16 03:29:55.108|\n",
      "|3          |Ann           |2023-07-16 03:29:55.108|\n",
      "|4          |Mary          |2023-07-16 03:29:55.108|\n",
      "|5          |Robert        |2023-07-16 03:29:55.108|\n",
      "+-----------+--------------+-----------------------+\n",
      "only showing top 5 rows\n",
      "\n"
     ]
    }
   ],
   "source": [
    "df_cust_wc_3.select(\"customer_id\", \"customer_fname\", \"cre_ts\").show(5, False)"
   ]
  },
  {
   "cell_type": "markdown",
   "id": "6911b69f-c528-4808-bed7-696498dc8a98",
   "metadata": {},
   "source": [
    "#### 3) Filter"
   ]
  },
  {
   "cell_type": "code",
   "execution_count": 21,
   "id": "165f897a-5ef8-49fb-b223-f236f5e55452",
   "metadata": {
    "tags": []
   },
   "outputs": [],
   "source": [
    "df_filter_onlyTx = df_cust.filter(\"customer_state == 'TX'\")"
   ]
  },
  {
   "cell_type": "code",
   "execution_count": 22,
   "id": "dc00d4a5-5ab0-4493-86a2-d594c70391b0",
   "metadata": {
    "tags": []
   },
   "outputs": [
    {
     "name": "stdout",
     "output_type": "stream",
     "text": [
      "+-----------+--------------+--------------+--------------+-----------------+--------------------------+-------------+--------------+----------------+\n",
      "|customer_id|customer_fname|customer_lname|customer_email|customer_password|customer_street           |customer_city|customer_state|customer_zipcode|\n",
      "+-----------+--------------+--------------+--------------+-----------------+--------------------------+-------------+--------------+----------------+\n",
      "|1          |Richard       |Hernandez     |XXXXXXXXX     |XXXXXXXXX        |6303 Heather Plaza        |Brownsville  |TX            |78521           |\n",
      "|12         |Christopher   |Smith         |XXXXXXXXX     |XXXXXXXXX        |5594 Jagged Embers By-pass|San Antonio  |TX            |78227           |\n",
      "|29         |Mary          |Humphrey      |XXXXXXXXX     |XXXXXXXXX        |2469 Blue Brook Crossing  |Fort Worth   |TX            |76133           |\n",
      "|82         |Jonathan      |Cook          |XXXXXXXXX     |XXXXXXXXX        |7885 Sleepy Cove          |San Antonio  |TX            |78240           |\n",
      "|86         |John          |Smith         |XXXXXXXXX     |XXXXXXXXX        |8780 Colonial Orchard     |Fort Worth   |TX            |76106           |\n",
      "+-----------+--------------+--------------+--------------+-----------------+--------------------------+-------------+--------------+----------------+\n",
      "only showing top 5 rows\n",
      "\n"
     ]
    }
   ],
   "source": [
    "df_filter_onlyTx.show(5, 0)"
   ]
  },
  {
   "cell_type": "code",
   "execution_count": 23,
   "id": "9a136dee-34a2-4db3-8a15-93a5fdcd2783",
   "metadata": {
    "tags": []
   },
   "outputs": [
    {
     "data": {
      "text/plain": [
       "635"
      ]
     },
     "execution_count": 23,
     "metadata": {},
     "output_type": "execute_result"
    }
   ],
   "source": [
    "df_filter_onlyTx.count()"
   ]
  },
  {
   "cell_type": "code",
   "execution_count": 39,
   "id": "126c9e5c-8d5d-4440-a378-20dc9108e8b7",
   "metadata": {
    "tags": []
   },
   "outputs": [],
   "source": [
    "df_filter = df_select.filter(\"customer_state in ('AR', 'TX') \")"
   ]
  },
  {
   "cell_type": "code",
   "execution_count": 25,
   "id": "87b4ed59-5a77-4212-8b2a-a967892cd87b",
   "metadata": {
    "tags": []
   },
   "outputs": [
    {
     "data": {
      "text/plain": [
       "647"
      ]
     },
     "execution_count": 25,
     "metadata": {},
     "output_type": "execute_result"
    }
   ],
   "source": [
    "df_filter.count()"
   ]
  },
  {
   "cell_type": "markdown",
   "id": "8cdbeb0c-9005-40c4-82c8-3a37f9052dc6",
   "metadata": {},
   "source": [
    "#### 4) Order By *"
   ]
  },
  {
   "cell_type": "code",
   "execution_count": 40,
   "id": "6818158e-5de0-4279-8c56-66643cdf4711",
   "metadata": {
    "tags": []
   },
   "outputs": [],
   "source": [
    "df_order = df_filter.orderBy(\"customer_state\", ascending=False)"
   ]
  },
  {
   "cell_type": "code",
   "execution_count": 41,
   "id": "10baf35a-974e-40fa-bd99-3dd530a46da9",
   "metadata": {
    "tags": []
   },
   "outputs": [],
   "source": [
    "df_order = df_filter.orderBy(\"customer_state\", ascending=True)"
   ]
  },
  {
   "cell_type": "code",
   "execution_count": 42,
   "id": "920a7534-5a0c-4f78-902e-0db078c55f30",
   "metadata": {
    "tags": []
   },
   "outputs": [
    {
     "name": "stdout",
     "output_type": "stream",
     "text": [
      "+-----------+--------------+-------------+--------------+-----------------------+\n",
      "|customer_id|customer_fname|customer_city|customer_state|cre_ts                 |\n",
      "+-----------+--------------+-------------+--------------+-----------------------+\n",
      "|1947       |Mary          |Conway       |AR            |2023-07-22 02:43:20.519|\n",
      "|1338       |Linda         |Conway       |AR            |2023-07-22 02:43:20.519|\n",
      "|10039      |Mary          |Conway       |AR            |2023-07-22 02:43:20.519|\n",
      "|12074      |Mary          |Conway       |AR            |2023-07-22 02:43:20.519|\n",
      "|4561       |Scott         |Jonesboro    |AR            |2023-07-22 02:43:20.519|\n",
      "|5026       |Christian     |Jonesboro    |AR            |2023-07-22 02:43:20.519|\n",
      "|965        |Sean          |Jonesboro    |AR            |2023-07-22 02:43:20.519|\n",
      "|5075       |Sharon        |Jonesboro    |AR            |2023-07-22 02:43:20.519|\n",
      "|3971       |John          |Jonesboro    |AR            |2023-07-22 02:43:20.519|\n",
      "|7189       |Pamela        |Jonesboro    |AR            |2023-07-22 02:43:20.519|\n",
      "|9084       |Jack          |Jonesboro    |AR            |2023-07-22 02:43:20.519|\n",
      "|4184       |Brittany      |Conway       |AR            |2023-07-22 02:43:20.519|\n",
      "|1          |Richard       |Brownsville  |TX            |2023-07-22 02:43:20.519|\n",
      "|82         |Jonathan      |San Antonio  |TX            |2023-07-22 02:43:20.519|\n",
      "|12         |Christopher   |San Antonio  |TX            |2023-07-22 02:43:20.519|\n",
      "|86         |John          |Fort Worth   |TX            |2023-07-22 02:43:20.519|\n",
      "|151        |Lisa          |Richmond     |TX            |2023-07-22 02:43:20.519|\n",
      "|29         |Mary          |Fort Worth   |TX            |2023-07-22 02:43:20.519|\n",
      "|91         |Ashley        |Spring       |TX            |2023-07-22 02:43:20.519|\n",
      "|189        |Angela        |San Marcos   |TX            |2023-07-22 02:43:20.519|\n",
      "+-----------+--------------+-------------+--------------+-----------------------+\n",
      "only showing top 20 rows\n",
      "\n"
     ]
    }
   ],
   "source": [
    "df_order.show(20,0)"
   ]
  },
  {
   "cell_type": "markdown",
   "id": "5e9b02ea-7a47-4303-865c-4a932362eb9e",
   "metadata": {},
   "source": [
    "#### 5) Distinct *"
   ]
  },
  {
   "cell_type": "code",
   "execution_count": 56,
   "id": "4fb18563-d8af-40bb-9f1e-b12378848067",
   "metadata": {
    "tags": []
   },
   "outputs": [],
   "source": [
    "df_distinct = df_order.select(\"customer_city\", \"customer_state\").distinct()"
   ]
  },
  {
   "cell_type": "code",
   "execution_count": 57,
   "id": "de41de80-26e5-4c45-b68b-4bc4f75ef916",
   "metadata": {
    "tags": []
   },
   "outputs": [
    {
     "name": "stderr",
     "output_type": "stream",
     "text": [
      "                                                                                \r"
     ]
    },
    {
     "data": {
      "text/plain": [
       "40"
      ]
     },
     "execution_count": 57,
     "metadata": {},
     "output_type": "execute_result"
    }
   ],
   "source": [
    "df_distinct.count()"
   ]
  },
  {
   "cell_type": "code",
   "execution_count": 52,
   "id": "3c1bca2b-eb8e-4baa-8cfc-ea61eb37378d",
   "metadata": {
    "tags": []
   },
   "outputs": [],
   "source": [
    "df_distinct = df_order.select(\"customer_state\").distinct()"
   ]
  },
  {
   "cell_type": "code",
   "execution_count": 53,
   "id": "063fa215-a5e8-4c71-84fb-ac5a1d99723e",
   "metadata": {
    "tags": []
   },
   "outputs": [
    {
     "name": "stderr",
     "output_type": "stream",
     "text": [
      "                                                                                \r"
     ]
    },
    {
     "data": {
      "text/plain": [
       "2"
      ]
     },
     "execution_count": 53,
     "metadata": {},
     "output_type": "execute_result"
    }
   ],
   "source": [
    "df_distinct.count()"
   ]
  },
  {
   "cell_type": "code",
   "execution_count": 54,
   "id": "1ef2a798-493e-4ce0-bad5-8a33acd9719b",
   "metadata": {
    "tags": []
   },
   "outputs": [
    {
     "name": "stdout",
     "output_type": "stream",
     "text": [
      "+--------------+\n",
      "|customer_state|\n",
      "+--------------+\n",
      "|            TX|\n",
      "|            AR|\n",
      "+--------------+\n",
      "\n"
     ]
    }
   ],
   "source": [
    "df_distinct.show()"
   ]
  },
  {
   "cell_type": "markdown",
   "id": "50001de8-5880-46fe-8f4c-09bf8d6c9deb",
   "metadata": {},
   "source": [
    "#### 6) withColumnRenamed"
   ]
  },
  {
   "cell_type": "code",
   "execution_count": 58,
   "id": "6fc2554c-190f-4646-9892-ad437afa1044",
   "metadata": {
    "tags": []
   },
   "outputs": [
    {
     "name": "stdout",
     "output_type": "stream",
     "text": [
      "+--------------------+--------------+\n",
      "|       customer_city|customer_state|\n",
      "+--------------------+--------------+\n",
      "|          San Marcos|            TX|\n",
      "|             Weslaco|            TX|\n",
      "|          Round Rock|            TX|\n",
      "|       Grand Prairie|            TX|\n",
      "|          San Benito|            TX|\n",
      "|                Katy|            TX|\n",
      "|          Richardson|            TX|\n",
      "|           Arlington|            TX|\n",
      "|              Laredo|            TX|\n",
      "|          Lewisville|            TX|\n",
      "|       New Braunfels|            TX|\n",
      "|              Dallas|            TX|\n",
      "|            Edinburg|            TX|\n",
      "|              Spring|            TX|\n",
      "|              Austin|            TX|\n",
      "|North Richland Hills|            TX|\n",
      "|          Fort Worth|            TX|\n",
      "|               Pharr|            TX|\n",
      "|         San Antonio|            TX|\n",
      "|             Baytown|            TX|\n",
      "+--------------------+--------------+\n",
      "only showing top 20 rows\n",
      "\n"
     ]
    }
   ],
   "source": [
    "df_distinct.show()"
   ]
  },
  {
   "cell_type": "code",
   "execution_count": 59,
   "id": "0937ff26-0c90-4026-9f2c-07f335a1a87d",
   "metadata": {
    "tags": []
   },
   "outputs": [],
   "source": [
    "df_wcr = df_distinct.withColumnRenamed(\"customer_city\", \"City\")"
   ]
  },
  {
   "cell_type": "code",
   "execution_count": 60,
   "id": "7cc1a1b2-3c0c-4494-bac5-cc6bbd9b9c63",
   "metadata": {
    "tags": []
   },
   "outputs": [
    {
     "name": "stdout",
     "output_type": "stream",
     "text": [
      "+--------------------+--------------+\n",
      "|                City|customer_state|\n",
      "+--------------------+--------------+\n",
      "|          San Marcos|            TX|\n",
      "|             Weslaco|            TX|\n",
      "|          Round Rock|            TX|\n",
      "|       Grand Prairie|            TX|\n",
      "|          San Benito|            TX|\n",
      "|                Katy|            TX|\n",
      "|          Richardson|            TX|\n",
      "|           Arlington|            TX|\n",
      "|              Laredo|            TX|\n",
      "|          Lewisville|            TX|\n",
      "|       New Braunfels|            TX|\n",
      "|              Dallas|            TX|\n",
      "|            Edinburg|            TX|\n",
      "|              Spring|            TX|\n",
      "|              Austin|            TX|\n",
      "|North Richland Hills|            TX|\n",
      "|          Fort Worth|            TX|\n",
      "|               Pharr|            TX|\n",
      "|         San Antonio|            TX|\n",
      "|             Baytown|            TX|\n",
      "+--------------------+--------------+\n",
      "only showing top 20 rows\n",
      "\n"
     ]
    }
   ],
   "source": [
    "df_wcr.show()"
   ]
  },
  {
   "cell_type": "markdown",
   "id": "865e542c-ce76-4a4f-8813-207655f7c3a9",
   "metadata": {},
   "source": [
    "#### 7) DropDuplicate *"
   ]
  },
  {
   "cell_type": "code",
   "execution_count": 61,
   "id": "cf6b2e1c-5fa8-4ec0-b57f-9be4f671e45e",
   "metadata": {
    "tags": []
   },
   "outputs": [
    {
     "data": {
      "text/plain": [
       "647"
      ]
     },
     "execution_count": 61,
     "metadata": {},
     "output_type": "execute_result"
    }
   ],
   "source": [
    "df_order.count()"
   ]
  },
  {
   "cell_type": "code",
   "execution_count": 62,
   "id": "26ff947d-aee2-40d6-84e7-823a4419c959",
   "metadata": {
    "tags": []
   },
   "outputs": [
    {
     "name": "stderr",
     "output_type": "stream",
     "text": [
      "                                                                                \r"
     ]
    },
    {
     "data": {
      "text/plain": [
       "40"
      ]
     },
     "execution_count": 62,
     "metadata": {},
     "output_type": "execute_result"
    }
   ],
   "source": [
    "df_distinct.count()"
   ]
  },
  {
   "cell_type": "code",
   "execution_count": 69,
   "id": "8cfb34d5-1284-43f1-ab16-ce49a71a7a7e",
   "metadata": {
    "tags": []
   },
   "outputs": [],
   "source": [
    "df_1 = df_order.select(\"customer_city\", \"customer_state\")"
   ]
  },
  {
   "cell_type": "code",
   "execution_count": 74,
   "id": "218bbc17-d90e-482f-b5f5-de765c836ddd",
   "metadata": {
    "tags": []
   },
   "outputs": [
    {
     "data": {
      "text/plain": [
       "647"
      ]
     },
     "execution_count": 74,
     "metadata": {},
     "output_type": "execute_result"
    }
   ],
   "source": [
    "df_1.count()"
   ]
  },
  {
   "cell_type": "code",
   "execution_count": 72,
   "id": "007eff8a-72de-4ec6-a72b-b40c45f99c99",
   "metadata": {
    "tags": []
   },
   "outputs": [],
   "source": [
    "df_dropDup = df_1.dropDuplicates()"
   ]
  },
  {
   "cell_type": "code",
   "execution_count": 73,
   "id": "af2bf559-26c6-4b25-a447-1b7f84bf30bc",
   "metadata": {
    "tags": []
   },
   "outputs": [
    {
     "name": "stderr",
     "output_type": "stream",
     "text": [
      "                                                                                \r"
     ]
    },
    {
     "data": {
      "text/plain": [
       "40"
      ]
     },
     "execution_count": 73,
     "metadata": {},
     "output_type": "execute_result"
    }
   ],
   "source": [
    "df_dropDup.count()"
   ]
  },
  {
   "cell_type": "markdown",
   "id": "ed6086b1-37f2-4221-8b67-312bfab907ef",
   "metadata": {
    "tags": []
   },
   "source": [
    "#### 8) Drop Column"
   ]
  },
  {
   "cell_type": "code",
   "execution_count": 75,
   "id": "537daa9b-abfb-41cc-9994-75e4bcd0d9c3",
   "metadata": {
    "tags": []
   },
   "outputs": [
    {
     "name": "stdout",
     "output_type": "stream",
     "text": [
      "+-------------+--------------+\n",
      "|customer_city|customer_state|\n",
      "+-------------+--------------+\n",
      "|    Jonesboro|            AR|\n",
      "|    Jonesboro|            AR|\n",
      "|       Conway|            AR|\n",
      "|       Conway|            AR|\n",
      "|    Jonesboro|            AR|\n",
      "+-------------+--------------+\n",
      "only showing top 5 rows\n",
      "\n"
     ]
    }
   ],
   "source": [
    "df_1.show(5)"
   ]
  },
  {
   "cell_type": "code",
   "execution_count": 76,
   "id": "5c695611-6ab3-4f51-ab91-740f27eb3492",
   "metadata": {
    "tags": []
   },
   "outputs": [],
   "source": [
    "df_drop = df_1.drop(\"customer_state\")"
   ]
  },
  {
   "cell_type": "code",
   "execution_count": 77,
   "id": "6d5a7773-3df0-49b0-81eb-5fb8086b9bac",
   "metadata": {
    "tags": []
   },
   "outputs": [
    {
     "name": "stdout",
     "output_type": "stream",
     "text": [
      "+-------------+\n",
      "|customer_city|\n",
      "+-------------+\n",
      "|    Jonesboro|\n",
      "|    Jonesboro|\n",
      "|       Conway|\n",
      "|       Conway|\n",
      "|    Jonesboro|\n",
      "+-------------+\n",
      "only showing top 5 rows\n",
      "\n"
     ]
    }
   ],
   "source": [
    "df_drop.show(5)"
   ]
  },
  {
   "cell_type": "markdown",
   "id": "d7318a32-f455-4439-8fac-638960458e3f",
   "metadata": {},
   "source": [
    "#### 9) SelectExpr"
   ]
  },
  {
   "cell_type": "code",
   "execution_count": 79,
   "id": "aca340ee-0c1f-49cf-baf3-d2c1a08f235a",
   "metadata": {
    "tags": []
   },
   "outputs": [
    {
     "name": "stdout",
     "output_type": "stream",
     "text": [
      "root\n",
      " |-- customer_id: integer (nullable = true)\n",
      " |-- customer_fname: string (nullable = true)\n",
      " |-- customer_city: string (nullable = true)\n",
      " |-- customer_state: string (nullable = true)\n",
      " |-- cre_ts: timestamp (nullable = false)\n",
      "\n"
     ]
    }
   ],
   "source": [
    "df_select.printSchema()"
   ]
  },
  {
   "cell_type": "code",
   "execution_count": 80,
   "id": "5e3f2d65-f540-472c-a451-6cb295017738",
   "metadata": {
    "tags": []
   },
   "outputs": [
    {
     "name": "stdout",
     "output_type": "stream",
     "text": [
      "+-----------+--------------+-------------+--------------+--------------------+\n",
      "|customer_id|customer_fname|customer_city|customer_state|              cre_ts|\n",
      "+-----------+--------------+-------------+--------------+--------------------+\n",
      "|          1|       Richard|  Brownsville|            TX|2023-07-22 03:03:...|\n",
      "|          2|          Mary|    Littleton|            CO|2023-07-22 03:03:...|\n",
      "|          3|           Ann|       Caguas|            PR|2023-07-22 03:03:...|\n",
      "+-----------+--------------+-------------+--------------+--------------------+\n",
      "only showing top 3 rows\n",
      "\n"
     ]
    }
   ],
   "source": [
    "df_select.show(3)"
   ]
  },
  {
   "cell_type": "code",
   "execution_count": 96,
   "id": "3e62a9fe-e166-499c-b656-4d96ddd0b924",
   "metadata": {
    "tags": []
   },
   "outputs": [],
   "source": [
    "df_cast = df_select.selectExpr(\"*\", 'cast(cre_ts as string) as sys_ts')"
   ]
  },
  {
   "cell_type": "code",
   "execution_count": 99,
   "id": "52659ed9-2315-4177-9beb-cd62ea0169cb",
   "metadata": {
    "tags": []
   },
   "outputs": [
    {
     "name": "stdout",
     "output_type": "stream",
     "text": [
      "+-----------+--------------+-------------+--------------+-----------------------+-----------------------+\n",
      "|customer_id|customer_fname|customer_city|customer_state|cre_ts                 |sys_ts                 |\n",
      "+-----------+--------------+-------------+--------------+-----------------------+-----------------------+\n",
      "|1          |Richard       |Brownsville  |TX            |2023-07-22 03:10:17.674|2023-07-22 03:10:17.674|\n",
      "|2          |Mary          |Littleton    |CO            |2023-07-22 03:10:17.674|2023-07-22 03:10:17.674|\n",
      "|3          |Ann           |Caguas       |PR            |2023-07-22 03:10:17.674|2023-07-22 03:10:17.674|\n",
      "+-----------+--------------+-------------+--------------+-----------------------+-----------------------+\n",
      "only showing top 3 rows\n",
      "\n"
     ]
    }
   ],
   "source": [
    "df_cast.show(3, 0)"
   ]
  },
  {
   "cell_type": "code",
   "execution_count": 98,
   "id": "98804389-106b-4e29-8ab4-23f2e1a34071",
   "metadata": {
    "tags": []
   },
   "outputs": [
    {
     "name": "stdout",
     "output_type": "stream",
     "text": [
      "root\n",
      " |-- customer_id: integer (nullable = true)\n",
      " |-- customer_fname: string (nullable = true)\n",
      " |-- customer_city: string (nullable = true)\n",
      " |-- customer_state: string (nullable = true)\n",
      " |-- cre_ts: timestamp (nullable = false)\n",
      " |-- sys_ts: string (nullable = false)\n",
      "\n"
     ]
    }
   ],
   "source": [
    "df_cast.printSchema()"
   ]
  },
  {
   "cell_type": "markdown",
   "id": "0afefdf3-27a7-4d1f-a01e-ec386fbce11c",
   "metadata": {},
   "source": [
    "#### 10) GroupBy *"
   ]
  },
  {
   "cell_type": "code",
   "execution_count": 100,
   "id": "fd2f9251-457d-46c7-ac4f-fb6675b1ed8b",
   "metadata": {
    "tags": []
   },
   "outputs": [],
   "source": [
    "df_groupby = df_select.groupby(\"customer_state\").count()"
   ]
  },
  {
   "cell_type": "code",
   "execution_count": 101,
   "id": "a1dba2bb-ae19-4e14-8121-26a326d090cb",
   "metadata": {
    "tags": []
   },
   "outputs": [
    {
     "data": {
      "text/plain": [
       "pyspark.sql.dataframe.DataFrame"
      ]
     },
     "execution_count": 101,
     "metadata": {},
     "output_type": "execute_result"
    }
   ],
   "source": [
    "type(df_groupby)"
   ]
  },
  {
   "cell_type": "code",
   "execution_count": 105,
   "id": "a524121f-55a3-4970-84ad-9dc05355fa0e",
   "metadata": {
    "tags": []
   },
   "outputs": [
    {
     "name": "stdout",
     "output_type": "stream",
     "text": [
      "+--------------+-----+\n",
      "|customer_state|count|\n",
      "+--------------+-----+\n",
      "|AZ            |213  |\n",
      "|SC            |41   |\n",
      "|LA            |63   |\n",
      "|MN            |39   |\n",
      "|NJ            |219  |\n",
      "+--------------+-----+\n",
      "only showing top 5 rows\n",
      "\n"
     ]
    }
   ],
   "source": [
    "df_groupby.show(5,0)"
   ]
  },
  {
   "cell_type": "code",
   "execution_count": 107,
   "id": "5f653995-3751-40a7-b064-06836c0a9903",
   "metadata": {
    "tags": []
   },
   "outputs": [],
   "source": [
    "df_groupby_2 = df_select.groupby(\"customer_state\").agg({'customer_state':'count'})"
   ]
  },
  {
   "cell_type": "code",
   "execution_count": 108,
   "id": "f3225bfb-9117-4bcd-a392-a9a2e6ae473d",
   "metadata": {
    "tags": []
   },
   "outputs": [
    {
     "name": "stdout",
     "output_type": "stream",
     "text": [
      "+--------------+---------------------+\n",
      "|customer_state|count(customer_state)|\n",
      "+--------------+---------------------+\n",
      "|AZ            |213                  |\n",
      "|SC            |41                   |\n",
      "|LA            |63                   |\n",
      "|MN            |39                   |\n",
      "|NJ            |219                  |\n",
      "+--------------+---------------------+\n",
      "only showing top 5 rows\n",
      "\n"
     ]
    }
   ],
   "source": [
    "df_groupby_2.show(5,0)"
   ]
  },
  {
   "cell_type": "code",
   "execution_count": 102,
   "id": "f81c2ed1-92dd-4c75-9702-c9ee9e53a357",
   "metadata": {
    "tags": []
   },
   "outputs": [
    {
     "name": "stderr",
     "output_type": "stream",
     "text": [
      "                                                                                \r"
     ]
    }
   ],
   "source": [
    "df_groupby_1 = df_select.groupby(\"customer_state\").count().count()"
   ]
  },
  {
   "cell_type": "code",
   "execution_count": 103,
   "id": "d292a60d-0fef-4cfe-a5bd-ebcafcf05324",
   "metadata": {
    "tags": []
   },
   "outputs": [
    {
     "data": {
      "text/plain": [
       "int"
      ]
     },
     "execution_count": 103,
     "metadata": {},
     "output_type": "execute_result"
    }
   ],
   "source": [
    "type(df_groupby_1)"
   ]
  },
  {
   "cell_type": "code",
   "execution_count": 104,
   "id": "53db7517-40fd-4435-abf0-439998f9ae92",
   "metadata": {
    "tags": []
   },
   "outputs": [
    {
     "data": {
      "text/plain": [
       "44"
      ]
     },
     "execution_count": 104,
     "metadata": {},
     "output_type": "execute_result"
    }
   ],
   "source": [
    "df_groupby_1"
   ]
  },
  {
   "cell_type": "code",
   "execution_count": 111,
   "id": "66d3147d-c53c-419d-bd0d-5201a4407773",
   "metadata": {
    "tags": []
   },
   "outputs": [
    {
     "name": "stdout",
     "output_type": "stream",
     "text": [
      "+--------------+-----+\n",
      "|customer_state|count|\n",
      "+--------------+-----+\n",
      "|AZ            |213  |\n",
      "|SC            |41   |\n",
      "|LA            |63   |\n",
      "+--------------+-----+\n",
      "only showing top 3 rows\n",
      "\n"
     ]
    }
   ],
   "source": [
    "df_groupby.show(3,0)"
   ]
  },
  {
   "cell_type": "code",
   "execution_count": 112,
   "id": "1d16c332-555c-4b4b-96a8-453ce86ef07f",
   "metadata": {
    "tags": []
   },
   "outputs": [
    {
     "name": "stdout",
     "output_type": "stream",
     "text": [
      "+--------------+-----+\n",
      "|customer_state|count|\n",
      "+--------------+-----+\n",
      "|AZ            |213  |\n",
      "+--------------+-----+\n",
      "\n"
     ]
    }
   ],
   "source": [
    "df_groupby.filter(\"customer_state == 'AZ'\").show(3,0)"
   ]
  },
  {
   "cell_type": "markdown",
   "id": "d851298b-c844-4a0a-8750-3cb58168ccbb",
   "metadata": {},
   "source": [
    "#### 11) Limit"
   ]
  },
  {
   "cell_type": "code",
   "execution_count": 143,
   "id": "689e5225-a0b1-4046-aa4c-6f9a833f9047",
   "metadata": {
    "tags": []
   },
   "outputs": [
    {
     "data": {
      "text/plain": [
       "12435"
      ]
     },
     "execution_count": 143,
     "metadata": {},
     "output_type": "execute_result"
    }
   ],
   "source": [
    "df_select.count()"
   ]
  },
  {
   "cell_type": "code",
   "execution_count": 144,
   "id": "cc1bc236-45a6-4668-9ec9-f3342d63c39f",
   "metadata": {
    "tags": []
   },
   "outputs": [],
   "source": [
    "df_limit_10 = df_select.limit(10)"
   ]
  },
  {
   "cell_type": "code",
   "execution_count": 145,
   "id": "50e0fbd3-3f14-4c12-abbc-20bb2cacb76d",
   "metadata": {
    "tags": []
   },
   "outputs": [
    {
     "data": {
      "text/plain": [
       "10"
      ]
     },
     "execution_count": 145,
     "metadata": {},
     "output_type": "execute_result"
    }
   ],
   "source": [
    "df_limit_10.count()"
   ]
  },
  {
   "cell_type": "markdown",
   "id": "6be3a0ff-5eec-4dfc-8367-f606b62dcd8d",
   "metadata": {},
   "source": [
    "#### 12) Joins *"
   ]
  },
  {
   "cell_type": "code",
   "execution_count": 151,
   "id": "80c5e3c7-625b-4c37-a566-848b1407d69d",
   "metadata": {
    "tags": []
   },
   "outputs": [
    {
     "name": "stdout",
     "output_type": "stream",
     "text": [
      "root\n",
      " |-- customer_id: integer (nullable = true)\n",
      " |-- customer_fname: string (nullable = true)\n",
      " |-- customer_lname: string (nullable = true)\n",
      " |-- customer_email: string (nullable = true)\n",
      " |-- customer_password: string (nullable = true)\n",
      " |-- customer_street: string (nullable = true)\n",
      " |-- customer_city: string (nullable = true)\n",
      " |-- customer_state: string (nullable = true)\n",
      " |-- customer_zipcode: string (nullable = true)\n",
      "\n"
     ]
    }
   ],
   "source": [
    "df_cust.printSchema()"
   ]
  },
  {
   "cell_type": "code",
   "execution_count": 146,
   "id": "136a432b-624c-4b3f-82da-2827c94d4f84",
   "metadata": {
    "tags": []
   },
   "outputs": [],
   "source": [
    "!hdfs dfs -mkdir -p /user/bigdatapedia/input/orc"
   ]
  },
  {
   "cell_type": "code",
   "execution_count": 147,
   "id": "bb167515-9807-4309-90b1-78da582a3af3",
   "metadata": {
    "tags": []
   },
   "outputs": [],
   "source": [
    "!hdfs dfs -put /home/bigdatapedia/data/new_orders.snappy.orc /user/bigdatapedia/input/orc/"
   ]
  },
  {
   "cell_type": "code",
   "execution_count": 148,
   "id": "2048f8a5-3132-4b69-8296-1c99c6b7bd65",
   "metadata": {
    "tags": []
   },
   "outputs": [
    {
     "name": "stdout",
     "output_type": "stream",
     "text": [
      "Found 1 items\n",
      "-rw-r--r--   3 bigdatapedia supergroup     185892 2023-07-22 03:46 /user/bigdatapedia/input/orc/new_orders.snappy.orc\n"
     ]
    }
   ],
   "source": [
    "!hdfs dfs -ls /user/bigdatapedia/input/orc"
   ]
  },
  {
   "cell_type": "code",
   "execution_count": 160,
   "id": "20bca86d-9ff5-4422-aa12-9cd470555d19",
   "metadata": {
    "tags": []
   },
   "outputs": [
    {
     "data": {
      "text/plain": [
       "12435"
      ]
     },
     "execution_count": 160,
     "metadata": {},
     "output_type": "execute_result"
    }
   ],
   "source": [
    "df_cust_sel.count()"
   ]
  },
  {
   "cell_type": "code",
   "execution_count": 161,
   "id": "cc8d02c7-7f39-4eb6-860f-58eca417f83f",
   "metadata": {
    "tags": []
   },
   "outputs": [
    {
     "data": {
      "text/plain": [
       "68883"
      ]
     },
     "execution_count": 161,
     "metadata": {},
     "output_type": "execute_result"
    }
   ],
   "source": [
    "df_order.count()"
   ]
  },
  {
   "cell_type": "code",
   "execution_count": 149,
   "id": "34af30d6-10c0-4b13-96bc-45bccd8d4c09",
   "metadata": {
    "tags": []
   },
   "outputs": [],
   "source": [
    "df_order = spark.read.orc(\"/user/bigdatapedia/input/orc\")"
   ]
  },
  {
   "cell_type": "code",
   "execution_count": 150,
   "id": "b0afbb83-e5a1-484d-a4f8-64f80ebe3b9f",
   "metadata": {
    "tags": []
   },
   "outputs": [
    {
     "name": "stdout",
     "output_type": "stream",
     "text": [
      "root\n",
      " |-- order_id: integer (nullable = true)\n",
      " |-- order_date: timestamp (nullable = true)\n",
      " |-- order_customer_id: integer (nullable = true)\n",
      " |-- order_status: string (nullable = true)\n",
      "\n"
     ]
    }
   ],
   "source": [
    "df_order.printSchema()"
   ]
  },
  {
   "cell_type": "code",
   "execution_count": 152,
   "id": "d21a3a2f-7782-4a29-8fa5-501e4f032c92",
   "metadata": {
    "tags": []
   },
   "outputs": [],
   "source": [
    "df_cust_sel = df_cust.select(\"customer_id\", \"customer_fname\", \"customer_city\", \"customer_state\")"
   ]
  },
  {
   "cell_type": "code",
   "execution_count": 153,
   "id": "28da56f9-c302-4e4e-9189-7272ecc3aed5",
   "metadata": {
    "tags": []
   },
   "outputs": [],
   "source": [
    "df_inner = df_cust_sel.join(df_order, df_cust_sel.customer_id == df_order.order_customer_id, \"inner\")"
   ]
  },
  {
   "cell_type": "code",
   "execution_count": 154,
   "id": "d774f33f-6d02-4a3f-8184-68831683cae9",
   "metadata": {
    "tags": []
   },
   "outputs": [
    {
     "name": "stderr",
     "output_type": "stream",
     "text": [
      "[Stage 192:>                                                        (0 + 1) / 1]\r"
     ]
    },
    {
     "name": "stdout",
     "output_type": "stream",
     "text": [
      "+-----------+--------------+-------------+--------------+--------+-------------------+-----------------+------------+\n",
      "|customer_id|customer_fname|customer_city|customer_state|order_id|order_date         |order_customer_id|order_status|\n",
      "+-----------+--------------+-------------+--------------+--------+-------------------+-----------------+------------+\n",
      "|148        |Stephanie     |Caguas       |PR            |15061   |2013-10-28 00:00:00|148              |CLOSED      |\n",
      "|148        |Stephanie     |Caguas       |PR            |59569   |2013-10-03 00:00:00|148              |COMPLETE    |\n",
      "|148        |Stephanie     |Caguas       |PR            |61124   |2013-12-02 00:00:00|148              |CLOSED      |\n",
      "|463        |Harry         |Caguas       |PR            |6857    |2013-09-06 00:00:00|463              |COMPLETE    |\n",
      "|463        |Harry         |Caguas       |PR            |14181   |2013-10-22 00:00:00|463              |COMPLETE    |\n",
      "+-----------+--------------+-------------+--------------+--------+-------------------+-----------------+------------+\n",
      "only showing top 5 rows\n",
      "\n"
     ]
    },
    {
     "name": "stderr",
     "output_type": "stream",
     "text": [
      "                                                                                \r"
     ]
    }
   ],
   "source": [
    "df_inner.show(5, 0)"
   ]
  },
  {
   "cell_type": "code",
   "execution_count": 158,
   "id": "2f90abf7-6dea-401e-b344-f9c871933ce6",
   "metadata": {
    "tags": []
   },
   "outputs": [
    {
     "name": "stderr",
     "output_type": "stream",
     "text": [
      "                                                                                \r"
     ]
    },
    {
     "data": {
      "text/plain": [
       "68883"
      ]
     },
     "execution_count": 158,
     "metadata": {},
     "output_type": "execute_result"
    }
   ],
   "source": [
    "df_inner.count()"
   ]
  },
  {
   "cell_type": "markdown",
   "id": "04491b77-72e9-424f-a287-34c6882b43f0",
   "metadata": {},
   "source": [
    "#### 13) Left Join *"
   ]
  },
  {
   "cell_type": "code",
   "execution_count": 155,
   "id": "afcb5c36-e0a0-4c81-bb2f-169eacd9fdf4",
   "metadata": {
    "tags": []
   },
   "outputs": [],
   "source": [
    "df_left = df_cust_sel.join(df_order, df_cust_sel.customer_id == df_order.order_customer_id, \"left\")"
   ]
  },
  {
   "cell_type": "code",
   "execution_count": 157,
   "id": "fad4c7ce-3b68-471b-bc6f-2de867280cb7",
   "metadata": {
    "tags": []
   },
   "outputs": [
    {
     "name": "stdout",
     "output_type": "stream",
     "text": [
      "+-----------+--------------+-------------+--------------+--------+-------------------+-----------------+------------+\n",
      "|customer_id|customer_fname|customer_city|customer_state|order_id|order_date         |order_customer_id|order_status|\n",
      "+-----------+--------------+-------------+--------------+--------+-------------------+-----------------+------------+\n",
      "|148        |Stephanie     |Caguas       |PR            |15061   |2013-10-28 00:00:00|148              |CLOSED      |\n",
      "|148        |Stephanie     |Caguas       |PR            |59569   |2013-10-03 00:00:00|148              |COMPLETE    |\n",
      "|148        |Stephanie     |Caguas       |PR            |61124   |2013-12-02 00:00:00|148              |CLOSED      |\n",
      "|463        |Harry         |Caguas       |PR            |6857    |2013-09-06 00:00:00|463              |COMPLETE    |\n",
      "|463        |Harry         |Caguas       |PR            |14181   |2013-10-22 00:00:00|463              |COMPLETE    |\n",
      "+-----------+--------------+-------------+--------------+--------+-------------------+-----------------+------------+\n",
      "only showing top 5 rows\n",
      "\n"
     ]
    }
   ],
   "source": [
    "df_left.show(5, 0)"
   ]
  },
  {
   "cell_type": "code",
   "execution_count": 159,
   "id": "b7cf0c27-347b-4e14-b6e1-13848ab59693",
   "metadata": {
    "tags": []
   },
   "outputs": [
    {
     "name": "stderr",
     "output_type": "stream",
     "text": [
      "                                                                                \r"
     ]
    },
    {
     "data": {
      "text/plain": [
       "68913"
      ]
     },
     "execution_count": 159,
     "metadata": {},
     "output_type": "execute_result"
    }
   ],
   "source": [
    "df_left.count()"
   ]
  },
  {
   "cell_type": "markdown",
   "id": "4d2b0bbc-53da-4aa5-93a6-4088172957ff",
   "metadata": {},
   "source": [
    "#### 14) Right Join *"
   ]
  },
  {
   "cell_type": "code",
   "execution_count": 165,
   "id": "e8963dd6-72ff-4cf8-a902-099e53a3a32c",
   "metadata": {
    "tags": []
   },
   "outputs": [],
   "source": [
    "df_right = df_cust_sel.join(df_order, df_cust_sel.customer_id == df_order.order_customer_id, \"right\")"
   ]
  },
  {
   "cell_type": "code",
   "execution_count": 166,
   "id": "dfe08e31-29a0-4445-8f83-f4ea7c01e1e5",
   "metadata": {
    "tags": []
   },
   "outputs": [
    {
     "name": "stderr",
     "output_type": "stream",
     "text": [
      "                                                                                \r"
     ]
    },
    {
     "data": {
      "text/plain": [
       "68883"
      ]
     },
     "execution_count": 166,
     "metadata": {},
     "output_type": "execute_result"
    }
   ],
   "source": [
    "df_right.count()"
   ]
  },
  {
   "cell_type": "markdown",
   "id": "386047f6-9eaa-4d73-9c82-3c908dc9da68",
   "metadata": {},
   "source": [
    "#### 15) Full *"
   ]
  },
  {
   "cell_type": "code",
   "execution_count": 167,
   "id": "f791e725-23bf-4608-9cf9-984a754eb222",
   "metadata": {
    "tags": []
   },
   "outputs": [],
   "source": [
    "df_full = df_cust_sel.join(df_order, df_cust_sel.customer_id == df_order.order_customer_id, \"full\")"
   ]
  },
  {
   "cell_type": "code",
   "execution_count": 168,
   "id": "9fa96d6b-c214-470e-bcde-c4fd41378fb0",
   "metadata": {
    "tags": []
   },
   "outputs": [
    {
     "name": "stderr",
     "output_type": "stream",
     "text": [
      "                                                                                \r"
     ]
    },
    {
     "data": {
      "text/plain": [
       "68913"
      ]
     },
     "execution_count": 168,
     "metadata": {},
     "output_type": "execute_result"
    }
   ],
   "source": [
    "df_full.count()"
   ]
  },
  {
   "cell_type": "markdown",
   "id": "b65f364b-a1cb-4398-834d-941c7148b0e0",
   "metadata": {},
   "source": [
    "#### 16) Cartesian *"
   ]
  },
  {
   "cell_type": "code",
   "execution_count": 173,
   "id": "21f52423-4c40-4667-b811-040439e6dd14",
   "metadata": {
    "tags": []
   },
   "outputs": [],
   "source": [
    "df_cartesian = df_cust_sel.crossJoin(df_order)"
   ]
  },
  {
   "cell_type": "code",
   "execution_count": 174,
   "id": "6a54d566-5b57-4643-b8e9-5b260fff031d",
   "metadata": {
    "tags": []
   },
   "outputs": [
    {
     "name": "stderr",
     "output_type": "stream",
     "text": [
      "                                                                                \r"
     ]
    },
    {
     "data": {
      "text/plain": [
       "856560105"
      ]
     },
     "execution_count": 174,
     "metadata": {},
     "output_type": "execute_result"
    }
   ],
   "source": [
    "df_cartesian.count()"
   ]
  },
  {
   "cell_type": "code",
   "execution_count": 175,
   "id": "74219ac3-3c8b-4833-92f4-f1ee8957590b",
   "metadata": {
    "tags": []
   },
   "outputs": [
    {
     "data": {
      "text/plain": [
       "856560105"
      ]
     },
     "execution_count": 175,
     "metadata": {},
     "output_type": "execute_result"
    }
   ],
   "source": [
    "12435 * 68883"
   ]
  },
  {
   "cell_type": "markdown",
   "id": "1568ea34-2b26-4c04-af73-9f3c94082bde",
   "metadata": {},
   "source": [
    "#### 17) Union"
   ]
  },
  {
   "cell_type": "code",
   "execution_count": 176,
   "id": "bc71f732-0067-46df-b045-e13492935235",
   "metadata": {
    "tags": []
   },
   "outputs": [
    {
     "name": "stdout",
     "output_type": "stream",
     "text": [
      "root\n",
      " |-- customer_id: integer (nullable = true)\n",
      " |-- customer_fname: string (nullable = true)\n",
      " |-- customer_city: string (nullable = true)\n",
      " |-- customer_state: string (nullable = true)\n",
      "\n"
     ]
    }
   ],
   "source": [
    "df_cust_sel.printSchema()"
   ]
  },
  {
   "cell_type": "code",
   "execution_count": 177,
   "id": "0bb480f6-b17b-4e8e-8fb4-8ba16b2b27f3",
   "metadata": {
    "tags": []
   },
   "outputs": [],
   "source": [
    "df_filter_onlyTx = df_cust.filter(\"customer_state == 'TX'\")"
   ]
  },
  {
   "cell_type": "code",
   "execution_count": 179,
   "id": "61241cfe-87eb-440a-bf6f-03e62d1d5902",
   "metadata": {
    "tags": []
   },
   "outputs": [
    {
     "data": {
      "text/plain": [
       "635"
      ]
     },
     "execution_count": 179,
     "metadata": {},
     "output_type": "execute_result"
    }
   ],
   "source": [
    "df_filter_onlyTx.count()"
   ]
  },
  {
   "cell_type": "code",
   "execution_count": 178,
   "id": "35e30c1d-69bf-4fe1-bd70-593cd1d3b6d1",
   "metadata": {
    "tags": []
   },
   "outputs": [],
   "source": [
    "df_filter_onlyAR = df_cust.filter(\"customer_state == 'AR'\")"
   ]
  },
  {
   "cell_type": "code",
   "execution_count": 180,
   "id": "75eb7484-c94d-43d3-8560-0d79ee5add35",
   "metadata": {
    "tags": []
   },
   "outputs": [
    {
     "data": {
      "text/plain": [
       "12"
      ]
     },
     "execution_count": 180,
     "metadata": {},
     "output_type": "execute_result"
    }
   ],
   "source": [
    "df_filter_onlyAR.count()"
   ]
  },
  {
   "cell_type": "code",
   "execution_count": 181,
   "id": "2030964d-85fc-4f39-ab43-ed01b5bb7c91",
   "metadata": {
    "tags": []
   },
   "outputs": [],
   "source": [
    "df_union = df_filter_onlyTx.union(df_filter_onlyAR)"
   ]
  },
  {
   "cell_type": "code",
   "execution_count": 182,
   "id": "9675a642-98d8-4f13-bdc7-790978c80ee3",
   "metadata": {
    "tags": []
   },
   "outputs": [
    {
     "data": {
      "text/plain": [
       "647"
      ]
     },
     "execution_count": 182,
     "metadata": {},
     "output_type": "execute_result"
    }
   ],
   "source": [
    "df_union.count()"
   ]
  },
  {
   "cell_type": "markdown",
   "id": "97076c6d-34f6-4bf8-9926-d578dae6df47",
   "metadata": {},
   "source": [
    "#### 18) Intersection *"
   ]
  },
  {
   "cell_type": "code",
   "execution_count": 184,
   "id": "2fbd4244-eef5-4604-8024-b9314d9a5147",
   "metadata": {
    "tags": []
   },
   "outputs": [],
   "source": [
    "df_intersect = df_filter_onlyTx.intersect(df_filter_onlyAR)"
   ]
  },
  {
   "cell_type": "code",
   "execution_count": 185,
   "id": "9951d32b-2544-454b-bf9e-e677ad98ed16",
   "metadata": {
    "tags": []
   },
   "outputs": [
    {
     "name": "stderr",
     "output_type": "stream",
     "text": [
      "                                                                                \r"
     ]
    },
    {
     "data": {
      "text/plain": [
       "0"
      ]
     },
     "execution_count": 185,
     "metadata": {},
     "output_type": "execute_result"
    }
   ],
   "source": [
    "df_intersect.count()"
   ]
  },
  {
   "cell_type": "code",
   "execution_count": null,
   "id": "905c7424-42d5-4758-9189-9f88b4729478",
   "metadata": {},
   "outputs": [],
   "source": []
  },
  {
   "cell_type": "markdown",
   "id": "6a9a0d7b-aeeb-41c2-afb3-46005f7124c5",
   "metadata": {},
   "source": [
    "### Functions"
   ]
  },
  {
   "cell_type": "code",
   "execution_count": 114,
   "id": "a300f720-26ea-4aad-a5d0-b6005045988a",
   "metadata": {
    "tags": []
   },
   "outputs": [],
   "source": [
    "from pyspark.sql.functions import lit, current_timestamp, when, window"
   ]
  },
  {
   "cell_type": "markdown",
   "id": "9b2a125a-a595-42e7-b74b-f0f5c3f60df7",
   "metadata": {},
   "source": [
    "#### 1) Case when"
   ]
  },
  {
   "cell_type": "code",
   "execution_count": 115,
   "id": "b8660d28-955b-4d22-8127-5ed406c377ba",
   "metadata": {
    "tags": []
   },
   "outputs": [
    {
     "name": "stdout",
     "output_type": "stream",
     "text": [
      "+-----------+--------------+-------------+--------------+-----------------------+\n",
      "|customer_id|customer_fname|customer_city|customer_state|cre_ts                 |\n",
      "+-----------+--------------+-------------+--------------+-----------------------+\n",
      "|1          |Richard       |Brownsville  |TX            |2023-07-22 03:27:55.995|\n",
      "|2          |Mary          |Littleton    |CO            |2023-07-22 03:27:55.995|\n",
      "|3          |Ann           |Caguas       |PR            |2023-07-22 03:27:55.995|\n",
      "|4          |Mary          |San Marcos   |CA            |2023-07-22 03:27:55.995|\n",
      "|5          |Robert        |Caguas       |PR            |2023-07-22 03:27:55.995|\n",
      "+-----------+--------------+-------------+--------------+-----------------------+\n",
      "only showing top 5 rows\n",
      "\n"
     ]
    }
   ],
   "source": [
    "df_select.show(5,0)"
   ]
  },
  {
   "cell_type": "code",
   "execution_count": 120,
   "id": "b4f2a6d4-3914-40b0-8782-1f95e655b51b",
   "metadata": {
    "tags": []
   },
   "outputs": [],
   "source": [
    "df_casewhen = df_select.select(\"*\", when(df_select.customer_state == 'TX', \n",
    "                                         \"Texas\").otherwise(\"Non Texas\").alias(\"New_State\"))"
   ]
  },
  {
   "cell_type": "code",
   "execution_count": 121,
   "id": "17ade139-f1d1-4530-810a-4a6d10b385ef",
   "metadata": {
    "tags": []
   },
   "outputs": [
    {
     "name": "stdout",
     "output_type": "stream",
     "text": [
      "+-----------+--------------+-------------+--------------+-----------------------+---------+\n",
      "|customer_id|customer_fname|customer_city|customer_state|cre_ts                 |New_State|\n",
      "+-----------+--------------+-------------+--------------+-----------------------+---------+\n",
      "|1          |Richard       |Brownsville  |TX            |2023-07-22 03:31:07.668|Texas    |\n",
      "|2          |Mary          |Littleton    |CO            |2023-07-22 03:31:07.668|Non Texas|\n",
      "|3          |Ann           |Caguas       |PR            |2023-07-22 03:31:07.668|Non Texas|\n",
      "|4          |Mary          |San Marcos   |CA            |2023-07-22 03:31:07.668|Non Texas|\n",
      "|5          |Robert        |Caguas       |PR            |2023-07-22 03:31:07.668|Non Texas|\n",
      "+-----------+--------------+-------------+--------------+-----------------------+---------+\n",
      "only showing top 5 rows\n",
      "\n"
     ]
    }
   ],
   "source": [
    "df_casewhen.show(5,0)"
   ]
  },
  {
   "cell_type": "markdown",
   "id": "b2f47aa3-f76c-4e77-9c18-d2cdf60ca1db",
   "metadata": {},
   "source": [
    "#### 2) Window"
   ]
  },
  {
   "cell_type": "code",
   "execution_count": 128,
   "id": "c5ce985d-49b8-484f-8967-2ab53a994f20",
   "metadata": {
    "tags": []
   },
   "outputs": [],
   "source": [
    "from pyspark.sql.functions import row_number, rank, dense_rank\n",
    "\n",
    "from pyspark.sql.window import Window"
   ]
  },
  {
   "cell_type": "code",
   "execution_count": 140,
   "id": "047378ad-7b77-4df6-83e5-d2b85370623a",
   "metadata": {
    "tags": []
   },
   "outputs": [],
   "source": [
    "WindowSpec = Window.partitionBy(\"customer_city\").orderBy(\"customer_city\")"
   ]
  },
  {
   "cell_type": "code",
   "execution_count": 141,
   "id": "741f6d78-eeab-4a59-8e61-595766bf12c3",
   "metadata": {
    "tags": []
   },
   "outputs": [],
   "source": [
    "df_rank = df_select.withColumn(\"Ranking\", rank().over(WindowSpec))"
   ]
  },
  {
   "cell_type": "code",
   "execution_count": 142,
   "id": "e2840687-fcf0-4c46-b192-dc847ab92257",
   "metadata": {
    "tags": []
   },
   "outputs": [
    {
     "name": "stdout",
     "output_type": "stream",
     "text": [
      "+-----------+--------------+-------------+--------------+-----------------------+-------+\n",
      "|customer_id|customer_fname|customer_city|customer_state|cre_ts                 |Ranking|\n",
      "+-----------+--------------+-------------+--------------+-----------------------+-------+\n",
      "|147        |Mary          |Hanover      |PA            |2023-07-22 03:40:53.351|1      |\n",
      "|2544       |Mary          |Hanover      |PA            |2023-07-22 03:40:53.351|1      |\n",
      "|2705       |Mary          |Hanover      |PA            |2023-07-22 03:40:53.351|1      |\n",
      "|4650       |Mary          |Hanover      |PA            |2023-07-22 03:40:53.351|1      |\n",
      "|6108       |Emma          |Hanover      |PA            |2023-07-22 03:40:53.351|1      |\n",
      "+-----------+--------------+-------------+--------------+-----------------------+-------+\n",
      "only showing top 5 rows\n",
      "\n"
     ]
    }
   ],
   "source": [
    "df_rank.show(5, 0)"
   ]
  },
  {
   "cell_type": "markdown",
   "id": "ea2d1881-0ef4-48ab-9193-eaca2f5e32a4",
   "metadata": {},
   "source": [
    "### Tomorrow\n",
    "split, concat, month, year, quarter"
   ]
  },
  {
   "cell_type": "code",
   "execution_count": null,
   "id": "d35fcfef-7ecb-43cb-b26d-9b14e58c24ab",
   "metadata": {},
   "outputs": [],
   "source": []
  }
 ],
 "metadata": {
  "kernelspec": {
   "display_name": "PySpark 3",
   "language": "python",
   "name": "pyspark"
  },
  "language_info": {
   "codemirror_mode": {
    "name": "ipython",
    "version": 3
   },
   "file_extension": ".py",
   "mimetype": "text/x-python",
   "name": "python",
   "nbconvert_exporter": "python",
   "pygments_lexer": "ipython3",
   "version": "3.10.12"
  }
 },
 "nbformat": 4,
 "nbformat_minor": 5
}
