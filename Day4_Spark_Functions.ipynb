{
 "cells": [
  {
   "cell_type": "code",
   "execution_count": null,
   "id": "cf598d3d-4e0e-4d1e-9be3-9decf3d61296",
   "metadata": {},
   "outputs": [],
   "source": []
  },
  {
   "cell_type": "markdown",
   "id": "d7241ac8-a43b-4b6e-8366-dd56a6b9a727",
   "metadata": {},
   "source": [
    "# Apache Spark"
   ]
  },
  {
   "cell_type": "code",
   "execution_count": null,
   "id": "5c9e0f3b-27dc-472d-8ef3-5eec948c77bc",
   "metadata": {},
   "outputs": [],
   "source": []
  },
  {
   "cell_type": "markdown",
   "id": "e3743da7-5e07-44cf-8ba5-4d1ac24a8f3b",
   "metadata": {},
   "source": [
    "## Import PySpark"
   ]
  },
  {
   "cell_type": "code",
   "execution_count": 1,
   "id": "2724db46-4088-401e-a86f-723ca3302894",
   "metadata": {
    "tags": []
   },
   "outputs": [],
   "source": [
    "import findspark\n",
    "findspark.init()\n",
    "\n",
    "import pyspark"
   ]
  },
  {
   "cell_type": "markdown",
   "id": "df5eed08-1d22-4706-bc3b-9f7f982b4a37",
   "metadata": {},
   "source": [
    "## Initiate Spark Session with YARN Mode"
   ]
  },
  {
   "cell_type": "code",
   "execution_count": null,
   "id": "4d719212-e022-41ee-85a0-fd60714090b5",
   "metadata": {},
   "outputs": [],
   "source": []
  },
  {
   "cell_type": "code",
   "execution_count": 2,
   "id": "5676abca-f24d-4870-b009-324613cb92ad",
   "metadata": {
    "tags": []
   },
   "outputs": [
    {
     "name": "stdout",
     "output_type": "stream",
     "text": [
      ":: loading settings :: url = jar:file:/home/bigdatapedia/spark/jars/ivy-2.4.0.jar!/org/apache/ivy/core/settings/ivysettings.xml\n"
     ]
    },
    {
     "name": "stderr",
     "output_type": "stream",
     "text": [
      "Ivy Default Cache set to: /home/bigdatapedia/.ivy2/cache\n",
      "The jars for the packages stored in: /home/bigdatapedia/.ivy2/jars\n",
      "org.apache.spark#spark-avro_2.12 added as a dependency\n",
      ":: resolving dependencies :: org.apache.spark#spark-submit-parent-1eafdca0-894e-4c23-baf3-313e2a3fe414;1.0\n",
      "\tconfs: [default]\n",
      "\tfound org.apache.spark#spark-avro_2.12;3.1.2 in central\n",
      "\tfound org.spark-project.spark#unused;1.0.0 in central\n",
      ":: resolution report :: resolve 600ms :: artifacts dl 6ms\n",
      "\t:: modules in use:\n",
      "\torg.apache.spark#spark-avro_2.12;3.1.2 from central in [default]\n",
      "\torg.spark-project.spark#unused;1.0.0 from central in [default]\n",
      "\t---------------------------------------------------------------------\n",
      "\t|                  |            modules            ||   artifacts   |\n",
      "\t|       conf       | number| search|dwnlded|evicted|| number|dwnlded|\n",
      "\t---------------------------------------------------------------------\n",
      "\t|      default     |   2   |   0   |   0   |   0   ||   2   |   0   |\n",
      "\t---------------------------------------------------------------------\n",
      ":: retrieving :: org.apache.spark#spark-submit-parent-1eafdca0-894e-4c23-baf3-313e2a3fe414\n",
      "\tconfs: [default]\n",
      "\t0 artifacts copied, 2 already retrieved (0kB/8ms)\n",
      "Setting default log level to \"WARN\".\n",
      "To adjust logging level use sc.setLogLevel(newLevel). For SparkR, use setLogLevel(newLevel).\n",
      "23/07/23 04:11:25 WARN yarn.Client: Same path resource file:///home/bigdatapedia/.ivy2/jars/org.apache.spark_spark-avro_2.12-3.1.2.jar added multiple times to distributed cache.\n",
      "23/07/23 04:11:25 WARN yarn.Client: Same path resource file:///home/bigdatapedia/.ivy2/jars/org.spark-project.spark_unused-1.0.0.jar added multiple times to distributed cache.\n"
     ]
    }
   ],
   "source": [
    "from pyspark.conf import SparkConf\n",
    "from pyspark.sql.session import SparkSession\n",
    "import pyspark.sql.functions as F\n",
    "\n",
    "conf=SparkConf()\n",
    "conf.set(\"spark.driver.memory\",      \"1g\") \n",
    "conf.set(\"spark.executor.memory\",    \"1g\")\n",
    "conf.set(\"spark.executor.instances\", \"3\" )\n",
    "conf.set(\"spark.jars.packages\", \"org.apache.spark:spark-avro_2.12:3.1.2\")\n",
    "\n",
    "spark = SparkSession.builder.master(\"yarn\").appName(\"Spark BDP Example 1\").enableHiveSupport().config(conf=conf).getOrCreate()"
   ]
  },
  {
   "cell_type": "code",
   "execution_count": 3,
   "id": "64ada451-7eaa-4017-982f-0d86dfb25232",
   "metadata": {
    "tags": []
   },
   "outputs": [
    {
     "data": {
      "text/html": [
       "\n",
       "            <div>\n",
       "                <p><b>SparkSession - hive</b></p>\n",
       "                \n",
       "        <div>\n",
       "            <p><b>SparkContext</b></p>\n",
       "\n",
       "            <p><a href=\"http://jupyter:4040\">Spark UI</a></p>\n",
       "\n",
       "            <dl>\n",
       "              <dt>Version</dt>\n",
       "                <dd><code>v3.1.2</code></dd>\n",
       "              <dt>Master</dt>\n",
       "                <dd><code>yarn</code></dd>\n",
       "              <dt>AppName</dt>\n",
       "                <dd><code>Spark BDP Example 1</code></dd>\n",
       "            </dl>\n",
       "        </div>\n",
       "        \n",
       "            </div>\n",
       "        "
      ],
      "text/plain": [
       "<pyspark.sql.session.SparkSession at 0x7fd26803a470>"
      ]
     },
     "execution_count": 3,
     "metadata": {},
     "output_type": "execute_result"
    }
   ],
   "source": [
    "spark"
   ]
  },
  {
   "cell_type": "raw",
   "id": "dc9484b7-baf3-428b-9c1d-74b2c0b8dbc3",
   "metadata": {},
   "source": [
    "yarn application -kill application_1689991216079_0001"
   ]
  },
  {
   "cell_type": "markdown",
   "id": "0c032f04-89b9-4f88-9895-2419d79a16f8",
   "metadata": {},
   "source": [
    "## Initiate Spark Session with Local Mode"
   ]
  },
  {
   "cell_type": "code",
   "execution_count": null,
   "id": "37d74a02-e00f-460c-a51c-5e21fa5451e5",
   "metadata": {},
   "outputs": [],
   "source": [
    "from pyspark.conf import SparkConf\n",
    "from pyspark.sql.session import SparkSession\n",
    "import pyspark.sql.functions as F\n",
    "\n",
    "spark = SparkSession.builder.master(\"local\").appName(\"Spark BDP Example\").enableHiveSupport().config(conf=conf).getOrCreate()"
   ]
  },
  {
   "cell_type": "code",
   "execution_count": 6,
   "id": "d6b0600f-dd12-4c58-9710-b63b4c28825e",
   "metadata": {
    "tags": []
   },
   "outputs": [
    {
     "data": {
      "text/html": [
       "\n",
       "            <div>\n",
       "                <p><b>SparkSession - hive</b></p>\n",
       "                \n",
       "        <div>\n",
       "            <p><b>SparkContext</b></p>\n",
       "\n",
       "            <p><a href=\"http://jupyter:4040\">Spark UI</a></p>\n",
       "\n",
       "            <dl>\n",
       "              <dt>Version</dt>\n",
       "                <dd><code>v3.1.2</code></dd>\n",
       "              <dt>Master</dt>\n",
       "                <dd><code>yarn</code></dd>\n",
       "              <dt>AppName</dt>\n",
       "                <dd><code>Spark BDP Example</code></dd>\n",
       "            </dl>\n",
       "        </div>\n",
       "        \n",
       "            </div>\n",
       "        "
      ],
      "text/plain": [
       "<pyspark.sql.session.SparkSession at 0x7f7ed01c02e0>"
      ]
     },
     "execution_count": 6,
     "metadata": {},
     "output_type": "execute_result"
    }
   ],
   "source": [
    "spark"
   ]
  },
  {
   "cell_type": "code",
   "execution_count": null,
   "id": "6983082a-def6-4843-bde8-99c354b8d3fa",
   "metadata": {},
   "outputs": [],
   "source": []
  },
  {
   "cell_type": "code",
   "execution_count": null,
   "id": "905c7424-42d5-4758-9189-9f88b4729478",
   "metadata": {},
   "outputs": [],
   "source": []
  },
  {
   "cell_type": "markdown",
   "id": "c35cc586-5416-45a2-a82d-b76ed56aa0f4",
   "metadata": {
    "tags": []
   },
   "source": [
    "### Load Sample data "
   ]
  },
  {
   "cell_type": "code",
   "execution_count": 4,
   "id": "cc0aab75-e00c-4b49-a147-f66719a8e07c",
   "metadata": {
    "tags": []
   },
   "outputs": [],
   "source": [
    "!hdfs dfs -mkdir -p /user/bigdatapedia/input/parquet"
   ]
  },
  {
   "cell_type": "code",
   "execution_count": 5,
   "id": "4b0f89f1-a5aa-4186-b475-c74646aa5547",
   "metadata": {
    "tags": []
   },
   "outputs": [],
   "source": [
    "!hdfs dfs -put /home/bigdatapedia/data/customer_parq.parquet /user/bigdatapedia/input/parquet/"
   ]
  },
  {
   "cell_type": "code",
   "execution_count": 6,
   "id": "ea1d2c38-ee8e-4f8e-85c1-12e863040aa6",
   "metadata": {
    "tags": []
   },
   "outputs": [
    {
     "name": "stdout",
     "output_type": "stream",
     "text": [
      "Found 1 items\n",
      "-rw-r--r--   3 bigdatapedia supergroup     254648 2023-07-23 02:16 /user/bigdatapedia/input/parquet/customer_parq.parquet\n"
     ]
    }
   ],
   "source": [
    "!hdfs dfs -ls /user/bigdatapedia/input/parquet"
   ]
  },
  {
   "cell_type": "code",
   "execution_count": 4,
   "id": "e05fee78-28b8-4f22-bef2-32353509f6c3",
   "metadata": {
    "tags": []
   },
   "outputs": [
    {
     "name": "stderr",
     "output_type": "stream",
     "text": [
      "                                                                                \r"
     ]
    }
   ],
   "source": [
    "df_cust = spark.read.parquet(\"/user/bigdatapedia/input/parquet\")"
   ]
  },
  {
   "cell_type": "code",
   "execution_count": 9,
   "id": "0f730d40-195f-4910-a7a5-e3a06a1b5692",
   "metadata": {
    "tags": []
   },
   "outputs": [
    {
     "name": "stdout",
     "output_type": "stream",
     "text": [
      "root\n",
      " |-- customer_id: integer (nullable = true)\n",
      " |-- customer_fname: string (nullable = true)\n",
      " |-- customer_lname: string (nullable = true)\n",
      " |-- customer_email: string (nullable = true)\n",
      " |-- customer_password: string (nullable = true)\n",
      " |-- customer_street: string (nullable = true)\n",
      " |-- customer_city: string (nullable = true)\n",
      " |-- customer_state: string (nullable = true)\n",
      " |-- customer_zipcode: string (nullable = true)\n",
      "\n"
     ]
    }
   ],
   "source": [
    "df_cust.printSchema()"
   ]
  },
  {
   "cell_type": "code",
   "execution_count": 23,
   "id": "c08f2cb0-6535-4cc7-953e-1306ddaf7361",
   "metadata": {
    "tags": []
   },
   "outputs": [],
   "source": [
    "from pyspark.sql import functions as F\n",
    "\n",
    "\n",
    "df = df_cust.select(\"customer_id\", \"customer_fname\", \"customer_lname\", \"customer_city\", \"customer_state\", F.current_timestamp().alias(\"cre_ts\"))"
   ]
  },
  {
   "cell_type": "code",
   "execution_count": 24,
   "id": "845f3ead-4ea3-4b8b-8a06-4ef97ca8bd1f",
   "metadata": {
    "tags": []
   },
   "outputs": [
    {
     "name": "stdout",
     "output_type": "stream",
     "text": [
      "root\n",
      " |-- customer_id: integer (nullable = true)\n",
      " |-- customer_fname: string (nullable = true)\n",
      " |-- customer_lname: string (nullable = true)\n",
      " |-- customer_city: string (nullable = true)\n",
      " |-- customer_state: string (nullable = true)\n",
      " |-- cre_ts: timestamp (nullable = false)\n",
      "\n"
     ]
    }
   ],
   "source": [
    "df.printSchema()"
   ]
  },
  {
   "cell_type": "code",
   "execution_count": 25,
   "id": "a9ca4b73-247e-45b6-b7e6-95ae639f49c0",
   "metadata": {
    "tags": []
   },
   "outputs": [
    {
     "name": "stdout",
     "output_type": "stream",
     "text": [
      "+-----------+--------------+--------------+-------------+--------------+-----------------------+\n",
      "|customer_id|customer_fname|customer_lname|customer_city|customer_state|cre_ts                 |\n",
      "+-----------+--------------+--------------+-------------+--------------+-----------------------+\n",
      "|1          |Richard       |Hernandez     |Brownsville  |TX            |2023-07-23 02:24:35.581|\n",
      "|2          |Mary          |Barrett       |Littleton    |CO            |2023-07-23 02:24:35.581|\n",
      "|3          |Ann           |Smith         |Caguas       |PR            |2023-07-23 02:24:35.581|\n",
      "|4          |Mary          |Jones         |San Marcos   |CA            |2023-07-23 02:24:35.581|\n",
      "|5          |Robert        |Hudson        |Caguas       |PR            |2023-07-23 02:24:35.581|\n",
      "+-----------+--------------+--------------+-------------+--------------+-----------------------+\n",
      "only showing top 5 rows\n",
      "\n"
     ]
    }
   ],
   "source": [
    "df.show(5, 0)"
   ]
  },
  {
   "cell_type": "markdown",
   "id": "a0fcde4f-b5a0-41dc-8aa6-fa5ca2bae08c",
   "metadata": {},
   "source": [
    "### Actions"
   ]
  },
  {
   "cell_type": "markdown",
   "id": "708f66c8-3e01-4f79-a36d-d1c98c745c6d",
   "metadata": {},
   "source": [
    "#### 1) show"
   ]
  },
  {
   "cell_type": "code",
   "execution_count": 40,
   "id": "9f0c7bc1-b09e-4ddd-83d1-6e95222a7274",
   "metadata": {
    "tags": []
   },
   "outputs": [
    {
     "name": "stdout",
     "output_type": "stream",
     "text": [
      "+-----------+--------------+--------------+-------------+--------------+--------------------+\n",
      "|customer_id|customer_fname|customer_lname|customer_city|customer_state|              cre_ts|\n",
      "+-----------+--------------+--------------+-------------+--------------+--------------------+\n",
      "|          1|       Richard|     Hernandez|  Brownsville|            TX|2023-07-23 02:34:...|\n",
      "|          2|          Mary|       Barrett|    Littleton|            CO|2023-07-23 02:34:...|\n",
      "|          3|           Ann|         Smith|       Caguas|            PR|2023-07-23 02:34:...|\n",
      "|          4|          Mary|         Jones|   San Marcos|            CA|2023-07-23 02:34:...|\n",
      "|          5|        Robert|        Hudson|       Caguas|            PR|2023-07-23 02:34:...|\n",
      "+-----------+--------------+--------------+-------------+--------------+--------------------+\n",
      "only showing top 5 rows\n",
      "\n"
     ]
    }
   ],
   "source": [
    "df.show(5, truncate=True)"
   ]
  },
  {
   "cell_type": "code",
   "execution_count": 41,
   "id": "ba094bec-58a7-4f7f-8f2d-347978de5431",
   "metadata": {
    "tags": []
   },
   "outputs": [
    {
     "name": "stdout",
     "output_type": "stream",
     "text": [
      "+-----------+--------------+--------------+-------------+--------------+-----------------------+\n",
      "|customer_id|customer_fname|customer_lname|customer_city|customer_state|cre_ts                 |\n",
      "+-----------+--------------+--------------+-------------+--------------+-----------------------+\n",
      "|1          |Richard       |Hernandez     |Brownsville  |TX            |2023-07-23 02:35:02.768|\n",
      "|2          |Mary          |Barrett       |Littleton    |CO            |2023-07-23 02:35:02.768|\n",
      "|3          |Ann           |Smith         |Caguas       |PR            |2023-07-23 02:35:02.768|\n",
      "|4          |Mary          |Jones         |San Marcos   |CA            |2023-07-23 02:35:02.768|\n",
      "|5          |Robert        |Hudson        |Caguas       |PR            |2023-07-23 02:35:02.768|\n",
      "+-----------+--------------+--------------+-------------+--------------+-----------------------+\n",
      "only showing top 5 rows\n",
      "\n"
     ]
    }
   ],
   "source": [
    "df.show(5, truncate=False)"
   ]
  },
  {
   "cell_type": "markdown",
   "id": "96122899-1b96-45bd-9519-f00ccc7792bd",
   "metadata": {},
   "source": [
    "#### 2) Collect"
   ]
  },
  {
   "cell_type": "code",
   "execution_count": 42,
   "id": "7f97a39b-2118-4879-99ed-19fce4f50c89",
   "metadata": {
    "tags": []
   },
   "outputs": [
    {
     "data": {
      "text/plain": [
       "[Row(customer_id=1, customer_fname='Richard', customer_lname='Hernandez', customer_city='Brownsville', customer_state='TX', cre_ts=datetime.datetime(2023, 7, 23, 2, 35, 28, 560000)),\n",
       " Row(customer_id=2, customer_fname='Mary', customer_lname='Barrett', customer_city='Littleton', customer_state='CO', cre_ts=datetime.datetime(2023, 7, 23, 2, 35, 28, 560000)),\n",
       " Row(customer_id=3, customer_fname='Ann', customer_lname='Smith', customer_city='Caguas', customer_state='PR', cre_ts=datetime.datetime(2023, 7, 23, 2, 35, 28, 560000)),\n",
       " Row(customer_id=4, customer_fname='Mary', customer_lname='Jones', customer_city='San Marcos', customer_state='CA', cre_ts=datetime.datetime(2023, 7, 23, 2, 35, 28, 560000)),\n",
       " Row(customer_id=5, customer_fname='Robert', customer_lname='Hudson', customer_city='Caguas', customer_state='PR', cre_ts=datetime.datetime(2023, 7, 23, 2, 35, 28, 560000))]"
      ]
     },
     "execution_count": 42,
     "metadata": {},
     "output_type": "execute_result"
    }
   ],
   "source": [
    "df.limit(5).collect()"
   ]
  },
  {
   "cell_type": "markdown",
   "id": "0b38f838-69a8-43bc-bc2d-2812843677a2",
   "metadata": {},
   "source": [
    "#### 3) count"
   ]
  },
  {
   "cell_type": "code",
   "execution_count": 43,
   "id": "eb1f5f4d-b271-406c-bce6-279d1616333c",
   "metadata": {
    "tags": []
   },
   "outputs": [
    {
     "data": {
      "text/plain": [
       "12435"
      ]
     },
     "execution_count": 43,
     "metadata": {},
     "output_type": "execute_result"
    }
   ],
   "source": [
    "df.count()"
   ]
  },
  {
   "cell_type": "markdown",
   "id": "c6c476aa-6ec6-4e44-adfe-7ecc1a9deaed",
   "metadata": {},
   "source": [
    "#### 4) head"
   ]
  },
  {
   "cell_type": "code",
   "execution_count": 44,
   "id": "3bbf250d-fa81-46e3-a599-7e0d3e37caeb",
   "metadata": {
    "tags": []
   },
   "outputs": [
    {
     "data": {
      "text/plain": [
       "Row(customer_id=1, customer_fname='Richard', customer_lname='Hernandez', customer_city='Brownsville', customer_state='TX', cre_ts=datetime.datetime(2023, 7, 23, 2, 37, 10, 683000))"
      ]
     },
     "execution_count": 44,
     "metadata": {},
     "output_type": "execute_result"
    }
   ],
   "source": [
    "df.head()"
   ]
  },
  {
   "cell_type": "markdown",
   "id": "d65e0025-339a-4b63-b962-81bb7e5f452b",
   "metadata": {},
   "source": [
    "#### 5) tail"
   ]
  },
  {
   "cell_type": "code",
   "execution_count": 46,
   "id": "251c1b95-df79-411c-81fd-7f33668c65b7",
   "metadata": {
    "tags": []
   },
   "outputs": [
    {
     "data": {
      "text/plain": [
       "[Row(customer_id=12432, customer_fname='Angela', customer_lname='Smith', customer_city='Caguas', customer_state='PR', cre_ts=datetime.datetime(2023, 7, 23, 2, 36, 25, 933000)),\n",
       " Row(customer_id=12433, customer_fname='Benjamin', customer_lname='Garcia', customer_city='Levittown', customer_state='NY', cre_ts=datetime.datetime(2023, 7, 23, 2, 36, 25, 933000)),\n",
       " Row(customer_id=12434, customer_fname='Mary', customer_lname='Mills', customer_city='Caguas', customer_state='PR', cre_ts=datetime.datetime(2023, 7, 23, 2, 36, 25, 933000)),\n",
       " Row(customer_id=12435, customer_fname='Laura', customer_lname='Horton', customer_city='Summerville', customer_state='SC', cre_ts=datetime.datetime(2023, 7, 23, 2, 36, 25, 933000))]"
      ]
     },
     "execution_count": 46,
     "metadata": {},
     "output_type": "execute_result"
    }
   ],
   "source": [
    "df.tail(4)"
   ]
  },
  {
   "cell_type": "markdown",
   "id": "a7976e57-886e-488b-97d6-6eae8cf04468",
   "metadata": {},
   "source": [
    "#### 6) take"
   ]
  },
  {
   "cell_type": "code",
   "execution_count": 50,
   "id": "943977f3-05ee-467e-aa93-645803a0c732",
   "metadata": {
    "tags": []
   },
   "outputs": [
    {
     "data": {
      "text/plain": [
       "[Row(customer_id=1, customer_fname='Richard', customer_lname='Hernandez', customer_city='Brownsville', customer_state='TX', cre_ts=datetime.datetime(2023, 7, 23, 2, 39, 30, 391000)),\n",
       " Row(customer_id=2, customer_fname='Mary', customer_lname='Barrett', customer_city='Littleton', customer_state='CO', cre_ts=datetime.datetime(2023, 7, 23, 2, 39, 30, 391000)),\n",
       " Row(customer_id=3, customer_fname='Ann', customer_lname='Smith', customer_city='Caguas', customer_state='PR', cre_ts=datetime.datetime(2023, 7, 23, 2, 39, 30, 391000)),\n",
       " Row(customer_id=4, customer_fname='Mary', customer_lname='Jones', customer_city='San Marcos', customer_state='CA', cre_ts=datetime.datetime(2023, 7, 23, 2, 39, 30, 391000)),\n",
       " Row(customer_id=5, customer_fname='Robert', customer_lname='Hudson', customer_city='Caguas', customer_state='PR', cre_ts=datetime.datetime(2023, 7, 23, 2, 39, 30, 391000))]"
      ]
     },
     "execution_count": 50,
     "metadata": {},
     "output_type": "execute_result"
    }
   ],
   "source": [
    "df.take(5)"
   ]
  },
  {
   "cell_type": "markdown",
   "id": "966355ca-6f27-4c4b-9cfb-4253b0629782",
   "metadata": {},
   "source": [
    "#### 7) all write options\n",
    "    (like parquet, ORC, json, etc...)"
   ]
  },
  {
   "cell_type": "code",
   "execution_count": null,
   "id": "f73a2c1a-b956-4412-8d97-067f041ae867",
   "metadata": {},
   "outputs": [],
   "source": []
  },
  {
   "cell_type": "markdown",
   "id": "0d3d5bc3-f653-4318-9c40-38f4ad8548d8",
   "metadata": {},
   "source": [
    "### Dataframe Reader"
   ]
  },
  {
   "cell_type": "markdown",
   "id": "e50fbfb0-6029-43d3-9c76-2cc1a38e5ef0",
   "metadata": {},
   "source": [
    "#### 1) Parquet"
   ]
  },
  {
   "cell_type": "code",
   "execution_count": 50,
   "id": "f366a199-e292-40cb-bf75-ba0899af8b54",
   "metadata": {
    "tags": []
   },
   "outputs": [],
   "source": [
    "df_cust = spark.read.parquet(\"/user/bigdatapedia/input/parquet\")"
   ]
  },
  {
   "cell_type": "code",
   "execution_count": 51,
   "id": "1a123825-2003-4710-a14f-52a9566f43ac",
   "metadata": {
    "tags": []
   },
   "outputs": [
    {
     "name": "stderr",
     "output_type": "stream",
     "text": [
      "[Stage 20:>                                                         (0 + 1) / 1]\r"
     ]
    },
    {
     "name": "stdout",
     "output_type": "stream",
     "text": [
      "+-----------+--------------+--------------+--------------+-----------------+--------------------+-------------+--------------+----------------+\n",
      "|customer_id|customer_fname|customer_lname|customer_email|customer_password|     customer_street|customer_city|customer_state|customer_zipcode|\n",
      "+-----------+--------------+--------------+--------------+-----------------+--------------------+-------------+--------------+----------------+\n",
      "|          1|       Richard|     Hernandez|     XXXXXXXXX|        XXXXXXXXX|  6303 Heather Plaza|  Brownsville|            TX|           78521|\n",
      "|          2|          Mary|       Barrett|     XXXXXXXXX|        XXXXXXXXX|9526 Noble Embers...|    Littleton|            CO|           80126|\n",
      "|          3|           Ann|         Smith|     XXXXXXXXX|        XXXXXXXXX|3422 Blue Pioneer...|       Caguas|            PR|           00725|\n",
      "|          4|          Mary|         Jones|     XXXXXXXXX|        XXXXXXXXX|  8324 Little Common|   San Marcos|            CA|           92069|\n",
      "|          5|        Robert|        Hudson|     XXXXXXXXX|        XXXXXXXXX|10 Crystal River ...|       Caguas|            PR|           00725|\n",
      "+-----------+--------------+--------------+--------------+-----------------+--------------------+-------------+--------------+----------------+\n",
      "only showing top 5 rows\n",
      "\n"
     ]
    },
    {
     "name": "stderr",
     "output_type": "stream",
     "text": [
      "                                                                                \r"
     ]
    }
   ],
   "source": [
    "df_cust.show(5)"
   ]
  },
  {
   "cell_type": "markdown",
   "id": "69958cf5-b517-4831-a5a2-d4ec8a196c05",
   "metadata": {},
   "source": [
    "#### 2) ORC"
   ]
  },
  {
   "cell_type": "code",
   "execution_count": 53,
   "id": "136a432b-624c-4b3f-82da-2827c94d4f84",
   "metadata": {
    "tags": []
   },
   "outputs": [],
   "source": [
    "!hdfs dfs -mkdir -p /user/bigdatapedia/input/orc"
   ]
  },
  {
   "cell_type": "code",
   "execution_count": 54,
   "id": "bb167515-9807-4309-90b1-78da582a3af3",
   "metadata": {
    "tags": []
   },
   "outputs": [],
   "source": [
    "!hdfs dfs -put /home/bigdatapedia/data/new_orders.snappy.orc /user/bigdatapedia/input/orc/"
   ]
  },
  {
   "cell_type": "code",
   "execution_count": 55,
   "id": "2048f8a5-3132-4b69-8296-1c99c6b7bd65",
   "metadata": {
    "tags": []
   },
   "outputs": [
    {
     "name": "stdout",
     "output_type": "stream",
     "text": [
      "Found 1 items\n",
      "-rw-r--r--   3 bigdatapedia supergroup     185892 2023-07-23 02:42 /user/bigdatapedia/input/orc/new_orders.snappy.orc\n"
     ]
    }
   ],
   "source": [
    "!hdfs dfs -ls /user/bigdatapedia/input/orc"
   ]
  },
  {
   "cell_type": "code",
   "execution_count": 56,
   "id": "34af30d6-10c0-4b13-96bc-45bccd8d4c09",
   "metadata": {
    "tags": []
   },
   "outputs": [],
   "source": [
    "df_order = spark.read.orc(\"/user/bigdatapedia/input/orc\")"
   ]
  },
  {
   "cell_type": "code",
   "execution_count": 59,
   "id": "5aeceaff-c3a9-4909-8ea4-bcc4c07203b1",
   "metadata": {
    "tags": []
   },
   "outputs": [
    {
     "name": "stdout",
     "output_type": "stream",
     "text": [
      "root\n",
      " |-- order_id: integer (nullable = true)\n",
      " |-- order_date: timestamp (nullable = true)\n",
      " |-- order_customer_id: integer (nullable = true)\n",
      " |-- order_status: string (nullable = true)\n",
      "\n"
     ]
    }
   ],
   "source": [
    "df_order.printSchema()"
   ]
  },
  {
   "cell_type": "code",
   "execution_count": 58,
   "id": "e31ed8d2-440b-461d-83bf-7eebed390c5c",
   "metadata": {
    "tags": []
   },
   "outputs": [
    {
     "name": "stdout",
     "output_type": "stream",
     "text": [
      "+--------+-------------------+-----------------+---------------+\n",
      "|order_id|order_date         |order_customer_id|order_status   |\n",
      "+--------+-------------------+-----------------+---------------+\n",
      "|1       |2013-07-25 00:00:00|11599            |CLOSED         |\n",
      "|2       |2013-07-25 00:00:00|256              |PENDING_PAYMENT|\n",
      "|3       |2013-07-25 00:00:00|12111            |COMPLETE       |\n",
      "|4       |2013-07-25 00:00:00|8827             |CLOSED         |\n",
      "|5       |2013-07-25 00:00:00|11318            |COMPLETE       |\n",
      "+--------+-------------------+-----------------+---------------+\n",
      "only showing top 5 rows\n",
      "\n"
     ]
    }
   ],
   "source": [
    "df_order.show(5,0)"
   ]
  },
  {
   "cell_type": "markdown",
   "id": "743291a3-0c7c-442b-924a-c786831483a9",
   "metadata": {},
   "source": [
    "#### 3) Avro"
   ]
  },
  {
   "cell_type": "code",
   "execution_count": 60,
   "id": "4649ee91-ccd0-4055-a22c-102223a4c29f",
   "metadata": {
    "tags": []
   },
   "outputs": [],
   "source": [
    "!hdfs dfs -mkdir -p /user/bigdatapedia/input/avro"
   ]
  },
  {
   "cell_type": "code",
   "execution_count": 61,
   "id": "390dd545-60cb-4e71-ac2e-52a926d29f28",
   "metadata": {
    "tags": []
   },
   "outputs": [],
   "source": [
    "!hdfs dfs -put /home/bigdatapedia/data/customers_avro.avro /user/bigdatapedia/input/avro/"
   ]
  },
  {
   "cell_type": "code",
   "execution_count": 62,
   "id": "3ba46afa-5900-47de-b45b-123ed7f5b4f2",
   "metadata": {
    "tags": []
   },
   "outputs": [
    {
     "name": "stdout",
     "output_type": "stream",
     "text": [
      "Found 1 items\n",
      "-rw-r--r--   3 bigdatapedia supergroup    1032497 2023-07-23 02:44 /user/bigdatapedia/input/avro/customers_avro.avro\n"
     ]
    }
   ],
   "source": [
    "!hdfs dfs -ls /user/bigdatapedia/input/avro"
   ]
  },
  {
   "cell_type": "code",
   "execution_count": 4,
   "id": "ed880730-24f5-4b7c-b422-64c194ce3405",
   "metadata": {
    "tags": []
   },
   "outputs": [],
   "source": [
    "df_cust_avro = spark.read.format(\"avro\").load(\"/user/bigdatapedia/input/avro\")"
   ]
  },
  {
   "cell_type": "code",
   "execution_count": 6,
   "id": "08bfe121-d2d5-4cc4-b095-493fd0f175bc",
   "metadata": {
    "tags": []
   },
   "outputs": [
    {
     "name": "stdout",
     "output_type": "stream",
     "text": [
      "root\n",
      " |-- customer_id: integer (nullable = true)\n",
      " |-- customer_fname: string (nullable = true)\n",
      " |-- customer_lname: string (nullable = true)\n",
      " |-- customer_email: string (nullable = true)\n",
      " |-- customer_password: string (nullable = true)\n",
      " |-- customer_street: string (nullable = true)\n",
      " |-- customer_city: string (nullable = true)\n",
      " |-- customer_state: string (nullable = true)\n",
      " |-- customer_zipcode: string (nullable = true)\n",
      "\n"
     ]
    }
   ],
   "source": [
    "df_cust_avro.printSchema()"
   ]
  },
  {
   "cell_type": "code",
   "execution_count": 5,
   "id": "76734420-7d2d-4b17-9eb3-51be54306c1a",
   "metadata": {
    "tags": []
   },
   "outputs": [
    {
     "name": "stderr",
     "output_type": "stream",
     "text": [
      "[Stage 0:>                                                          (0 + 1) / 1]\r"
     ]
    },
    {
     "name": "stdout",
     "output_type": "stream",
     "text": [
      "+-----------+--------------+--------------+--------------+-----------------+-----------------------+-------------+--------------+----------------+\n",
      "|customer_id|customer_fname|customer_lname|customer_email|customer_password|customer_street        |customer_city|customer_state|customer_zipcode|\n",
      "+-----------+--------------+--------------+--------------+-----------------+-----------------------+-------------+--------------+----------------+\n",
      "|1          |Richard       |Hernandez     |XXXXXXXXX     |XXXXXXXXX        |6303 Heather Plaza     |Brownsville  |TX            |78521           |\n",
      "|2          |Mary          |Barrett       |XXXXXXXXX     |XXXXXXXXX        |9526 Noble Embers Ridge|Littleton    |CO            |80126           |\n",
      "|3          |Ann           |Smith         |XXXXXXXXX     |XXXXXXXXX        |3422 Blue Pioneer Bend |Caguas       |PR            |00725           |\n",
      "|4          |Mary          |Jones         |XXXXXXXXX     |XXXXXXXXX        |8324 Little Common     |San Marcos   |CA            |92069           |\n",
      "|5          |Robert        |Hudson        |XXXXXXXXX     |XXXXXXXXX        |10 Crystal River Mall  |Caguas       |PR            |00725           |\n",
      "+-----------+--------------+--------------+--------------+-----------------+-----------------------+-------------+--------------+----------------+\n",
      "only showing top 5 rows\n",
      "\n"
     ]
    },
    {
     "name": "stderr",
     "output_type": "stream",
     "text": [
      "                                                                                \r"
     ]
    }
   ],
   "source": [
    "df_cust_avro.show(5, 0)"
   ]
  },
  {
   "cell_type": "markdown",
   "id": "a90480e7-f92d-4f82-8a84-348f72582e56",
   "metadata": {},
   "source": [
    "#### 4) Json"
   ]
  },
  {
   "cell_type": "code",
   "execution_count": 7,
   "id": "d156a7cb-8674-4677-8575-a8fe57b2689d",
   "metadata": {
    "tags": []
   },
   "outputs": [],
   "source": [
    "!hdfs dfs -mkdir -p /user/bigdatapedia/input/json"
   ]
  },
  {
   "cell_type": "code",
   "execution_count": 8,
   "id": "2380ee2a-2fbf-4218-b91f-d5833c6faa7d",
   "metadata": {
    "tags": []
   },
   "outputs": [],
   "source": [
    "!hdfs dfs -put /home/bigdatapedia/data/complex_JS.json /user/bigdatapedia/input/json/"
   ]
  },
  {
   "cell_type": "code",
   "execution_count": 9,
   "id": "9b345d92-37c2-4e82-a347-dc5a946c91b7",
   "metadata": {
    "tags": []
   },
   "outputs": [
    {
     "name": "stdout",
     "output_type": "stream",
     "text": [
      "Found 1 items\n",
      "-rw-r--r--   3 bigdatapedia supergroup        681 2023-07-23 02:54 /user/bigdatapedia/input/json/complex_JS.json\n"
     ]
    }
   ],
   "source": [
    "!hdfs dfs -ls /user/bigdatapedia/input/json"
   ]
  },
  {
   "cell_type": "code",
   "execution_count": 13,
   "id": "f36bff4c-1966-40ac-b056-c08392ce2b26",
   "metadata": {
    "tags": []
   },
   "outputs": [],
   "source": [
    "df_json = spark.read.json(\"/user/bigdatapedia/input/json\", multiLine=True)"
   ]
  },
  {
   "cell_type": "code",
   "execution_count": 14,
   "id": "6fef26d8-a8cd-4315-9e65-0b27fea681fb",
   "metadata": {
    "tags": []
   },
   "outputs": [
    {
     "name": "stdout",
     "output_type": "stream",
     "text": [
      "root\n",
      " |-- data: array (nullable = true)\n",
      " |    |-- element: struct (containsNull = true)\n",
      " |    |    |-- MainId: long (nullable = true)\n",
      " |    |    |-- categories: array (nullable = true)\n",
      " |    |    |    |-- element: struct (containsNull = true)\n",
      " |    |    |    |    |-- CategoryID: long (nullable = true)\n",
      " |    |    |    |    |-- CategoryName: string (nullable = true)\n",
      " |    |    |    |    |-- categoryFunction: array (nullable = true)\n",
      " |    |    |    |    |    |-- element: struct (containsNull = true)\n",
      " |    |    |    |    |    |    |-- Function1: string (nullable = true)\n",
      " |    |    |    |    |    |    |-- Function2: string (nullable = true)\n",
      " |    |    |-- firstName: string (nullable = true)\n",
      " |    |    |-- lastName: string (nullable = true)\n",
      " |    |    |-- location: string (nullable = true)\n",
      " |    |    |-- middleName: string (nullable = true)\n",
      " |-- messages: array (nullable = true)\n",
      " |    |-- element: string (containsNull = true)\n",
      " |-- success: boolean (nullable = true)\n",
      "\n"
     ]
    }
   ],
   "source": [
    "df_json.printSchema()"
   ]
  },
  {
   "cell_type": "code",
   "execution_count": 15,
   "id": "02c70002-deac-4c14-b579-c33c0260209d",
   "metadata": {
    "tags": []
   },
   "outputs": [
    {
     "name": "stdout",
     "output_type": "stream",
     "text": [
      "+----------------------------------------------------------------------------------------------------------------------------------------------------------------------------------------------------------+--------+-------+\n",
      "|data                                                                                                                                                                                                      |messages|success|\n",
      "+----------------------------------------------------------------------------------------------------------------------------------------------------------------------------------------------------------+--------+-------+\n",
      "|[{1111, [{1, Example, null}], Sherlock, Homes, null, Homes}, {122, [{2, Example2, [{FuntionData1, FuntionData2}]}], James, Watson, null, null}, {123, [{2, Example2, null}], James, null, NewJersy, null}]|[]      |true   |\n",
      "+----------------------------------------------------------------------------------------------------------------------------------------------------------------------------------------------------------+--------+-------+\n",
      "\n"
     ]
    }
   ],
   "source": [
    "df_json.show(5,0)"
   ]
  },
  {
   "cell_type": "code",
   "execution_count": 20,
   "id": "d2cf997c-2f47-4de9-8f1f-a6c8ebcaed01",
   "metadata": {
    "tags": []
   },
   "outputs": [
    {
     "name": "stdout",
     "output_type": "stream",
     "text": [
      "+----------------+--------------------+\n",
      "|             sno|               fname|\n",
      "+----------------+--------------------+\n",
      "|[1111, 122, 123]|[Sherlock, James,...|\n",
      "+----------------+--------------------+\n",
      "\n"
     ]
    }
   ],
   "source": [
    "df_json.select(df_json.data.MainId.alias(\"sno\"),\n",
    "              df_json.data.firstName.alias(\"fname\")).show()"
   ]
  },
  {
   "cell_type": "code",
   "execution_count": 26,
   "id": "b29dec5c-7e8c-4866-94ee-4214f396fa6a",
   "metadata": {
    "tags": []
   },
   "outputs": [
    {
     "name": "stdout",
     "output_type": "stream",
     "text": [
      "+----+------------------------+\n",
      "|sno |fname                   |\n",
      "+----+------------------------+\n",
      "|1111|[Sherlock, James, James]|\n",
      "|122 |[Sherlock, James, James]|\n",
      "|123 |[Sherlock, James, James]|\n",
      "+----+------------------------+\n",
      "\n"
     ]
    }
   ],
   "source": [
    "df_json.select(F.explode(df_json.data.MainId).alias(\"sno\"), df_json.data.firstName.alias(\"fname\")).show(5, 0)"
   ]
  },
  {
   "cell_type": "markdown",
   "id": "0089d5fd-4df5-452c-bca3-21018789a63c",
   "metadata": {},
   "source": [
    "#### 5) csv"
   ]
  },
  {
   "cell_type": "code",
   "execution_count": 27,
   "id": "dd713a4e-4f5e-40b0-a9e3-d3b7aab03aac",
   "metadata": {
    "tags": []
   },
   "outputs": [],
   "source": [
    "!hdfs dfs -mkdir -p /user/bigdatapedia/input/csv"
   ]
  },
  {
   "cell_type": "code",
   "execution_count": 28,
   "id": "0d73642e-a42c-4ddb-b05f-6bcb21f64be9",
   "metadata": {
    "tags": []
   },
   "outputs": [],
   "source": [
    "!hdfs dfs -put /home/bigdatapedia/data/sample_de30_patient.txt /user/bigdatapedia/input/csv/"
   ]
  },
  {
   "cell_type": "code",
   "execution_count": 29,
   "id": "d6e4a934-ed90-4d56-b97f-72bb14a91c45",
   "metadata": {
    "tags": []
   },
   "outputs": [
    {
     "name": "stdout",
     "output_type": "stream",
     "text": [
      "Found 1 items\n",
      "-rw-r--r--   3 bigdatapedia supergroup        298 2023-07-23 03:08 /user/bigdatapedia/input/csv/sample_de30_patient.txt\n"
     ]
    }
   ],
   "source": [
    "!hdfs dfs -ls /user/bigdatapedia/input/csv"
   ]
  },
  {
   "cell_type": "code",
   "execution_count": 30,
   "id": "3adfa26b-1f60-493b-bb9c-b5fbfa0de223",
   "metadata": {
    "tags": []
   },
   "outputs": [
    {
     "name": "stderr",
     "output_type": "stream",
     "text": [
      "                                                                                \r"
     ]
    }
   ],
   "source": [
    "df_csv = spark.read.csv(\"/user/bigdatapedia/input/csv\", \n",
    "                        header = True, \n",
    "                        inferSchema=True)"
   ]
  },
  {
   "cell_type": "code",
   "execution_count": 31,
   "id": "ea3ac210-c74f-43aa-8eb5-5bae557e2eca",
   "metadata": {
    "tags": []
   },
   "outputs": [
    {
     "name": "stdout",
     "output_type": "stream",
     "text": [
      "root\n",
      " |-- id: integer (nullable = true)\n",
      " |-- name: string (nullable = true)\n",
      " |-- drug: string (nullable = true)\n",
      " |-- gender: string (nullable = true)\n",
      " |-- age: integer (nullable = true)\n",
      "\n"
     ]
    }
   ],
   "source": [
    "df_csv.printSchema()"
   ]
  },
  {
   "cell_type": "code",
   "execution_count": 32,
   "id": "06713091-f998-4154-b756-6c52d254a596",
   "metadata": {
    "tags": []
   },
   "outputs": [
    {
     "name": "stdout",
     "output_type": "stream",
     "text": [
      "+---+---------+-----------+------+---+\n",
      "|id |name     |drug       |gender|age|\n",
      "+---+---------+-----------+------+---+\n",
      "|51 |senthil  |paracetamol|male  |12 |\n",
      "|32 |saravanan|avil       |male  |44 |\n",
      "|33 |rajesh   |metacin    |male  |26 |\n",
      "|34 |usha     |paracetamol|female|20 |\n",
      "|25 |alex     |paracetamol|male  |48 |\n",
      "+---+---------+-----------+------+---+\n",
      "only showing top 5 rows\n",
      "\n"
     ]
    }
   ],
   "source": [
    "df_csv.show(5, 0)"
   ]
  },
  {
   "cell_type": "markdown",
   "id": "1bef7b82-408f-4783-816b-bd3037402c6a",
   "metadata": {},
   "source": [
    "#### 6) Hive"
   ]
  },
  {
   "cell_type": "code",
   "execution_count": 41,
   "id": "63edf5b0-27a5-4061-b090-2f87f3f8c44b",
   "metadata": {
    "tags": []
   },
   "outputs": [
    {
     "name": "stderr",
     "output_type": "stream",
     "text": [
      "23/07/23 03:19:01 WARN command.SetCommand: 'SET hive.enable.vectorization=true' might not work, since Spark doesn't support changing the Hive config dynamically. Please pass the Hive-specific config by adding the prefix spark.hadoop (e.g. spark.hadoop.hive.enable.vectorization) when starting a Spark application. For details, see the link: https://spark.apache.org/docs/latest/configuration.html#dynamically-loading-spark-properties.\n"
     ]
    }
   ],
   "source": [
    "spark.sql(\"set hive.enable.vectorization=true;\")\n",
    "\n",
    "df_hive = spark.sql(\"\"\"\n",
    "                        select * from de30t.demo\n",
    "                    \"\"\")"
   ]
  },
  {
   "cell_type": "code",
   "execution_count": 42,
   "id": "b32490f4-80b1-4ed7-9a5b-9f61ea4879d3",
   "metadata": {
    "tags": []
   },
   "outputs": [
    {
     "name": "stdout",
     "output_type": "stream",
     "text": [
      "+---+----+\n",
      "|id |name|\n",
      "+---+----+\n",
      "|1  |a   |\n",
      "|2  |b   |\n",
      "+---+----+\n",
      "\n"
     ]
    }
   ],
   "source": [
    "df_hive.show(5, 0)"
   ]
  },
  {
   "cell_type": "markdown",
   "id": "d72b34ea-8176-485e-8ef1-bf4cb86b4762",
   "metadata": {},
   "source": [
    "### Dataframe Writer"
   ]
  },
  {
   "cell_type": "markdown",
   "id": "f525dd38-ec03-4940-9bbf-d3e31f886982",
   "metadata": {},
   "source": [
    "#### 1) Parquet"
   ]
  },
  {
   "cell_type": "code",
   "execution_count": 52,
   "id": "5cc55b16-ffc1-4500-9ee0-f74cc097d1a9",
   "metadata": {
    "tags": []
   },
   "outputs": [
    {
     "name": "stderr",
     "output_type": "stream",
     "text": [
      "                                                                                \r"
     ]
    }
   ],
   "source": [
    "df_cust.write.parquet(\"/user/bigdatapedia/output/parquet\")"
   ]
  },
  {
   "cell_type": "markdown",
   "id": "b79c12ad-d8d4-4404-833d-4c43e64b3cf3",
   "metadata": {},
   "source": [
    "#### 2) ORC"
   ]
  },
  {
   "cell_type": "code",
   "execution_count": 54,
   "id": "4fc4ef75-0598-4708-8b41-07a9f74e744f",
   "metadata": {
    "tags": []
   },
   "outputs": [
    {
     "name": "stderr",
     "output_type": "stream",
     "text": [
      "                                                                                \r"
     ]
    }
   ],
   "source": [
    "df_cust.write.orc(\"/user/bigdatapedia/output/orc\")"
   ]
  },
  {
   "cell_type": "markdown",
   "id": "ac47a0e3-bfe9-4d25-91ff-20e5e9d0e558",
   "metadata": {},
   "source": [
    "#### 3) Avro"
   ]
  },
  {
   "cell_type": "code",
   "execution_count": 5,
   "id": "335ee85f-78d4-4a2f-9693-9dbf59305d2f",
   "metadata": {
    "tags": []
   },
   "outputs": [
    {
     "name": "stderr",
     "output_type": "stream",
     "text": [
      "                                                                                \r"
     ]
    }
   ],
   "source": [
    "df_cust.write.format(\"avro\").save(\"/user/bigdatapedia/output/avro1\")"
   ]
  },
  {
   "cell_type": "code",
   "execution_count": null,
   "id": "6f812d88-ec03-4f04-8804-adbcfbb1c8f6",
   "metadata": {},
   "outputs": [],
   "source": []
  },
  {
   "cell_type": "markdown",
   "id": "6a9a0d7b-aeeb-41c2-afb3-46005f7124c5",
   "metadata": {},
   "source": [
    "### Functions"
   ]
  },
  {
   "cell_type": "code",
   "execution_count": 114,
   "id": "a300f720-26ea-4aad-a5d0-b6005045988a",
   "metadata": {
    "tags": []
   },
   "outputs": [],
   "source": [
    "from pyspark.sql.functions import lit, current_timestamp, when, window\n",
    "\n",
    "from pyspark.sql import functions as F\n"
   ]
  },
  {
   "cell_type": "markdown",
   "id": "9b2a125a-a595-42e7-b74b-f0f5c3f60df7",
   "metadata": {},
   "source": [
    "#### 1) Case when"
   ]
  },
  {
   "cell_type": "code",
   "execution_count": 115,
   "id": "b8660d28-955b-4d22-8127-5ed406c377ba",
   "metadata": {
    "tags": []
   },
   "outputs": [
    {
     "name": "stdout",
     "output_type": "stream",
     "text": [
      "+-----------+--------------+-------------+--------------+-----------------------+\n",
      "|customer_id|customer_fname|customer_city|customer_state|cre_ts                 |\n",
      "+-----------+--------------+-------------+--------------+-----------------------+\n",
      "|1          |Richard       |Brownsville  |TX            |2023-07-22 03:27:55.995|\n",
      "|2          |Mary          |Littleton    |CO            |2023-07-22 03:27:55.995|\n",
      "|3          |Ann           |Caguas       |PR            |2023-07-22 03:27:55.995|\n",
      "|4          |Mary          |San Marcos   |CA            |2023-07-22 03:27:55.995|\n",
      "|5          |Robert        |Caguas       |PR            |2023-07-22 03:27:55.995|\n",
      "+-----------+--------------+-------------+--------------+-----------------------+\n",
      "only showing top 5 rows\n",
      "\n"
     ]
    }
   ],
   "source": [
    "df_select.show(5,0)"
   ]
  },
  {
   "cell_type": "code",
   "execution_count": 120,
   "id": "b4f2a6d4-3914-40b0-8782-1f95e655b51b",
   "metadata": {
    "tags": []
   },
   "outputs": [],
   "source": [
    "df_casewhen = df_select.select(\"*\", when(df_select.customer_state == 'TX', \n",
    "                                         \"Texas\").otherwise(\"Non Texas\").alias(\"New_State\"))"
   ]
  },
  {
   "cell_type": "code",
   "execution_count": 121,
   "id": "17ade139-f1d1-4530-810a-4a6d10b385ef",
   "metadata": {
    "tags": []
   },
   "outputs": [
    {
     "name": "stdout",
     "output_type": "stream",
     "text": [
      "+-----------+--------------+-------------+--------------+-----------------------+---------+\n",
      "|customer_id|customer_fname|customer_city|customer_state|cre_ts                 |New_State|\n",
      "+-----------+--------------+-------------+--------------+-----------------------+---------+\n",
      "|1          |Richard       |Brownsville  |TX            |2023-07-22 03:31:07.668|Texas    |\n",
      "|2          |Mary          |Littleton    |CO            |2023-07-22 03:31:07.668|Non Texas|\n",
      "|3          |Ann           |Caguas       |PR            |2023-07-22 03:31:07.668|Non Texas|\n",
      "|4          |Mary          |San Marcos   |CA            |2023-07-22 03:31:07.668|Non Texas|\n",
      "|5          |Robert        |Caguas       |PR            |2023-07-22 03:31:07.668|Non Texas|\n",
      "+-----------+--------------+-------------+--------------+-----------------------+---------+\n",
      "only showing top 5 rows\n",
      "\n"
     ]
    }
   ],
   "source": [
    "df_casewhen.show(5,0)"
   ]
  },
  {
   "cell_type": "markdown",
   "id": "b2f47aa3-f76c-4e77-9c18-d2cdf60ca1db",
   "metadata": {},
   "source": [
    "#### 2) Window"
   ]
  },
  {
   "cell_type": "code",
   "execution_count": 128,
   "id": "c5ce985d-49b8-484f-8967-2ab53a994f20",
   "metadata": {
    "tags": []
   },
   "outputs": [],
   "source": [
    "from pyspark.sql.functions import row_number, rank, dense_rank\n",
    "\n",
    "from pyspark.sql.window import Window"
   ]
  },
  {
   "cell_type": "code",
   "execution_count": 140,
   "id": "047378ad-7b77-4df6-83e5-d2b85370623a",
   "metadata": {
    "tags": []
   },
   "outputs": [],
   "source": [
    "WindowSpec = Window.partitionBy(\"customer_city\").orderBy(\"customer_city\")"
   ]
  },
  {
   "cell_type": "code",
   "execution_count": 141,
   "id": "741f6d78-eeab-4a59-8e61-595766bf12c3",
   "metadata": {
    "tags": []
   },
   "outputs": [],
   "source": [
    "df_rank = df_select.withColumn(\"Ranking\", rank().over(WindowSpec))"
   ]
  },
  {
   "cell_type": "code",
   "execution_count": 142,
   "id": "e2840687-fcf0-4c46-b192-dc847ab92257",
   "metadata": {
    "tags": []
   },
   "outputs": [
    {
     "name": "stdout",
     "output_type": "stream",
     "text": [
      "+-----------+--------------+-------------+--------------+-----------------------+-------+\n",
      "|customer_id|customer_fname|customer_city|customer_state|cre_ts                 |Ranking|\n",
      "+-----------+--------------+-------------+--------------+-----------------------+-------+\n",
      "|147        |Mary          |Hanover      |PA            |2023-07-22 03:40:53.351|1      |\n",
      "|2544       |Mary          |Hanover      |PA            |2023-07-22 03:40:53.351|1      |\n",
      "|2705       |Mary          |Hanover      |PA            |2023-07-22 03:40:53.351|1      |\n",
      "|4650       |Mary          |Hanover      |PA            |2023-07-22 03:40:53.351|1      |\n",
      "|6108       |Emma          |Hanover      |PA            |2023-07-22 03:40:53.351|1      |\n",
      "+-----------+--------------+-------------+--------------+-----------------------+-------+\n",
      "only showing top 5 rows\n",
      "\n"
     ]
    }
   ],
   "source": [
    "df_rank.show(5, 0)"
   ]
  },
  {
   "cell_type": "markdown",
   "id": "927fd7b3-c3d8-4f27-b85d-397935c9b71b",
   "metadata": {},
   "source": [
    "#### 3) Split"
   ]
  },
  {
   "cell_type": "code",
   "execution_count": 26,
   "id": "0f59cc62-00d6-48fb-b21c-cba8b481e6eb",
   "metadata": {
    "tags": []
   },
   "outputs": [
    {
     "name": "stdout",
     "output_type": "stream",
     "text": [
      "root\n",
      " |-- customer_id: integer (nullable = true)\n",
      " |-- customer_fname: string (nullable = true)\n",
      " |-- customer_lname: string (nullable = true)\n",
      " |-- customer_city: string (nullable = true)\n",
      " |-- customer_state: string (nullable = true)\n",
      " |-- cre_ts: timestamp (nullable = false)\n",
      " |-- sys_ts: string (nullable = false)\n",
      "\n"
     ]
    }
   ],
   "source": [
    "df_cast = df.selectExpr(\"*\", 'cast(cre_ts as string) as sys_ts')\n",
    "\n",
    "df_cast.printSchema()"
   ]
  },
  {
   "cell_type": "code",
   "execution_count": 27,
   "id": "fd783294-1340-4b28-a521-6889092ea6c8",
   "metadata": {
    "tags": []
   },
   "outputs": [
    {
     "name": "stdout",
     "output_type": "stream",
     "text": [
      "+-----------+--------------+--------------+-------------+--------------+-----------------------+-----------------------+\n",
      "|customer_id|customer_fname|customer_lname|customer_city|customer_state|cre_ts                 |sys_ts                 |\n",
      "+-----------+--------------+--------------+-------------+--------------+-----------------------+-----------------------+\n",
      "|1          |Richard       |Hernandez     |Brownsville  |TX            |2023-07-23 02:24:39.585|2023-07-23 02:24:39.585|\n",
      "|2          |Mary          |Barrett       |Littleton    |CO            |2023-07-23 02:24:39.585|2023-07-23 02:24:39.585|\n",
      "|3          |Ann           |Smith         |Caguas       |PR            |2023-07-23 02:24:39.585|2023-07-23 02:24:39.585|\n",
      "|4          |Mary          |Jones         |San Marcos   |CA            |2023-07-23 02:24:39.585|2023-07-23 02:24:39.585|\n",
      "|5          |Robert        |Hudson        |Caguas       |PR            |2023-07-23 02:24:39.585|2023-07-23 02:24:39.585|\n",
      "+-----------+--------------+--------------+-------------+--------------+-----------------------+-----------------------+\n",
      "only showing top 5 rows\n",
      "\n"
     ]
    }
   ],
   "source": [
    "df_cast.show(5,0)"
   ]
  },
  {
   "cell_type": "code",
   "execution_count": 28,
   "id": "05ef0f94-88f4-4015-9ce4-4af43d0b7ece",
   "metadata": {
    "tags": []
   },
   "outputs": [
    {
     "name": "stdout",
     "output_type": "stream",
     "text": [
      "+-----------+--------------+--------------+-------------+--------------+----------------------+----------------------+----------+-----------+\n",
      "|customer_id|customer_fname|customer_lname|customer_city|customer_state|cre_ts                |sys_ts                |Date_Str  |TS_Str     |\n",
      "+-----------+--------------+--------------+-------------+--------------+----------------------+----------------------+----------+-----------+\n",
      "|1          |Richard       |Hernandez     |Brownsville  |TX            |2023-07-23 02:24:40.18|2023-07-23 02:24:40.18|2023-07-23|02:24:40.18|\n",
      "|2          |Mary          |Barrett       |Littleton    |CO            |2023-07-23 02:24:40.18|2023-07-23 02:24:40.18|2023-07-23|02:24:40.18|\n",
      "|3          |Ann           |Smith         |Caguas       |PR            |2023-07-23 02:24:40.18|2023-07-23 02:24:40.18|2023-07-23|02:24:40.18|\n",
      "|4          |Mary          |Jones         |San Marcos   |CA            |2023-07-23 02:24:40.18|2023-07-23 02:24:40.18|2023-07-23|02:24:40.18|\n",
      "|5          |Robert        |Hudson        |Caguas       |PR            |2023-07-23 02:24:40.18|2023-07-23 02:24:40.18|2023-07-23|02:24:40.18|\n",
      "+-----------+--------------+--------------+-------------+--------------+----------------------+----------------------+----------+-----------+\n",
      "only showing top 5 rows\n",
      "\n"
     ]
    }
   ],
   "source": [
    "df_split = df_cast.select(\"*\", F.split(\"sys_ts\", \" \")[0].alias(\"Date_Str\"), F.split(\"sys_ts\", \" \")[1].alias(\"TS_Str\"))\n",
    "\n",
    "df_split.show(5,0)"
   ]
  },
  {
   "cell_type": "markdown",
   "id": "97d177e6-5637-42ae-b7ff-a3f07bd350e5",
   "metadata": {},
   "source": [
    "#### 4) Concat"
   ]
  },
  {
   "cell_type": "code",
   "execution_count": 32,
   "id": "dcbfd944-7dad-4bbd-b20b-f483809ffe9e",
   "metadata": {
    "tags": []
   },
   "outputs": [
    {
     "name": "stdout",
     "output_type": "stream",
     "text": [
      "root\n",
      " |-- customer_id: integer (nullable = true)\n",
      " |-- customer_fname: string (nullable = true)\n",
      " |-- customer_lname: string (nullable = true)\n",
      " |-- customer_city: string (nullable = true)\n",
      " |-- customer_state: string (nullable = true)\n",
      " |-- cre_ts: timestamp (nullable = false)\n",
      " |-- sys_ts: string (nullable = false)\n",
      " |-- customer_full: string (nullable = true)\n",
      "\n"
     ]
    }
   ],
   "source": [
    "df_concat = df_cast.select(\"*\", F.concat(\"customer_fname\", F.lit(\" \") ,\"customer_lname\").alias(\"customer_full\"))\n",
    "df_concat.printSchema()"
   ]
  },
  {
   "cell_type": "code",
   "execution_count": 33,
   "id": "5043e348-963a-44f0-a407-b2be6e80ccc8",
   "metadata": {
    "tags": []
   },
   "outputs": [
    {
     "name": "stdout",
     "output_type": "stream",
     "text": [
      "+-----------+--------------+--------------+-------------+--------------+----------------------+----------------------+-----------------+\n",
      "|customer_id|customer_fname|customer_lname|customer_city|customer_state|cre_ts                |sys_ts                |customer_full    |\n",
      "+-----------+--------------+--------------+-------------+--------------+----------------------+----------------------+-----------------+\n",
      "|1          |Richard       |Hernandez     |Brownsville  |TX            |2023-07-23 02:26:31.75|2023-07-23 02:26:31.75|Richard Hernandez|\n",
      "|2          |Mary          |Barrett       |Littleton    |CO            |2023-07-23 02:26:31.75|2023-07-23 02:26:31.75|Mary Barrett     |\n",
      "|3          |Ann           |Smith         |Caguas       |PR            |2023-07-23 02:26:31.75|2023-07-23 02:26:31.75|Ann Smith        |\n",
      "|4          |Mary          |Jones         |San Marcos   |CA            |2023-07-23 02:26:31.75|2023-07-23 02:26:31.75|Mary Jones       |\n",
      "|5          |Robert        |Hudson        |Caguas       |PR            |2023-07-23 02:26:31.75|2023-07-23 02:26:31.75|Robert Hudson    |\n",
      "+-----------+--------------+--------------+-------------+--------------+----------------------+----------------------+-----------------+\n",
      "only showing top 5 rows\n",
      "\n"
     ]
    }
   ],
   "source": [
    "df_concat.show(5,0)"
   ]
  },
  {
   "cell_type": "code",
   "execution_count": 37,
   "id": "e55fcfed-a7aa-4141-b241-cb7c826c2426",
   "metadata": {
    "tags": []
   },
   "outputs": [
    {
     "name": "stdout",
     "output_type": "stream",
     "text": [
      "root\n",
      " |-- customer_id: integer (nullable = true)\n",
      " |-- customer_fname: string (nullable = true)\n",
      " |-- customer_lname: string (nullable = true)\n",
      " |-- customer_city: string (nullable = true)\n",
      " |-- customer_state: string (nullable = true)\n",
      " |-- cre_ts: timestamp (nullable = false)\n",
      " |-- sys_ts: string (nullable = false)\n",
      " |-- customer_full: string (nullable = true)\n",
      "\n"
     ]
    }
   ],
   "source": [
    "df_concat = df_cast.select(\"*\", F.concat(\"customer_fname\", F.coalesce(F.lit(\" \"), F.lit(\"Null\") ,\"customer_lname\")).alias(\"customer_full\"))\n",
    "df_concat.printSchema()"
   ]
  },
  {
   "cell_type": "markdown",
   "id": "3a4c8a9f-bb98-4b85-832d-c0625df27cb8",
   "metadata": {},
   "source": [
    "#### 5) Month"
   ]
  },
  {
   "cell_type": "code",
   "execution_count": 38,
   "id": "494ff566-5800-40ca-8a69-c551ca76c8c9",
   "metadata": {
    "tags": []
   },
   "outputs": [
    {
     "name": "stdout",
     "output_type": "stream",
     "text": [
      "+-----------+--------------+--------------+-------------+--------------+-----------------------+-----+\n",
      "|customer_id|customer_fname|customer_lname|customer_city|customer_state|cre_ts                 |Month|\n",
      "+-----------+--------------+--------------+-------------+--------------+-----------------------+-----+\n",
      "|1          |Richard       |Hernandez     |Brownsville  |TX            |2023-07-23 02:31:19.205|7    |\n",
      "|2          |Mary          |Barrett       |Littleton    |CO            |2023-07-23 02:31:19.205|7    |\n",
      "|3          |Ann           |Smith         |Caguas       |PR            |2023-07-23 02:31:19.205|7    |\n",
      "|4          |Mary          |Jones         |San Marcos   |CA            |2023-07-23 02:31:19.205|7    |\n",
      "|5          |Robert        |Hudson        |Caguas       |PR            |2023-07-23 02:31:19.205|7    |\n",
      "+-----------+--------------+--------------+-------------+--------------+-----------------------+-----+\n",
      "only showing top 5 rows\n",
      "\n"
     ]
    }
   ],
   "source": [
    "df_month = df.select(\"*\",F.month(\"cre_ts\").alias(\"Month\"))\n",
    "                     \n",
    "df_month.show(5,0)             "
   ]
  },
  {
   "cell_type": "code",
   "execution_count": 39,
   "id": "5183e0d1-b261-441b-9c58-9fc307b56a1b",
   "metadata": {
    "tags": []
   },
   "outputs": [
    {
     "name": "stdout",
     "output_type": "stream",
     "text": [
      "+-----------+--------------+--------------+-------------+--------------+-----------------------+-----+\n",
      "|customer_id|customer_fname|customer_lname|customer_city|customer_state|cre_ts                 |Month|\n",
      "+-----------+--------------+--------------+-------------+--------------+-----------------------+-----+\n",
      "|1          |Richard       |Hernandez     |Brownsville  |TX            |2023-07-23 02:31:38.435|2023 |\n",
      "|2          |Mary          |Barrett       |Littleton    |CO            |2023-07-23 02:31:38.435|2023 |\n",
      "|3          |Ann           |Smith         |Caguas       |PR            |2023-07-23 02:31:38.435|2023 |\n",
      "|4          |Mary          |Jones         |San Marcos   |CA            |2023-07-23 02:31:38.435|2023 |\n",
      "|5          |Robert        |Hudson        |Caguas       |PR            |2023-07-23 02:31:38.435|2023 |\n",
      "+-----------+--------------+--------------+-------------+--------------+-----------------------+-----+\n",
      "only showing top 5 rows\n",
      "\n"
     ]
    }
   ],
   "source": [
    "df_year = df.select(\"*\",F.year(\"cre_ts\").alias(\"Month\"))\n",
    "                     \n",
    "df_year.show(5,0)             "
   ]
  },
  {
   "cell_type": "markdown",
   "id": "fa97a0de-8b0e-408c-87c6-73e6dccb1971",
   "metadata": {},
   "source": [
    "#### 6) Explode"
   ]
  },
  {
   "cell_type": "code",
   "execution_count": 19,
   "id": "d35fcfef-7ecb-43cb-b26d-9b14e58c24ab",
   "metadata": {
    "tags": []
   },
   "outputs": [
    {
     "name": "stderr",
     "output_type": "stream",
     "text": [
      "[Stage 5:>                                                          (0 + 1) / 1]\r"
     ]
    },
    {
     "name": "stdout",
     "output_type": "stream",
     "text": [
      "+----+\n",
      "| sno|\n",
      "+----+\n",
      "|1111|\n",
      "| 122|\n",
      "| 123|\n",
      "+----+\n",
      "\n"
     ]
    },
    {
     "name": "stderr",
     "output_type": "stream",
     "text": [
      "                                                                                \r"
     ]
    }
   ],
   "source": [
    "df_json.select(F.explode(df_json.data.MainId).alias(\"sno\")).show()"
   ]
  },
  {
   "cell_type": "code",
   "execution_count": null,
   "id": "778aa564-f2dc-4041-9c0a-7fabefa55294",
   "metadata": {},
   "outputs": [],
   "source": []
  }
 ],
 "metadata": {
  "kernelspec": {
   "display_name": "PySpark 3",
   "language": "python",
   "name": "pyspark"
  },
  "language_info": {
   "codemirror_mode": {
    "name": "ipython",
    "version": 3
   },
   "file_extension": ".py",
   "mimetype": "text/x-python",
   "name": "python",
   "nbconvert_exporter": "python",
   "pygments_lexer": "ipython3",
   "version": "3.10.12"
  }
 },
 "nbformat": 4,
 "nbformat_minor": 5
}
